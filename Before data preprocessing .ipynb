{
 "cells": [
  {
   "cell_type": "code",
   "execution_count": 1,
   "id": "909e0bd2-22c6-4387-8168-23651bd0ee80",
   "metadata": {},
   "outputs": [],
   "source": [
    "import pandas as pd \n",
    "import numpy as np\n",
    "import matplotlib .pyplot as plt \n",
    "import seaborn as sns"
   ]
  },
  {
   "cell_type": "code",
   "execution_count": 2,
   "id": "2d992c64-72f3-4314-9658-32748c07090d",
   "metadata": {},
   "outputs": [],
   "source": [
    "df=pd.read_csv(r\"D:\\Project 360DiGITMG\\Datasets\\Modified_Glass_Manufacturing_Energy_Optimization.csv\")"
   ]
  },
  {
   "cell_type": "code",
   "execution_count": 3,
   "id": "1f122947-d559-4dcf-8c2b-dfb8cfed63b5",
   "metadata": {},
   "outputs": [
    {
     "data": {
      "text/html": [
       "<div>\n",
       "<style scoped>\n",
       "    .dataframe tbody tr th:only-of-type {\n",
       "        vertical-align: middle;\n",
       "    }\n",
       "\n",
       "    .dataframe tbody tr th {\n",
       "        vertical-align: top;\n",
       "    }\n",
       "\n",
       "    .dataframe thead th {\n",
       "        text-align: right;\n",
       "    }\n",
       "</style>\n",
       "<table border=\"1\" class=\"dataframe\">\n",
       "  <thead>\n",
       "    <tr style=\"text-align: right;\">\n",
       "      <th></th>\n",
       "      <th>Date</th>\n",
       "      <th>Shift</th>\n",
       "      <th>Furnace_ID</th>\n",
       "      <th>Furnace_Type</th>\n",
       "      <th>Batch_Type</th>\n",
       "      <th>Production_Output (tons)</th>\n",
       "      <th>Energy_Consumption (kWh)</th>\n",
       "      <th>Furnace_Temperature (°C)</th>\n",
       "      <th>Annealing_Time (hrs)</th>\n",
       "      <th>Downtime (hrs)</th>\n",
       "      <th>Ambient_Temperature (°C)</th>\n",
       "      <th>Recycled_Content (%)</th>\n",
       "      <th>Energy_Rating</th>\n",
       "      <th>Maintenance_Flag</th>\n",
       "      <th>Fuel_Type</th>\n",
       "      <th>Glass_Thickness (mm)</th>\n",
       "      <th>Production_Target (tons)</th>\n",
       "      <th>Defects_Percentage (%)</th>\n",
       "      <th>Melting_Time (hrs)</th>\n",
       "      <th>Cooling_Energy (kWh)</th>\n",
       "    </tr>\n",
       "  </thead>\n",
       "  <tbody>\n",
       "    <tr>\n",
       "      <th>0</th>\n",
       "      <td>01-01-2023 0.00</td>\n",
       "      <td>Morning</td>\n",
       "      <td>Furnace_1</td>\n",
       "      <td>Electric</td>\n",
       "      <td>Borosilicate</td>\n",
       "      <td>107.35</td>\n",
       "      <td>3288.96</td>\n",
       "      <td>1468.9</td>\n",
       "      <td>30.80</td>\n",
       "      <td>4.19</td>\n",
       "      <td>16.7</td>\n",
       "      <td>56.0</td>\n",
       "      <td>B</td>\n",
       "      <td>No</td>\n",
       "      <td>Natural Gas</td>\n",
       "      <td>9.79</td>\n",
       "      <td>57.77</td>\n",
       "      <td>5.55</td>\n",
       "      <td>21.9</td>\n",
       "      <td>258.78</td>\n",
       "    </tr>\n",
       "    <tr>\n",
       "      <th>1</th>\n",
       "      <td>01-01-2023 1.00</td>\n",
       "      <td>Afternoon</td>\n",
       "      <td>Furnace_6</td>\n",
       "      <td>Hybrid</td>\n",
       "      <td>Soda-lime</td>\n",
       "      <td>43.51</td>\n",
       "      <td>4867.96</td>\n",
       "      <td>1445.2</td>\n",
       "      <td>3.68</td>\n",
       "      <td>4.74</td>\n",
       "      <td>19.4</td>\n",
       "      <td>NaN</td>\n",
       "      <td>A</td>\n",
       "      <td>Yes</td>\n",
       "      <td>Electricity</td>\n",
       "      <td>3.45</td>\n",
       "      <td>126.89</td>\n",
       "      <td>0.48</td>\n",
       "      <td>14.0</td>\n",
       "      <td>707.82</td>\n",
       "    </tr>\n",
       "    <tr>\n",
       "      <th>2</th>\n",
       "      <td>01-01-2023 2.00</td>\n",
       "      <td>Night</td>\n",
       "      <td>Furnace_9</td>\n",
       "      <td>Gas</td>\n",
       "      <td>Lead</td>\n",
       "      <td>37.79</td>\n",
       "      <td>3347.15</td>\n",
       "      <td>1486.8</td>\n",
       "      <td>2.48</td>\n",
       "      <td>2.88</td>\n",
       "      <td>20.6</td>\n",
       "      <td>61.0</td>\n",
       "      <td>B</td>\n",
       "      <td>No</td>\n",
       "      <td>Electricity</td>\n",
       "      <td>8.35</td>\n",
       "      <td>173.87</td>\n",
       "      <td>2.54</td>\n",
       "      <td>11.9</td>\n",
       "      <td>743.58</td>\n",
       "    </tr>\n",
       "    <tr>\n",
       "      <th>3</th>\n",
       "      <td>01-01-2023 3.00</td>\n",
       "      <td>Afternoon</td>\n",
       "      <td>Furnace_9</td>\n",
       "      <td>Gas</td>\n",
       "      <td>Soda-lime</td>\n",
       "      <td>77.12</td>\n",
       "      <td>2829.63</td>\n",
       "      <td>1626.8</td>\n",
       "      <td>1.90</td>\n",
       "      <td>2.41</td>\n",
       "      <td>22.6</td>\n",
       "      <td>51.0</td>\n",
       "      <td>A</td>\n",
       "      <td>No</td>\n",
       "      <td>Natural Gas</td>\n",
       "      <td>10.00</td>\n",
       "      <td>108.02</td>\n",
       "      <td>5.96</td>\n",
       "      <td>11.1</td>\n",
       "      <td>421.00</td>\n",
       "    </tr>\n",
       "    <tr>\n",
       "      <th>4</th>\n",
       "      <td>01-01-2023 4.00</td>\n",
       "      <td>Morning</td>\n",
       "      <td>Furnace_6</td>\n",
       "      <td>Electric</td>\n",
       "      <td>Soda-lime</td>\n",
       "      <td>169.49</td>\n",
       "      <td>3935.36</td>\n",
       "      <td>1593.9</td>\n",
       "      <td>3.81</td>\n",
       "      <td>43.40</td>\n",
       "      <td>31.4</td>\n",
       "      <td>NaN</td>\n",
       "      <td>B</td>\n",
       "      <td>Yes</td>\n",
       "      <td>Natural Gas</td>\n",
       "      <td>8.60</td>\n",
       "      <td>77.60</td>\n",
       "      <td>NaN</td>\n",
       "      <td>12.2</td>\n",
       "      <td>275.03</td>\n",
       "    </tr>\n",
       "    <tr>\n",
       "      <th>...</th>\n",
       "      <td>...</td>\n",
       "      <td>...</td>\n",
       "      <td>...</td>\n",
       "      <td>...</td>\n",
       "      <td>...</td>\n",
       "      <td>...</td>\n",
       "      <td>...</td>\n",
       "      <td>...</td>\n",
       "      <td>...</td>\n",
       "      <td>...</td>\n",
       "      <td>...</td>\n",
       "      <td>...</td>\n",
       "      <td>...</td>\n",
       "      <td>...</td>\n",
       "      <td>...</td>\n",
       "      <td>...</td>\n",
       "      <td>...</td>\n",
       "      <td>...</td>\n",
       "      <td>...</td>\n",
       "      <td>...</td>\n",
       "    </tr>\n",
       "    <tr>\n",
       "      <th>995</th>\n",
       "      <td>11-02-2023 11.00</td>\n",
       "      <td>Afternoon</td>\n",
       "      <td>Furnace_1</td>\n",
       "      <td>Electric</td>\n",
       "      <td>Borosilicate</td>\n",
       "      <td>99.97</td>\n",
       "      <td>952.61</td>\n",
       "      <td>1540.3</td>\n",
       "      <td>2.02</td>\n",
       "      <td>0.17</td>\n",
       "      <td>32.2</td>\n",
       "      <td>NaN</td>\n",
       "      <td>C</td>\n",
       "      <td>Yes</td>\n",
       "      <td>Electricity</td>\n",
       "      <td>11.73</td>\n",
       "      <td>197.89</td>\n",
       "      <td>9.10</td>\n",
       "      <td>11.9</td>\n",
       "      <td>916.04</td>\n",
       "    </tr>\n",
       "    <tr>\n",
       "      <th>996</th>\n",
       "      <td>11-02-2023 12.00</td>\n",
       "      <td>Night</td>\n",
       "      <td>Furnace_10</td>\n",
       "      <td>Gas</td>\n",
       "      <td>Lead</td>\n",
       "      <td>24.38</td>\n",
       "      <td>4561.59</td>\n",
       "      <td>1413.5</td>\n",
       "      <td>2.27</td>\n",
       "      <td>0.33</td>\n",
       "      <td>38.2</td>\n",
       "      <td>22.0</td>\n",
       "      <td>C</td>\n",
       "      <td>No</td>\n",
       "      <td>Electricity</td>\n",
       "      <td>12.89</td>\n",
       "      <td>174.79</td>\n",
       "      <td>2.02</td>\n",
       "      <td>NaN</td>\n",
       "      <td>614.99</td>\n",
       "    </tr>\n",
       "    <tr>\n",
       "      <th>997</th>\n",
       "      <td>11-02-2023 13.00</td>\n",
       "      <td>Night</td>\n",
       "      <td>Furnace_7</td>\n",
       "      <td>Electric</td>\n",
       "      <td>Borosilicate</td>\n",
       "      <td>169.78</td>\n",
       "      <td>2291.86</td>\n",
       "      <td>1531.4</td>\n",
       "      <td>2.56</td>\n",
       "      <td>1.59</td>\n",
       "      <td>39.4</td>\n",
       "      <td>NaN</td>\n",
       "      <td>B</td>\n",
       "      <td>Yes</td>\n",
       "      <td>Natural Gas</td>\n",
       "      <td>11.50</td>\n",
       "      <td>31.21</td>\n",
       "      <td>6.18</td>\n",
       "      <td>18.1</td>\n",
       "      <td>926.40</td>\n",
       "    </tr>\n",
       "    <tr>\n",
       "      <th>998</th>\n",
       "      <td>11-02-2023 14.00</td>\n",
       "      <td>Morning</td>\n",
       "      <td>Furnace_2</td>\n",
       "      <td>Gas</td>\n",
       "      <td>Soda-lime</td>\n",
       "      <td>133.30</td>\n",
       "      <td>4101.09</td>\n",
       "      <td>1555.7</td>\n",
       "      <td>3.70</td>\n",
       "      <td>4.08</td>\n",
       "      <td>35.2</td>\n",
       "      <td>31.0</td>\n",
       "      <td>C</td>\n",
       "      <td>Yes</td>\n",
       "      <td>Natural Gas</td>\n",
       "      <td>3.95</td>\n",
       "      <td>173.51</td>\n",
       "      <td>5.18</td>\n",
       "      <td>12.5</td>\n",
       "      <td>686.49</td>\n",
       "    </tr>\n",
       "    <tr>\n",
       "      <th>999</th>\n",
       "      <td>11-02-2023 15.00</td>\n",
       "      <td>Morning</td>\n",
       "      <td>Furnace_7</td>\n",
       "      <td>Gas</td>\n",
       "      <td>Lead</td>\n",
       "      <td>50.11</td>\n",
       "      <td>2495.32</td>\n",
       "      <td>1567.3</td>\n",
       "      <td>0.92</td>\n",
       "      <td>2.85</td>\n",
       "      <td>31.4</td>\n",
       "      <td>30.0</td>\n",
       "      <td>C</td>\n",
       "      <td>No</td>\n",
       "      <td>Electricity</td>\n",
       "      <td>6.43</td>\n",
       "      <td>44.21</td>\n",
       "      <td>1.70</td>\n",
       "      <td>15.4</td>\n",
       "      <td>8428.30</td>\n",
       "    </tr>\n",
       "  </tbody>\n",
       "</table>\n",
       "<p>1000 rows × 20 columns</p>\n",
       "</div>"
      ],
      "text/plain": [
       "                 Date      Shift  Furnace_ID Furnace_Type    Batch_Type  \\\n",
       "0     01-01-2023 0.00    Morning   Furnace_1     Electric  Borosilicate   \n",
       "1     01-01-2023 1.00  Afternoon   Furnace_6       Hybrid     Soda-lime   \n",
       "2     01-01-2023 2.00      Night   Furnace_9          Gas          Lead   \n",
       "3     01-01-2023 3.00  Afternoon   Furnace_9          Gas     Soda-lime   \n",
       "4     01-01-2023 4.00    Morning   Furnace_6     Electric     Soda-lime   \n",
       "..                ...        ...         ...          ...           ...   \n",
       "995  11-02-2023 11.00  Afternoon   Furnace_1     Electric  Borosilicate   \n",
       "996  11-02-2023 12.00      Night  Furnace_10          Gas          Lead   \n",
       "997  11-02-2023 13.00      Night   Furnace_7     Electric  Borosilicate   \n",
       "998  11-02-2023 14.00    Morning   Furnace_2          Gas     Soda-lime   \n",
       "999  11-02-2023 15.00    Morning   Furnace_7          Gas          Lead   \n",
       "\n",
       "     Production_Output (tons)  Energy_Consumption (kWh)  \\\n",
       "0                      107.35                   3288.96   \n",
       "1                       43.51                   4867.96   \n",
       "2                       37.79                   3347.15   \n",
       "3                       77.12                   2829.63   \n",
       "4                      169.49                   3935.36   \n",
       "..                        ...                       ...   \n",
       "995                     99.97                    952.61   \n",
       "996                     24.38                   4561.59   \n",
       "997                    169.78                   2291.86   \n",
       "998                    133.30                   4101.09   \n",
       "999                     50.11                   2495.32   \n",
       "\n",
       "     Furnace_Temperature (°C)  Annealing_Time (hrs)  Downtime (hrs)  \\\n",
       "0                      1468.9                 30.80            4.19   \n",
       "1                      1445.2                  3.68            4.74   \n",
       "2                      1486.8                  2.48            2.88   \n",
       "3                      1626.8                  1.90            2.41   \n",
       "4                      1593.9                  3.81           43.40   \n",
       "..                        ...                   ...             ...   \n",
       "995                    1540.3                  2.02            0.17   \n",
       "996                    1413.5                  2.27            0.33   \n",
       "997                    1531.4                  2.56            1.59   \n",
       "998                    1555.7                  3.70            4.08   \n",
       "999                    1567.3                  0.92            2.85   \n",
       "\n",
       "     Ambient_Temperature (°C)  Recycled_Content (%) Energy_Rating  \\\n",
       "0                        16.7                  56.0             B   \n",
       "1                        19.4                   NaN             A   \n",
       "2                        20.6                  61.0             B   \n",
       "3                        22.6                  51.0             A   \n",
       "4                        31.4                   NaN             B   \n",
       "..                        ...                   ...           ...   \n",
       "995                      32.2                   NaN             C   \n",
       "996                      38.2                  22.0             C   \n",
       "997                      39.4                   NaN             B   \n",
       "998                      35.2                  31.0             C   \n",
       "999                      31.4                  30.0             C   \n",
       "\n",
       "    Maintenance_Flag    Fuel_Type  Glass_Thickness (mm)  \\\n",
       "0                 No  Natural Gas                  9.79   \n",
       "1                Yes  Electricity                  3.45   \n",
       "2                 No  Electricity                  8.35   \n",
       "3                 No  Natural Gas                 10.00   \n",
       "4                Yes  Natural Gas                  8.60   \n",
       "..               ...          ...                   ...   \n",
       "995              Yes  Electricity                 11.73   \n",
       "996               No  Electricity                 12.89   \n",
       "997              Yes  Natural Gas                 11.50   \n",
       "998              Yes  Natural Gas                  3.95   \n",
       "999               No  Electricity                  6.43   \n",
       "\n",
       "     Production_Target (tons)  Defects_Percentage (%)  Melting_Time (hrs)  \\\n",
       "0                       57.77                    5.55                21.9   \n",
       "1                      126.89                    0.48                14.0   \n",
       "2                      173.87                    2.54                11.9   \n",
       "3                      108.02                    5.96                11.1   \n",
       "4                       77.60                     NaN                12.2   \n",
       "..                        ...                     ...                 ...   \n",
       "995                    197.89                    9.10                11.9   \n",
       "996                    174.79                    2.02                 NaN   \n",
       "997                     31.21                    6.18                18.1   \n",
       "998                    173.51                    5.18                12.5   \n",
       "999                     44.21                    1.70                15.4   \n",
       "\n",
       "     Cooling_Energy (kWh)  \n",
       "0                  258.78  \n",
       "1                  707.82  \n",
       "2                  743.58  \n",
       "3                  421.00  \n",
       "4                  275.03  \n",
       "..                    ...  \n",
       "995                916.04  \n",
       "996                614.99  \n",
       "997                926.40  \n",
       "998                686.49  \n",
       "999               8428.30  \n",
       "\n",
       "[1000 rows x 20 columns]"
      ]
     },
     "execution_count": 3,
     "metadata": {},
     "output_type": "execute_result"
    }
   ],
   "source": [
    "df"
   ]
  },
  {
   "cell_type": "code",
   "execution_count": 4,
   "id": "f90c4b37-ff10-4d9f-99eb-436573004c21",
   "metadata": {},
   "outputs": [
    {
     "data": {
      "text/plain": [
       "(1000, 20)"
      ]
     },
     "execution_count": 4,
     "metadata": {},
     "output_type": "execute_result"
    }
   ],
   "source": [
    "df.shape"
   ]
  },
  {
   "cell_type": "code",
   "execution_count": 5,
   "id": "0d793307-c0f9-4006-b2c0-7997dc3d7bc4",
   "metadata": {},
   "outputs": [
    {
     "name": "stdout",
     "output_type": "stream",
     "text": [
      "<class 'pandas.core.frame.DataFrame'>\n",
      "RangeIndex: 1000 entries, 0 to 999\n",
      "Data columns (total 20 columns):\n",
      " #   Column                    Non-Null Count  Dtype  \n",
      "---  ------                    --------------  -----  \n",
      " 0   Date                      1000 non-null   object \n",
      " 1   Shift                     1000 non-null   object \n",
      " 2   Furnace_ID                1000 non-null   object \n",
      " 3   Furnace_Type              1000 non-null   object \n",
      " 4   Batch_Type                1000 non-null   object \n",
      " 5   Production_Output (tons)  950 non-null    float64\n",
      " 6   Energy_Consumption (kWh)  950 non-null    float64\n",
      " 7   Furnace_Temperature (°C)  950 non-null    float64\n",
      " 8   Annealing_Time (hrs)      950 non-null    float64\n",
      " 9   Downtime (hrs)            950 non-null    float64\n",
      " 10  Ambient_Temperature (°C)  950 non-null    float64\n",
      " 11  Recycled_Content (%)      950 non-null    float64\n",
      " 12  Energy_Rating             1000 non-null   object \n",
      " 13  Maintenance_Flag          1000 non-null   object \n",
      " 14  Fuel_Type                 1000 non-null   object \n",
      " 15  Glass_Thickness (mm)      950 non-null    float64\n",
      " 16  Production_Target (tons)  950 non-null    float64\n",
      " 17  Defects_Percentage (%)    950 non-null    float64\n",
      " 18  Melting_Time (hrs)        950 non-null    float64\n",
      " 19  Cooling_Energy (kWh)      950 non-null    float64\n",
      "dtypes: float64(12), object(8)\n",
      "memory usage: 156.4+ KB\n"
     ]
    }
   ],
   "source": [
    "df.info()"
   ]
  },
  {
   "cell_type": "code",
   "execution_count": 6,
   "id": "2f698058-5264-4368-818f-a6abd4ec43d1",
   "metadata": {},
   "outputs": [
    {
     "data": {
      "text/plain": [
       "Date                         0\n",
       "Shift                        0\n",
       "Furnace_ID                   0\n",
       "Furnace_Type                 0\n",
       "Batch_Type                   0\n",
       "Production_Output (tons)    50\n",
       "Energy_Consumption (kWh)    50\n",
       "Furnace_Temperature (°C)    50\n",
       "Annealing_Time (hrs)        50\n",
       "Downtime (hrs)              50\n",
       "Ambient_Temperature (°C)    50\n",
       "Recycled_Content (%)        50\n",
       "Energy_Rating                0\n",
       "Maintenance_Flag             0\n",
       "Fuel_Type                    0\n",
       "Glass_Thickness (mm)        50\n",
       "Production_Target (tons)    50\n",
       "Defects_Percentage (%)      50\n",
       "Melting_Time (hrs)          50\n",
       "Cooling_Energy (kWh)        50\n",
       "dtype: int64"
      ]
     },
     "execution_count": 6,
     "metadata": {},
     "output_type": "execute_result"
    }
   ],
   "source": [
    "df.isna().sum()"
   ]
  },
  {
   "cell_type": "code",
   "execution_count": 7,
   "id": "604c8225-5f6a-4c63-b6ba-0eb876b91cf9",
   "metadata": {},
   "outputs": [
    {
     "data": {
      "text/html": [
       "<div>\n",
       "<style scoped>\n",
       "    .dataframe tbody tr th:only-of-type {\n",
       "        vertical-align: middle;\n",
       "    }\n",
       "\n",
       "    .dataframe tbody tr th {\n",
       "        vertical-align: top;\n",
       "    }\n",
       "\n",
       "    .dataframe thead th {\n",
       "        text-align: right;\n",
       "    }\n",
       "</style>\n",
       "<table border=\"1\" class=\"dataframe\">\n",
       "  <thead>\n",
       "    <tr style=\"text-align: right;\">\n",
       "      <th></th>\n",
       "      <th>Production_Output (tons)</th>\n",
       "      <th>Energy_Consumption (kWh)</th>\n",
       "      <th>Furnace_Temperature (°C)</th>\n",
       "      <th>Annealing_Time (hrs)</th>\n",
       "      <th>Downtime (hrs)</th>\n",
       "      <th>Ambient_Temperature (°C)</th>\n",
       "      <th>Recycled_Content (%)</th>\n",
       "      <th>Glass_Thickness (mm)</th>\n",
       "      <th>Production_Target (tons)</th>\n",
       "      <th>Defects_Percentage (%)</th>\n",
       "      <th>Melting_Time (hrs)</th>\n",
       "      <th>Cooling_Energy (kWh)</th>\n",
       "    </tr>\n",
       "  </thead>\n",
       "  <tbody>\n",
       "    <tr>\n",
       "      <th>count</th>\n",
       "      <td>950.000000</td>\n",
       "      <td>950.000000</td>\n",
       "      <td>950.000000</td>\n",
       "      <td>950.000000</td>\n",
       "      <td>950.000000</td>\n",
       "      <td>950.000000</td>\n",
       "      <td>950.000000</td>\n",
       "      <td>950.000000</td>\n",
       "      <td>950.000000</td>\n",
       "      <td>950.000000</td>\n",
       "      <td>950.000000</td>\n",
       "      <td>950.000000</td>\n",
       "    </tr>\n",
       "    <tr>\n",
       "      <th>mean</th>\n",
       "      <td>133.945053</td>\n",
       "      <td>3325.582379</td>\n",
       "      <td>1838.252947</td>\n",
       "      <td>2.728505</td>\n",
       "      <td>2.978168</td>\n",
       "      <td>32.905684</td>\n",
       "      <td>46.730526</td>\n",
       "      <td>9.994358</td>\n",
       "      <td>136.258811</td>\n",
       "      <td>5.547958</td>\n",
       "      <td>19.562842</td>\n",
       "      <td>647.904411</td>\n",
       "    </tr>\n",
       "    <tr>\n",
       "      <th>std</th>\n",
       "      <td>187.866463</td>\n",
       "      <td>4312.727554</td>\n",
       "      <td>1977.887758</td>\n",
       "      <td>3.516814</td>\n",
       "      <td>4.194049</td>\n",
       "      <td>39.905493</td>\n",
       "      <td>64.689214</td>\n",
       "      <td>11.771197</td>\n",
       "      <td>172.565103</td>\n",
       "      <td>6.690913</td>\n",
       "      <td>25.221474</td>\n",
       "      <td>806.414932</td>\n",
       "    </tr>\n",
       "    <tr>\n",
       "      <th>min</th>\n",
       "      <td>20.320000</td>\n",
       "      <td>510.970000</td>\n",
       "      <td>1400.100000</td>\n",
       "      <td>0.510000</td>\n",
       "      <td>0.000000</td>\n",
       "      <td>15.100000</td>\n",
       "      <td>0.000000</td>\n",
       "      <td>2.010000</td>\n",
       "      <td>30.010000</td>\n",
       "      <td>0.020000</td>\n",
       "      <td>8.000000</td>\n",
       "      <td>101.040000</td>\n",
       "    </tr>\n",
       "    <tr>\n",
       "      <th>25%</th>\n",
       "      <td>61.945000</td>\n",
       "      <td>1691.400000</td>\n",
       "      <td>1473.300000</td>\n",
       "      <td>1.440000</td>\n",
       "      <td>1.310000</td>\n",
       "      <td>21.000000</td>\n",
       "      <td>18.250000</td>\n",
       "      <td>5.752500</td>\n",
       "      <td>72.712500</td>\n",
       "      <td>2.450000</td>\n",
       "      <td>12.400000</td>\n",
       "      <td>330.032500</td>\n",
       "    </tr>\n",
       "    <tr>\n",
       "      <th>50%</th>\n",
       "      <td>113.105000</td>\n",
       "      <td>2913.910000</td>\n",
       "      <td>1552.600000</td>\n",
       "      <td>2.330000</td>\n",
       "      <td>2.615000</td>\n",
       "      <td>27.500000</td>\n",
       "      <td>39.000000</td>\n",
       "      <td>8.690000</td>\n",
       "      <td>116.245000</td>\n",
       "      <td>4.840000</td>\n",
       "      <td>16.350000</td>\n",
       "      <td>564.095000</td>\n",
       "    </tr>\n",
       "    <tr>\n",
       "      <th>75%</th>\n",
       "      <td>156.760000</td>\n",
       "      <td>3996.910000</td>\n",
       "      <td>1631.150000</td>\n",
       "      <td>3.260000</td>\n",
       "      <td>3.850000</td>\n",
       "      <td>34.300000</td>\n",
       "      <td>61.000000</td>\n",
       "      <td>11.957500</td>\n",
       "      <td>159.420000</td>\n",
       "      <td>7.410000</td>\n",
       "      <td>20.400000</td>\n",
       "      <td>786.790000</td>\n",
       "    </tr>\n",
       "    <tr>\n",
       "      <th>max</th>\n",
       "      <td>1944.900000</td>\n",
       "      <td>48362.600000</td>\n",
       "      <td>16910.000000</td>\n",
       "      <td>39.700000</td>\n",
       "      <td>49.400000</td>\n",
       "      <td>390.000000</td>\n",
       "      <td>750.000000</td>\n",
       "      <td>149.400000</td>\n",
       "      <td>1996.900000</td>\n",
       "      <td>89.900000</td>\n",
       "      <td>240.000000</td>\n",
       "      <td>9296.200000</td>\n",
       "    </tr>\n",
       "  </tbody>\n",
       "</table>\n",
       "</div>"
      ],
      "text/plain": [
       "       Production_Output (tons)  Energy_Consumption (kWh)  \\\n",
       "count                950.000000                950.000000   \n",
       "mean                 133.945053               3325.582379   \n",
       "std                  187.866463               4312.727554   \n",
       "min                   20.320000                510.970000   \n",
       "25%                   61.945000               1691.400000   \n",
       "50%                  113.105000               2913.910000   \n",
       "75%                  156.760000               3996.910000   \n",
       "max                 1944.900000              48362.600000   \n",
       "\n",
       "       Furnace_Temperature (°C)  Annealing_Time (hrs)  Downtime (hrs)  \\\n",
       "count                950.000000            950.000000      950.000000   \n",
       "mean                1838.252947              2.728505        2.978168   \n",
       "std                 1977.887758              3.516814        4.194049   \n",
       "min                 1400.100000              0.510000        0.000000   \n",
       "25%                 1473.300000              1.440000        1.310000   \n",
       "50%                 1552.600000              2.330000        2.615000   \n",
       "75%                 1631.150000              3.260000        3.850000   \n",
       "max                16910.000000             39.700000       49.400000   \n",
       "\n",
       "       Ambient_Temperature (°C)  Recycled_Content (%)  Glass_Thickness (mm)  \\\n",
       "count                950.000000            950.000000            950.000000   \n",
       "mean                  32.905684             46.730526              9.994358   \n",
       "std                   39.905493             64.689214             11.771197   \n",
       "min                   15.100000              0.000000              2.010000   \n",
       "25%                   21.000000             18.250000              5.752500   \n",
       "50%                   27.500000             39.000000              8.690000   \n",
       "75%                   34.300000             61.000000             11.957500   \n",
       "max                  390.000000            750.000000            149.400000   \n",
       "\n",
       "       Production_Target (tons)  Defects_Percentage (%)  Melting_Time (hrs)  \\\n",
       "count                950.000000              950.000000          950.000000   \n",
       "mean                 136.258811                5.547958           19.562842   \n",
       "std                  172.565103                6.690913           25.221474   \n",
       "min                   30.010000                0.020000            8.000000   \n",
       "25%                   72.712500                2.450000           12.400000   \n",
       "50%                  116.245000                4.840000           16.350000   \n",
       "75%                  159.420000                7.410000           20.400000   \n",
       "max                 1996.900000               89.900000          240.000000   \n",
       "\n",
       "       Cooling_Energy (kWh)  \n",
       "count            950.000000  \n",
       "mean             647.904411  \n",
       "std              806.414932  \n",
       "min              101.040000  \n",
       "25%              330.032500  \n",
       "50%              564.095000  \n",
       "75%              786.790000  \n",
       "max             9296.200000  "
      ]
     },
     "execution_count": 7,
     "metadata": {},
     "output_type": "execute_result"
    }
   ],
   "source": [
    "df.describe()"
   ]
  },
  {
   "cell_type": "code",
   "execution_count": null,
   "id": "48a5ef1b-5316-42f5-8944-9263f3a8edfe",
   "metadata": {},
   "outputs": [],
   "source": []
  },
  {
   "cell_type": "markdown",
   "id": "e6a72b96-9bb2-4e70-9c0c-f5d6381328af",
   "metadata": {},
   "source": [
    "# Production_Output (tons)"
   ]
  },
  {
   "cell_type": "markdown",
   "id": "2de2b5e0-9597-4553-a2f9-731ea709eb7f",
   "metadata": {},
   "source": [
    "First Moment Business Decision"
   ]
  },
  {
   "cell_type": "code",
   "execution_count": 10,
   "id": "3ae30a86-8885-459f-861b-6ada2792323a",
   "metadata": {},
   "outputs": [],
   "source": [
    "mean = df['Production_Output (tons)'].mean()\n"
   ]
  },
  {
   "cell_type": "code",
   "execution_count": 11,
   "id": "8dfae3ce-c3f2-45ab-bb15-a596bae01edf",
   "metadata": {},
   "outputs": [
    {
     "data": {
      "text/plain": [
       "133.94505263157893"
      ]
     },
     "execution_count": 11,
     "metadata": {},
     "output_type": "execute_result"
    }
   ],
   "source": [
    "mean"
   ]
  },
  {
   "cell_type": "code",
   "execution_count": 12,
   "id": "8d66f431-7b98-45eb-ac73-0646e12bf026",
   "metadata": {},
   "outputs": [],
   "source": [
    "median = df['Production_Output (tons)'].median()\n"
   ]
  },
  {
   "cell_type": "code",
   "execution_count": 13,
   "id": "113f053b-f292-4dd1-bbff-94ee550fe07f",
   "metadata": {},
   "outputs": [
    {
     "data": {
      "text/plain": [
       "113.10499999999999"
      ]
     },
     "execution_count": 13,
     "metadata": {},
     "output_type": "execute_result"
    }
   ],
   "source": [
    "median"
   ]
  },
  {
   "cell_type": "code",
   "execution_count": 14,
   "id": "28711d04-eebb-49ce-92cd-a121046fbb5b",
   "metadata": {},
   "outputs": [],
   "source": [
    "mode = df['Production_Output (tons)'].mode()\n"
   ]
  },
  {
   "cell_type": "code",
   "execution_count": 15,
   "id": "7c2229d4-48de-4b14-b6ad-37200939234b",
   "metadata": {},
   "outputs": [
    {
     "data": {
      "text/plain": [
       "0      34.63\n",
       "1      39.54\n",
       "2      44.38\n",
       "3      49.57\n",
       "4      53.16\n",
       "5      61.02\n",
       "6      65.63\n",
       "7      66.16\n",
       "8     102.52\n",
       "9     113.41\n",
       "10    127.62\n",
       "11    133.91\n",
       "12    158.96\n",
       "13    170.11\n",
       "14    179.10\n",
       "15    193.10\n",
       "Name: Production_Output (tons), dtype: float64"
      ]
     },
     "execution_count": 15,
     "metadata": {},
     "output_type": "execute_result"
    }
   ],
   "source": [
    "mode"
   ]
  },
  {
   "cell_type": "code",
   "execution_count": null,
   "id": "02b4e2ae-0fa1-4543-adb4-562d0b201abc",
   "metadata": {},
   "outputs": [],
   "source": []
  },
  {
   "cell_type": "markdown",
   "id": "b28c8f5b-bdb0-43a2-b073-9ee091aa9975",
   "metadata": {},
   "source": [
    "Second Moment Business Decision (Measures of Dispersion)"
   ]
  },
  {
   "cell_type": "code",
   "execution_count": 17,
   "id": "746d0e08-e574-4111-a8ec-f0afcaa76397",
   "metadata": {},
   "outputs": [
    {
     "name": "stdout",
     "output_type": "stream",
     "text": [
      "187.86646335320816\n"
     ]
    }
   ],
   "source": [
    "Standard_Deviation = df['Production_Output (tons)'].std()\n",
    "print(Standard_Deviation )"
   ]
  },
  {
   "cell_type": "code",
   "execution_count": 18,
   "id": "c78d268e-ee65-4083-a1de-dd860c378d5d",
   "metadata": {},
   "outputs": [
    {
     "name": "stdout",
     "output_type": "stream",
     "text": [
      "35293.80805284231\n"
     ]
    }
   ],
   "source": [
    "variance = df['Production_Output (tons)'].var()\n",
    "print(variance)"
   ]
  },
  {
   "cell_type": "code",
   "execution_count": 19,
   "id": "20ebc0b1-9b2c-48a6-a250-15e02ceafd37",
   "metadata": {},
   "outputs": [
    {
     "name": "stdout",
     "output_type": "stream",
     "text": [
      "Range of Production_Output (tons): 1924.5800000000002\n"
     ]
    }
   ],
   "source": [
    "Range = df['Production_Output (tons)'].max() - df['Production_Output (tons)'].min()\n",
    "print(\"Range of Production_Output (tons):\", Range)"
   ]
  },
  {
   "cell_type": "code",
   "execution_count": null,
   "id": "ee7818c1-c892-40a4-8076-9bff95d0f868",
   "metadata": {},
   "outputs": [],
   "source": []
  },
  {
   "cell_type": "markdown",
   "id": "a3d11cee-293f-41a5-89a2-9cb2a6b4f64e",
   "metadata": {},
   "source": [
    "Third Moment Business Decision (Skewness)"
   ]
  },
  {
   "cell_type": "code",
   "execution_count": 21,
   "id": "b2f79a2b-5f19-4ab4-b38d-66d6cea9641f",
   "metadata": {},
   "outputs": [
    {
     "name": "stdout",
     "output_type": "stream",
     "text": [
      "6.761599613440711\n"
     ]
    }
   ],
   "source": [
    "skewness = df['Production_Output (tons)'].skew()\n",
    "print(skewness)"
   ]
  },
  {
   "cell_type": "code",
   "execution_count": null,
   "id": "565d4001-f724-419d-a4c6-42a1f33b5828",
   "metadata": {},
   "outputs": [],
   "source": []
  },
  {
   "cell_type": "markdown",
   "id": "5c6faeb9-32b7-45b1-afd9-a36e9173f4e5",
   "metadata": {},
   "source": [
    "Fourth Moment Business Decision  (Kurtosis)"
   ]
  },
  {
   "cell_type": "code",
   "execution_count": 23,
   "id": "26c412d2-8922-48f5-b2b9-eedbfe33920d",
   "metadata": {},
   "outputs": [
    {
     "name": "stdout",
     "output_type": "stream",
     "text": [
      "51.19309251786909\n"
     ]
    }
   ],
   "source": [
    "kurtosis = df['Production_Output (tons)'].kurtosis()\n",
    "print(kurtosis)"
   ]
  },
  {
   "cell_type": "code",
   "execution_count": null,
   "id": "b2c02a76-59ce-4ea6-a273-e072193002e4",
   "metadata": {},
   "outputs": [],
   "source": []
  },
  {
   "cell_type": "markdown",
   "id": "403024e9-e9d7-43ca-a730-af59d5b65ee8",
   "metadata": {},
   "source": [
    "# Energy_Consumption (kWh)"
   ]
  },
  {
   "cell_type": "markdown",
   "id": "96a45890-d4e7-4b36-9b26-8a2ee5027c23",
   "metadata": {},
   "source": [
    "First Moment Business Decision"
   ]
  },
  {
   "cell_type": "code",
   "execution_count": 26,
   "id": "33ffd09e-0f71-413c-a551-d662836f28e1",
   "metadata": {},
   "outputs": [
    {
     "name": "stdout",
     "output_type": "stream",
     "text": [
      "3325.5823789473684\n"
     ]
    }
   ],
   "source": [
    "Mean = df['Energy_Consumption (kWh)'].mean()\n",
    "print(Mean)"
   ]
  },
  {
   "cell_type": "code",
   "execution_count": 27,
   "id": "96656b1a-8ef5-45b6-b0fa-04c910acfac6",
   "metadata": {},
   "outputs": [
    {
     "name": "stdout",
     "output_type": "stream",
     "text": [
      "2913.91\n"
     ]
    }
   ],
   "source": [
    "Median = df['Energy_Consumption (kWh)'].median()\n",
    "print(Median)"
   ]
  },
  {
   "cell_type": "code",
   "execution_count": 28,
   "id": "c0a50d6e-5895-4919-a10e-6efc5022a7f0",
   "metadata": {},
   "outputs": [
    {
     "name": "stdout",
     "output_type": "stream",
     "text": [
      "0    2186.09\n",
      "1    3716.92\n",
      "Name: Energy_Consumption (kWh), dtype: float64\n"
     ]
    }
   ],
   "source": [
    "Mode = df['Energy_Consumption (kWh)'].mode()\n",
    "print(Mode)"
   ]
  },
  {
   "cell_type": "code",
   "execution_count": null,
   "id": "c7d5063b-c82e-4b69-95a7-d9fbc88eb18f",
   "metadata": {},
   "outputs": [],
   "source": []
  },
  {
   "cell_type": "markdown",
   "id": "0c3209cf-3043-42f9-8114-47a0f1b5c3f2",
   "metadata": {},
   "source": [
    "Second Moment Business Decision (Measures of Dispersion)"
   ]
  },
  {
   "cell_type": "code",
   "execution_count": 30,
   "id": "df242cb7-daee-444c-bf06-1a19dabd3691",
   "metadata": {},
   "outputs": [
    {
     "name": "stdout",
     "output_type": "stream",
     "text": [
      "4312.727553584044\n"
     ]
    }
   ],
   "source": [
    "Standard_Deviation = df['Energy_Consumption (kWh)'].std()\n",
    "print(Standard_Deviation )"
   ]
  },
  {
   "cell_type": "code",
   "execution_count": 31,
   "id": "ff859ec5-63c4-47bc-88f7-4e9fd628b080",
   "metadata": {},
   "outputs": [
    {
     "name": "stdout",
     "output_type": "stream",
     "text": [
      "18599618.951443013\n"
     ]
    }
   ],
   "source": [
    "variance = df['Energy_Consumption (kWh)'].var()\n",
    "print(variance)"
   ]
  },
  {
   "cell_type": "code",
   "execution_count": 32,
   "id": "5285366b-1f53-4dc5-8e77-e281122077cc",
   "metadata": {},
   "outputs": [
    {
     "name": "stdout",
     "output_type": "stream",
     "text": [
      "Range of Energy_Consumption (kWh): 47851.63\n"
     ]
    }
   ],
   "source": [
    "Range = df['Energy_Consumption (kWh)'].max() - df['Energy_Consumption (kWh)'].min()\n",
    "print(\"Range of Energy_Consumption (kWh):\", Range)"
   ]
  },
  {
   "cell_type": "code",
   "execution_count": null,
   "id": "863653ff-46c3-43c0-950d-f537662657fe",
   "metadata": {},
   "outputs": [],
   "source": []
  },
  {
   "cell_type": "markdown",
   "id": "6fe24ae4-c8de-45e7-ab94-3b7c041b52b3",
   "metadata": {},
   "source": [
    "Third Moment Business Decision (Skewness)"
   ]
  },
  {
   "cell_type": "code",
   "execution_count": 34,
   "id": "a4f352aa-d1a8-4212-ae38-58c66b0db958",
   "metadata": {},
   "outputs": [
    {
     "name": "stdout",
     "output_type": "stream",
     "text": [
      "7.46228119286392\n"
     ]
    }
   ],
   "source": [
    "skewness = df['Energy_Consumption (kWh)'].skew()\n",
    "print(skewness)"
   ]
  },
  {
   "cell_type": "code",
   "execution_count": null,
   "id": "ed675520-35aa-4744-a131-db46e1ed2e0d",
   "metadata": {},
   "outputs": [],
   "source": []
  },
  {
   "cell_type": "markdown",
   "id": "fcf015f7-b79a-44e5-b1ba-97801f681d89",
   "metadata": {},
   "source": [
    "Fourth Moment Business Decision (Kurtosis)"
   ]
  },
  {
   "cell_type": "code",
   "execution_count": 36,
   "id": "5301a514-6ff4-425e-b2bf-4273f4a14990",
   "metadata": {},
   "outputs": [
    {
     "name": "stdout",
     "output_type": "stream",
     "text": [
      "63.54304934172059\n"
     ]
    }
   ],
   "source": [
    "kurtosis = df['Energy_Consumption (kWh)'].kurtosis()\n",
    "print(kurtosis)"
   ]
  },
  {
   "cell_type": "code",
   "execution_count": null,
   "id": "bfe6eaa7-dde4-446b-9946-b7a6d6d92fcf",
   "metadata": {},
   "outputs": [],
   "source": []
  },
  {
   "cell_type": "markdown",
   "id": "4cae36f8-75c0-42f4-8847-8f7364b9f7dc",
   "metadata": {},
   "source": [
    "# Furnace_Temperature (°C)"
   ]
  },
  {
   "cell_type": "markdown",
   "id": "13b717d4-a957-4a48-95d7-82dd66a9dd39",
   "metadata": {},
   "source": [
    "First Moment Business Decision"
   ]
  },
  {
   "cell_type": "code",
   "execution_count": 39,
   "id": "3d0c5f8f-2372-47c0-8ba1-43e852afae2c",
   "metadata": {},
   "outputs": [
    {
     "name": "stdout",
     "output_type": "stream",
     "text": [
      "1838.252947368421\n"
     ]
    }
   ],
   "source": [
    "Mean = df['Furnace_Temperature (°C)'].mean()\n",
    "print(Mean)"
   ]
  },
  {
   "cell_type": "code",
   "execution_count": 40,
   "id": "c758269e-7f26-462f-bcba-4e20493c369c",
   "metadata": {},
   "outputs": [
    {
     "name": "stdout",
     "output_type": "stream",
     "text": [
      "1552.6\n"
     ]
    }
   ],
   "source": [
    "Median = df['Furnace_Temperature (°C)'].median()\n",
    "print(Median)"
   ]
  },
  {
   "cell_type": "code",
   "execution_count": 41,
   "id": "7ffd1171-cd53-4a44-ac97-923747015874",
   "metadata": {},
   "outputs": [
    {
     "name": "stdout",
     "output_type": "stream",
     "text": [
      "0    1410.0\n",
      "1    1413.7\n",
      "2    1465.1\n",
      "3    1505.8\n",
      "4    1529.7\n",
      "5    1634.4\n",
      "6    1635.1\n",
      "7    1694.7\n",
      "8    1695.4\n",
      "Name: Furnace_Temperature (°C), dtype: float64\n"
     ]
    }
   ],
   "source": [
    "Mode = df['Furnace_Temperature (°C)'].mode()\n",
    "print(Mode)"
   ]
  },
  {
   "cell_type": "code",
   "execution_count": null,
   "id": "e0909389-5fe1-415d-9341-e11e7f47bfa8",
   "metadata": {},
   "outputs": [],
   "source": []
  },
  {
   "cell_type": "markdown",
   "id": "55f71ac4-45c5-4878-a757-424435cfe254",
   "metadata": {},
   "source": [
    "Second Moment Business Decision (Measures of Dispersion)"
   ]
  },
  {
   "cell_type": "code",
   "execution_count": 43,
   "id": "08255f4f-a613-4e3f-9337-db0427884db5",
   "metadata": {},
   "outputs": [
    {
     "name": "stdout",
     "output_type": "stream",
     "text": [
      "1977.8877582147131\n"
     ]
    }
   ],
   "source": [
    "Standard_Deviation = df['Furnace_Temperature (°C)'].std()\n",
    "print(Standard_Deviation )"
   ]
  },
  {
   "cell_type": "code",
   "execution_count": 44,
   "id": "df75b140-ff77-4352-96a4-b9fc8835829f",
   "metadata": {},
   "outputs": [
    {
     "name": "stdout",
     "output_type": "stream",
     "text": [
      "3912039.9840956233\n"
     ]
    }
   ],
   "source": [
    "variance = df['Furnace_Temperature (°C)'].var()\n",
    "print(variance)"
   ]
  },
  {
   "cell_type": "code",
   "execution_count": 45,
   "id": "4d3f7cd4-f3f6-4569-8f19-d1923d165dae",
   "metadata": {},
   "outputs": [
    {
     "name": "stdout",
     "output_type": "stream",
     "text": [
      "Range of Furnace_Temperature (°C): 15509.9\n"
     ]
    }
   ],
   "source": [
    "Range = df['Furnace_Temperature (°C)'].max() - df['Furnace_Temperature (°C)'].min()\n",
    "print(\"Range of Furnace_Temperature (°C):\", Range)"
   ]
  },
  {
   "cell_type": "code",
   "execution_count": null,
   "id": "01ddc8b9-a602-4653-96fb-b6ef7afc7d9e",
   "metadata": {},
   "outputs": [],
   "source": []
  },
  {
   "cell_type": "markdown",
   "id": "d180ebc1-e059-44c0-821e-d2bbb6216eb2",
   "metadata": {},
   "source": [
    "Third Moment Business Decision (Skewness)"
   ]
  },
  {
   "cell_type": "code",
   "execution_count": 47,
   "id": "3116624c-3a8b-496f-9157-37ce5ab7c499",
   "metadata": {},
   "outputs": [
    {
     "name": "stdout",
     "output_type": "stream",
     "text": [
      "6.7033380772710025\n"
     ]
    }
   ],
   "source": [
    "skewness = df['Furnace_Temperature (°C)'].skew()\n",
    "print(skewness)"
   ]
  },
  {
   "cell_type": "code",
   "execution_count": null,
   "id": "06b80084-a765-4892-9ccb-78a23550226a",
   "metadata": {},
   "outputs": [],
   "source": []
  },
  {
   "cell_type": "markdown",
   "id": "31a97927-0331-4fda-8ef2-b22547ed698a",
   "metadata": {},
   "source": [
    "Fourth Moment Business Decision (Kurtosis)"
   ]
  },
  {
   "cell_type": "code",
   "execution_count": 49,
   "id": "05fd0f4d-8ebd-47db-a98e-b930eb519daa",
   "metadata": {},
   "outputs": [
    {
     "name": "stdout",
     "output_type": "stream",
     "text": [
      "43.310149563215845\n"
     ]
    }
   ],
   "source": [
    "kurtosis = df['Furnace_Temperature (°C)'].kurtosis()\n",
    "print(kurtosis)"
   ]
  },
  {
   "cell_type": "code",
   "execution_count": null,
   "id": "c7f44042-4a19-4c41-97e6-098f5d8a3155",
   "metadata": {},
   "outputs": [],
   "source": []
  },
  {
   "cell_type": "markdown",
   "id": "302560c3-6f23-4735-bc8d-77e9d65adb3d",
   "metadata": {},
   "source": [
    "# Annealing_Time (hrs)"
   ]
  },
  {
   "cell_type": "markdown",
   "id": "0640371c-a1cb-4bbb-9891-930e2045293c",
   "metadata": {},
   "source": [
    "First Moment Business Decision"
   ]
  },
  {
   "cell_type": "code",
   "execution_count": 52,
   "id": "4cdef7b7-d781-4ba5-85c7-654763afedbf",
   "metadata": {},
   "outputs": [
    {
     "name": "stdout",
     "output_type": "stream",
     "text": [
      "2.7285052631578948\n"
     ]
    }
   ],
   "source": [
    "Mean = df['Annealing_Time (hrs)'].mean()\n",
    "print(Mean)"
   ]
  },
  {
   "cell_type": "code",
   "execution_count": 53,
   "id": "2b2cc9e3-72e9-477f-bed2-a30df1daa226",
   "metadata": {},
   "outputs": [
    {
     "name": "stdout",
     "output_type": "stream",
     "text": [
      "2.33\n"
     ]
    }
   ],
   "source": [
    "Median = df['Annealing_Time (hrs)'].median()\n",
    "print(Median)"
   ]
  },
  {
   "cell_type": "code",
   "execution_count": 54,
   "id": "f0b9393a-49e2-4c64-86a8-d57910db3c56",
   "metadata": {},
   "outputs": [
    {
     "name": "stdout",
     "output_type": "stream",
     "text": [
      "0    2.12\n",
      "1    3.34\n",
      "2    3.61\n",
      "Name: Annealing_Time (hrs), dtype: float64\n"
     ]
    }
   ],
   "source": [
    "Mode = df['Annealing_Time (hrs)'].mode()\n",
    "print(Mode)"
   ]
  },
  {
   "cell_type": "code",
   "execution_count": null,
   "id": "a978faa5-bf6d-46b1-bcb3-a94cbac8d16e",
   "metadata": {},
   "outputs": [],
   "source": []
  },
  {
   "cell_type": "markdown",
   "id": "a7e871f1-1aa5-4442-a68f-2e05d768d325",
   "metadata": {},
   "source": [
    "Second Moment Business Decision (Measures of Dispersion)"
   ]
  },
  {
   "cell_type": "code",
   "execution_count": 56,
   "id": "5c0442a6-d2e8-4c8f-a055-21b8cd88194b",
   "metadata": {},
   "outputs": [
    {
     "name": "stdout",
     "output_type": "stream",
     "text": [
      "3.516814117322587\n"
     ]
    }
   ],
   "source": [
    "Standard_Deviation = df['Annealing_Time (hrs)'].std()\n",
    "print(Standard_Deviation )"
   ]
  },
  {
   "cell_type": "code",
   "execution_count": 57,
   "id": "8521c1e7-f0ca-4c3d-b59a-0ca9b13bfaf0",
   "metadata": {},
   "outputs": [
    {
     "name": "stdout",
     "output_type": "stream",
     "text": [
      "12.367981535799446\n"
     ]
    }
   ],
   "source": [
    "variance = df['Annealing_Time (hrs)'].var()\n",
    "print(variance)"
   ]
  },
  {
   "cell_type": "code",
   "execution_count": 58,
   "id": "427a24f1-d8a6-485d-a731-1ea1f321c7fd",
   "metadata": {},
   "outputs": [
    {
     "name": "stdout",
     "output_type": "stream",
     "text": [
      "Range of Annealing_Time (hrs): 39.190000000000005\n"
     ]
    }
   ],
   "source": [
    "Range = df['Annealing_Time (hrs)'].max() - df['Annealing_Time (hrs)'].min()\n",
    "print(\"Range of Annealing_Time (hrs):\", Range)"
   ]
  },
  {
   "cell_type": "code",
   "execution_count": null,
   "id": "73d1034a-2e88-4a4f-bf26-6643b8bf3aa5",
   "metadata": {},
   "outputs": [],
   "source": []
  },
  {
   "cell_type": "markdown",
   "id": "708edda9-1f72-49c2-b7ac-9607d1497b40",
   "metadata": {},
   "source": [
    "Third Moment Business Decision (Skewness)"
   ]
  },
  {
   "cell_type": "code",
   "execution_count": 60,
   "id": "b774f2fe-c9df-4941-9e41-5cbddaa956f0",
   "metadata": {},
   "outputs": [
    {
     "name": "stdout",
     "output_type": "stream",
     "text": [
      "7.646241710478491\n"
     ]
    }
   ],
   "source": [
    "skewness = df['Annealing_Time (hrs)'].skew()\n",
    "print(skewness)"
   ]
  },
  {
   "cell_type": "code",
   "execution_count": null,
   "id": "59a0b0ad-b4eb-48cf-ba93-1fd67aa088ed",
   "metadata": {},
   "outputs": [],
   "source": []
  },
  {
   "cell_type": "markdown",
   "id": "111bf9f3-e12d-4666-8c22-40870273e8fc",
   "metadata": {},
   "source": [
    "Fourth Moment Business Decision (Kurtosis)"
   ]
  },
  {
   "cell_type": "code",
   "execution_count": 62,
   "id": "d562a32f-93b2-45b4-88fa-4a4971593fa4",
   "metadata": {},
   "outputs": [
    {
     "name": "stdout",
     "output_type": "stream",
     "text": [
      "65.15280013058691\n"
     ]
    }
   ],
   "source": [
    "kurtosis = df['Annealing_Time (hrs)'].kurtosis()\n",
    "print(kurtosis)"
   ]
  },
  {
   "cell_type": "code",
   "execution_count": null,
   "id": "e81d101c-d401-4b52-87a9-95f52be5062b",
   "metadata": {},
   "outputs": [],
   "source": []
  },
  {
   "cell_type": "markdown",
   "id": "fb5b08e4-ea3a-434e-badf-90eaa4d4863d",
   "metadata": {},
   "source": [
    "# Downtime (hrs)"
   ]
  },
  {
   "cell_type": "markdown",
   "id": "915fdc04-eede-4bf1-940b-d57c84cc496b",
   "metadata": {},
   "source": [
    "First Moment Business Decision"
   ]
  },
  {
   "cell_type": "code",
   "execution_count": 65,
   "id": "7ce0e5af-c2c8-4228-a6f4-a8bd87c6402d",
   "metadata": {},
   "outputs": [
    {
     "name": "stdout",
     "output_type": "stream",
     "text": [
      "2.978168421052632\n"
     ]
    }
   ],
   "source": [
    "Mean = df['Downtime (hrs)'].mean()\n",
    "print(Mean)"
   ]
  },
  {
   "cell_type": "code",
   "execution_count": 66,
   "id": "726875c0-fec5-4bfe-8466-f3087a3c3734",
   "metadata": {},
   "outputs": [
    {
     "name": "stdout",
     "output_type": "stream",
     "text": [
      "2.615\n"
     ]
    }
   ],
   "source": [
    "Median = df['Downtime (hrs)'].median()\n",
    "print(Median)"
   ]
  },
  {
   "cell_type": "code",
   "execution_count": 67,
   "id": "19a4b01e-e593-413d-aa20-0bbbacc451ae",
   "metadata": {},
   "outputs": [
    {
     "name": "stdout",
     "output_type": "stream",
     "text": [
      "0    0.05\n",
      "1    1.67\n",
      "2    3.02\n",
      "3    3.56\n",
      "4    3.97\n",
      "Name: Downtime (hrs), dtype: float64\n"
     ]
    }
   ],
   "source": [
    "Mode = df['Downtime (hrs)'].mode()\n",
    "print(Mode)"
   ]
  },
  {
   "cell_type": "code",
   "execution_count": null,
   "id": "9e8d8da9-ad88-445a-9b92-317c9547f740",
   "metadata": {},
   "outputs": [],
   "source": []
  },
  {
   "cell_type": "markdown",
   "id": "f75baa39-05dd-4d52-8bc8-5d51463f259c",
   "metadata": {},
   "source": [
    "Second Moment Business Decision (Measures of Dispersion)"
   ]
  },
  {
   "cell_type": "code",
   "execution_count": 69,
   "id": "8c996fcf-ef38-4d9b-9828-38e4bb84d59f",
   "metadata": {},
   "outputs": [
    {
     "name": "stdout",
     "output_type": "stream",
     "text": [
      "4.194049351291308\n"
     ]
    }
   ],
   "source": [
    "Standard_Deviation = df['Downtime (hrs)'].std()\n",
    "print(Standard_Deviation )"
   ]
  },
  {
   "cell_type": "code",
   "execution_count": 70,
   "id": "6f10bbe3-fe2d-4555-bcfc-64e5aadfbfd2",
   "metadata": {},
   "outputs": [
    {
     "name": "stdout",
     "output_type": "stream",
     "text": [
      "17.59004996106704\n"
     ]
    }
   ],
   "source": [
    "variance = df['Downtime (hrs)'].var()\n",
    "print(variance)"
   ]
  },
  {
   "cell_type": "code",
   "execution_count": 71,
   "id": "4af7375c-aa07-49e1-981f-945da2e8348a",
   "metadata": {},
   "outputs": [
    {
     "name": "stdout",
     "output_type": "stream",
     "text": [
      "Range of Downtime (hrs): 49.4\n"
     ]
    }
   ],
   "source": [
    "Range = df['Downtime (hrs)'].max() - df['Downtime (hrs)'].min()\n",
    "print(\"Range of Downtime (hrs):\", Range)"
   ]
  },
  {
   "cell_type": "code",
   "execution_count": null,
   "id": "c411ff60-159b-4e91-aa14-ee6dda3e65f9",
   "metadata": {},
   "outputs": [],
   "source": []
  },
  {
   "cell_type": "markdown",
   "id": "ed9389bc-fd85-45c7-9c9e-11f956a88951",
   "metadata": {},
   "source": [
    "Third Moment Business Decision (Skewness)"
   ]
  },
  {
   "cell_type": "code",
   "execution_count": 73,
   "id": "55f90419-bd5b-417a-b9a9-279c56cb3e51",
   "metadata": {},
   "outputs": [
    {
     "name": "stdout",
     "output_type": "stream",
     "text": [
      "7.62160143829496\n"
     ]
    }
   ],
   "source": [
    "skewness = df['Downtime (hrs)'].skew()\n",
    "print(skewness)"
   ]
  },
  {
   "cell_type": "code",
   "execution_count": null,
   "id": "7d894341-ba95-47d7-a97d-b28b61d7bb69",
   "metadata": {},
   "outputs": [],
   "source": []
  },
  {
   "cell_type": "markdown",
   "id": "7b13eda3-04e9-4f10-b09d-8a4de7481d1a",
   "metadata": {},
   "source": [
    "Fourth Moment Business Decision (Kurtosis)"
   ]
  },
  {
   "cell_type": "code",
   "execution_count": 75,
   "id": "d6842f48-ebd1-4d10-918b-9eaab323097d",
   "metadata": {},
   "outputs": [
    {
     "name": "stdout",
     "output_type": "stream",
     "text": [
      "68.26337481131229\n"
     ]
    }
   ],
   "source": [
    "kurtosis = df['Downtime (hrs)'].kurtosis()\n",
    "print(kurtosis)"
   ]
  },
  {
   "cell_type": "code",
   "execution_count": null,
   "id": "e7fba16c-b978-4058-943e-30a8f9691ff2",
   "metadata": {},
   "outputs": [],
   "source": []
  },
  {
   "cell_type": "markdown",
   "id": "80b60598-3e70-4d19-b5ea-94801bb1d414",
   "metadata": {},
   "source": [
    "# Ambient_Temperature (°C)"
   ]
  },
  {
   "cell_type": "markdown",
   "id": "3ef181d9-9a55-46ae-92d9-62f57396dc4c",
   "metadata": {},
   "source": [
    "First Moment Business Decision"
   ]
  },
  {
   "cell_type": "code",
   "execution_count": 78,
   "id": "b7d2d500-c870-4e45-9070-4adc0e2c1986",
   "metadata": {},
   "outputs": [
    {
     "name": "stdout",
     "output_type": "stream",
     "text": [
      "32.90568421052632\n"
     ]
    }
   ],
   "source": [
    "Mean = df['Ambient_Temperature (°C)'].mean()\n",
    "print(Mean)"
   ]
  },
  {
   "cell_type": "code",
   "execution_count": 79,
   "id": "19275f4e-c820-45ae-8d72-4ce095f9f15d",
   "metadata": {},
   "outputs": [
    {
     "name": "stdout",
     "output_type": "stream",
     "text": [
      "27.5\n"
     ]
    }
   ],
   "source": [
    "Median = df['Ambient_Temperature (°C)'].median()\n",
    "print(Median)"
   ]
  },
  {
   "cell_type": "code",
   "execution_count": 80,
   "id": "006c6c1e-e51e-410d-a526-2c5decedd6d1",
   "metadata": {},
   "outputs": [
    {
     "name": "stdout",
     "output_type": "stream",
     "text": [
      "0    36.7\n",
      "Name: Ambient_Temperature (°C), dtype: float64\n"
     ]
    }
   ],
   "source": [
    "Mode = df['Ambient_Temperature (°C)'].mode()\n",
    "print(Mode)"
   ]
  },
  {
   "cell_type": "code",
   "execution_count": null,
   "id": "d96e44ef-c8a2-4be7-8688-0b23e632db45",
   "metadata": {},
   "outputs": [],
   "source": []
  },
  {
   "cell_type": "markdown",
   "id": "7cacd00a-580a-4622-9792-83d7e289d27d",
   "metadata": {},
   "source": [
    "Second Moment Business Decision (Measures of Dispersion)"
   ]
  },
  {
   "cell_type": "code",
   "execution_count": 82,
   "id": "4a1f21c7-8fec-4ad9-a5d3-fec5757265c4",
   "metadata": {},
   "outputs": [
    {
     "name": "stdout",
     "output_type": "stream",
     "text": [
      "39.90549279776294\n"
     ]
    }
   ],
   "source": [
    "Standard_Deviation = df['Ambient_Temperature (°C)'].std()\n",
    "print(Standard_Deviation )"
   ]
  },
  {
   "cell_type": "code",
   "execution_count": 83,
   "id": "d596598a-82e2-4289-a5a1-b84fd377576c",
   "metadata": {},
   "outputs": [
    {
     "name": "stdout",
     "output_type": "stream",
     "text": [
      "1592.4483554323097\n"
     ]
    }
   ],
   "source": [
    "variance = df['Ambient_Temperature (°C)'].var()\n",
    "print(variance)"
   ]
  },
  {
   "cell_type": "code",
   "execution_count": 84,
   "id": "b988bb2b-e517-404c-b5e9-c9bc0e43cef1",
   "metadata": {},
   "outputs": [
    {
     "name": "stdout",
     "output_type": "stream",
     "text": [
      "Range of Ambient_Temperature (°C): 374.9\n"
     ]
    }
   ],
   "source": [
    "Range = df['Ambient_Temperature (°C)'].max() - df['Ambient_Temperature (°C)'].min()\n",
    "print(\"Range of Ambient_Temperature (°C):\", Range)"
   ]
  },
  {
   "cell_type": "code",
   "execution_count": null,
   "id": "759959c0-aa1c-4ca6-8f5b-427f97763bca",
   "metadata": {},
   "outputs": [],
   "source": []
  },
  {
   "cell_type": "markdown",
   "id": "161e1e7b-cd15-41fa-b23f-98f2e9512bfd",
   "metadata": {},
   "source": [
    "Third Moment Business Decision (Skewness)"
   ]
  },
  {
   "cell_type": "code",
   "execution_count": 86,
   "id": "608ea29c-1afd-4053-871e-978845df2de9",
   "metadata": {},
   "outputs": [
    {
     "name": "stdout",
     "output_type": "stream",
     "text": [
      "7.023548833749902\n"
     ]
    }
   ],
   "source": [
    "skewness = df['Ambient_Temperature (°C)'].skew()\n",
    "print(skewness)"
   ]
  },
  {
   "cell_type": "code",
   "execution_count": null,
   "id": "261a3215-68e7-48d2-afe6-b761bba6e3f2",
   "metadata": {},
   "outputs": [],
   "source": []
  },
  {
   "cell_type": "markdown",
   "id": "97f7faf6-8cf6-446e-bfe9-50b8f5684a7a",
   "metadata": {},
   "source": [
    "Fourth Moment Business Decision (Kurtosis)"
   ]
  },
  {
   "cell_type": "code",
   "execution_count": 88,
   "id": "5c7b1a4d-7c72-4568-90ec-c031c1836401",
   "metadata": {},
   "outputs": [
    {
     "name": "stdout",
     "output_type": "stream",
     "text": [
      "51.26066794842752\n"
     ]
    }
   ],
   "source": [
    "kurtosis = df['Ambient_Temperature (°C)'].kurtosis()\n",
    "print(kurtosis)"
   ]
  },
  {
   "cell_type": "code",
   "execution_count": null,
   "id": "408c6110-ca67-482e-8b80-ca6080ce37dc",
   "metadata": {},
   "outputs": [],
   "source": []
  },
  {
   "cell_type": "markdown",
   "id": "99180b3f-ae51-4b40-9283-720eb813c7bf",
   "metadata": {},
   "source": [
    "# Recycled_Content (%)"
   ]
  },
  {
   "cell_type": "markdown",
   "id": "2a8fa418-b879-481b-b2f0-bace56aa9fa0",
   "metadata": {},
   "source": [
    "First Moment Business Decision"
   ]
  },
  {
   "cell_type": "code",
   "execution_count": 91,
   "id": "18369d79-c07f-4e55-b477-759504530668",
   "metadata": {},
   "outputs": [
    {
     "name": "stdout",
     "output_type": "stream",
     "text": [
      "46.730526315789476\n"
     ]
    }
   ],
   "source": [
    "Mean = df['Recycled_Content (%)'].mean()\n",
    "print(Mean)"
   ]
  },
  {
   "cell_type": "code",
   "execution_count": 92,
   "id": "d6e17d9f-5a07-4a99-bdd3-bc05eaaeffd8",
   "metadata": {},
   "outputs": [
    {
     "name": "stdout",
     "output_type": "stream",
     "text": [
      "39.0\n"
     ]
    }
   ],
   "source": [
    "Median = df['Recycled_Content (%)'].median()\n",
    "print(Median)"
   ]
  },
  {
   "cell_type": "code",
   "execution_count": 93,
   "id": "c9df4212-bcf4-404f-95b3-e55789ecef88",
   "metadata": {},
   "outputs": [
    {
     "name": "stdout",
     "output_type": "stream",
     "text": [
      "0    11.0\n",
      "Name: Recycled_Content (%), dtype: float64\n"
     ]
    }
   ],
   "source": [
    "Mode = df['Recycled_Content (%)'].mode()\n",
    "print(Mode)"
   ]
  },
  {
   "cell_type": "code",
   "execution_count": null,
   "id": "f5719de5-d2af-4fdf-8deb-8d5ef8b1a471",
   "metadata": {},
   "outputs": [],
   "source": []
  },
  {
   "cell_type": "markdown",
   "id": "7a41d3d1-75b3-44f3-911f-ec44d0946eb9",
   "metadata": {},
   "source": [
    "Second Moment Business Decision (Measures of Dispersion)"
   ]
  },
  {
   "cell_type": "code",
   "execution_count": 95,
   "id": "a49b9141-233a-4c1a-8545-5ff7eeb815f0",
   "metadata": {},
   "outputs": [
    {
     "name": "stdout",
     "output_type": "stream",
     "text": [
      "64.68921417595577\n"
     ]
    }
   ],
   "source": [
    "Standard_Deviation = df['Recycled_Content (%)'].std()\n",
    "print(Standard_Deviation )"
   ]
  },
  {
   "cell_type": "code",
   "execution_count": 96,
   "id": "e1959bb0-e7d5-4430-834b-566c5114322d",
   "metadata": {},
   "outputs": [
    {
     "name": "stdout",
     "output_type": "stream",
     "text": [
      "4184.694430702677\n"
     ]
    }
   ],
   "source": [
    "variance = df['Recycled_Content (%)'].var()\n",
    "print(variance)"
   ]
  },
  {
   "cell_type": "code",
   "execution_count": 97,
   "id": "0490bbb9-1343-4332-93af-992fdd08f1d1",
   "metadata": {},
   "outputs": [
    {
     "name": "stdout",
     "output_type": "stream",
     "text": [
      "Range of Recycled_Content (%): 750.0\n"
     ]
    }
   ],
   "source": [
    "Range = df['Recycled_Content (%)'].max() - df['Recycled_Content (%)'].min()\n",
    "print(\"Range of Recycled_Content (%):\", Range)"
   ]
  },
  {
   "cell_type": "code",
   "execution_count": null,
   "id": "4b10e85d-8af6-48ec-ba91-ada2b5a66768",
   "metadata": {},
   "outputs": [],
   "source": []
  },
  {
   "cell_type": "markdown",
   "id": "e8130743-5164-4f70-b977-ad2148f7ed00",
   "metadata": {},
   "source": [
    "Third Moment Business Decision (Skewness)"
   ]
  },
  {
   "cell_type": "code",
   "execution_count": 99,
   "id": "90c556e1-583e-4203-a01e-b3821beb4eba",
   "metadata": {},
   "outputs": [
    {
     "name": "stdout",
     "output_type": "stream",
     "text": [
      "7.460044252704974\n"
     ]
    }
   ],
   "source": [
    "skewness = df['Recycled_Content (%)'].skew()\n",
    "print(skewness)"
   ]
  },
  {
   "cell_type": "code",
   "execution_count": null,
   "id": "7e90cbaf-b51f-4111-b3aa-9131bf560944",
   "metadata": {},
   "outputs": [],
   "source": []
  },
  {
   "cell_type": "markdown",
   "id": "26ab775e-410d-4755-bca5-ec9f5035ab72",
   "metadata": {},
   "source": [
    "Fourth Moment Business Decision (Kurtosis)"
   ]
  },
  {
   "cell_type": "code",
   "execution_count": 101,
   "id": "cfeed7f6-1924-4de1-99bc-042522c85c5e",
   "metadata": {},
   "outputs": [
    {
     "name": "stdout",
     "output_type": "stream",
     "text": [
      "67.07693322970174\n"
     ]
    }
   ],
   "source": [
    "kurtosis = df['Recycled_Content (%)'].kurtosis()\n",
    "print(kurtosis)"
   ]
  },
  {
   "cell_type": "code",
   "execution_count": null,
   "id": "4275c365-7098-488f-a0ce-e7f66a928f92",
   "metadata": {},
   "outputs": [],
   "source": []
  },
  {
   "cell_type": "markdown",
   "id": "25c092e0-dfe1-47b3-8eeb-2867fafb1304",
   "metadata": {},
   "source": [
    "# Glass_Thickness (mm)"
   ]
  },
  {
   "cell_type": "markdown",
   "id": "126583d0-296b-4569-9111-087376eb97bf",
   "metadata": {},
   "source": [
    "First Moment Business Decision"
   ]
  },
  {
   "cell_type": "code",
   "execution_count": 104,
   "id": "66edae51-db4c-4d9a-99bc-ff27ce376b26",
   "metadata": {},
   "outputs": [
    {
     "name": "stdout",
     "output_type": "stream",
     "text": [
      "9.994357894736842\n"
     ]
    }
   ],
   "source": [
    "Mean = df['Glass_Thickness (mm)'].mean()\n",
    "print(Mean)"
   ]
  },
  {
   "cell_type": "code",
   "execution_count": 105,
   "id": "2ddf91ce-c046-4f76-bb8e-7150dd1f4a9c",
   "metadata": {},
   "outputs": [
    {
     "name": "stdout",
     "output_type": "stream",
     "text": [
      "8.69\n"
     ]
    }
   ],
   "source": [
    "Median = df['Glass_Thickness (mm)'].median()\n",
    "print(Median)"
   ]
  },
  {
   "cell_type": "code",
   "execution_count": 106,
   "id": "78b150e4-7447-4e99-a4c9-41833ae22b4f",
   "metadata": {},
   "outputs": [
    {
     "name": "stdout",
     "output_type": "stream",
     "text": [
      "0     2.99\n",
      "1    10.15\n",
      "Name: Glass_Thickness (mm), dtype: float64\n"
     ]
    }
   ],
   "source": [
    "Mode = df['Glass_Thickness (mm)'].mode()\n",
    "print(Mode)"
   ]
  },
  {
   "cell_type": "code",
   "execution_count": null,
   "id": "6ee3fa69-7267-4e81-89d8-19e6bf771e17",
   "metadata": {},
   "outputs": [],
   "source": []
  },
  {
   "cell_type": "markdown",
   "id": "107e5ced-a9c7-4f38-a13d-f90e270ff112",
   "metadata": {},
   "source": [
    "Second Moment Business Decision (Measures of Dispersion)"
   ]
  },
  {
   "cell_type": "code",
   "execution_count": 108,
   "id": "d687dc25-b790-451c-9739-3750befdd4fc",
   "metadata": {},
   "outputs": [
    {
     "name": "stdout",
     "output_type": "stream",
     "text": [
      "11.771196720924054\n"
     ]
    }
   ],
   "source": [
    "Standard_Deviation = df['Glass_Thickness (mm)'].std()\n",
    "print(Standard_Deviation )"
   ]
  },
  {
   "cell_type": "code",
   "execution_count": 109,
   "id": "c953e5e1-c6f5-4f74-934b-672f2f251f5f",
   "metadata": {},
   "outputs": [
    {
     "name": "stdout",
     "output_type": "stream",
     "text": [
      "138.5610722426932\n"
     ]
    }
   ],
   "source": [
    "variance = df['Glass_Thickness (mm)'].var()\n",
    "print(variance)"
   ]
  },
  {
   "cell_type": "code",
   "execution_count": 110,
   "id": "4ba24c2e-82c7-46b5-b5f9-6e02c7a3890c",
   "metadata": {},
   "outputs": [
    {
     "name": "stdout",
     "output_type": "stream",
     "text": [
      "Range of Glass_Thickness (mm): 147.39000000000001\n"
     ]
    }
   ],
   "source": [
    "Range = df['Glass_Thickness (mm)'].max() - df['Glass_Thickness (mm)'].min()\n",
    "print(\"Range of Glass_Thickness (mm):\", Range)"
   ]
  },
  {
   "cell_type": "code",
   "execution_count": null,
   "id": "f0a04ab5-c2f3-40c1-8469-f53912872eff",
   "metadata": {},
   "outputs": [],
   "source": []
  },
  {
   "cell_type": "markdown",
   "id": "17e227a4-6b2b-4e51-8248-6f9833cd579d",
   "metadata": {},
   "source": [
    "Third Moment Business Decision (Skewness)"
   ]
  },
  {
   "cell_type": "code",
   "execution_count": 112,
   "id": "ed33c32d-a742-42c3-8119-06faec602c7a",
   "metadata": {},
   "outputs": [
    {
     "name": "stdout",
     "output_type": "stream",
     "text": [
      "7.743196436912759\n"
     ]
    }
   ],
   "source": [
    "skewness = df['Glass_Thickness (mm)'].skew()\n",
    "print(skewness)"
   ]
  },
  {
   "cell_type": "code",
   "execution_count": null,
   "id": "f9550093-123b-4325-a5d5-e7af7bc9e9c0",
   "metadata": {},
   "outputs": [],
   "source": []
  },
  {
   "cell_type": "markdown",
   "id": "6c3a6b6b-c0f2-4f2a-a0b8-668e0ea2d731",
   "metadata": {},
   "source": [
    "Fourth Moment Business Decision (Kurtosis)"
   ]
  },
  {
   "cell_type": "code",
   "execution_count": 114,
   "id": "a6dff5b3-2917-44b8-a9bd-2245f7f0387d",
   "metadata": {},
   "outputs": [
    {
     "name": "stdout",
     "output_type": "stream",
     "text": [
      "70.2467626067253\n"
     ]
    }
   ],
   "source": [
    "kurtosis = df['Glass_Thickness (mm)'].kurtosis()\n",
    "print(kurtosis)"
   ]
  },
  {
   "cell_type": "code",
   "execution_count": null,
   "id": "7dbe3fc5-9fe1-4e91-bdb9-633478c14016",
   "metadata": {},
   "outputs": [],
   "source": []
  },
  {
   "cell_type": "markdown",
   "id": "d6637317-e74b-46de-a08b-328afb2e60e1",
   "metadata": {},
   "source": [
    "# Production_Target (tons)"
   ]
  },
  {
   "cell_type": "markdown",
   "id": "0193bd41-b8ef-492b-9204-c2d059811d0e",
   "metadata": {},
   "source": [
    "First Moment Business Decision"
   ]
  },
  {
   "cell_type": "code",
   "execution_count": 117,
   "id": "5b701d90-67d0-433d-954e-54ed48d9884b",
   "metadata": {},
   "outputs": [
    {
     "name": "stdout",
     "output_type": "stream",
     "text": [
      "136.25881052631578\n"
     ]
    }
   ],
   "source": [
    "Mean = df['Production_Target (tons)'].mean()\n",
    "print(Mean)"
   ]
  },
  {
   "cell_type": "code",
   "execution_count": 118,
   "id": "b4d8e15b-9c91-4f40-b38b-913ca50b6566",
   "metadata": {},
   "outputs": [
    {
     "name": "stdout",
     "output_type": "stream",
     "text": [
      "116.245\n"
     ]
    }
   ],
   "source": [
    "Median = df['Production_Target (tons)'].median()\n",
    "print(Median)"
   ]
  },
  {
   "cell_type": "code",
   "execution_count": 119,
   "id": "cd691cd0-e952-4f7e-99cc-3190e0cc3db6",
   "metadata": {},
   "outputs": [
    {
     "name": "stdout",
     "output_type": "stream",
     "text": [
      "0    98.62\n",
      "Name: Production_Target (tons), dtype: float64\n"
     ]
    }
   ],
   "source": [
    "Mode = df['Production_Target (tons)'].mode()\n",
    "print(Mode)"
   ]
  },
  {
   "cell_type": "code",
   "execution_count": null,
   "id": "a38ed1cc-e913-4c09-a399-bcd9576a322b",
   "metadata": {},
   "outputs": [],
   "source": []
  },
  {
   "cell_type": "markdown",
   "id": "0c3ccb25-082d-472a-85da-52280fdde78b",
   "metadata": {},
   "source": [
    "Second Moment Business Decision (Measures of Dispersion)"
   ]
  },
  {
   "cell_type": "code",
   "execution_count": 121,
   "id": "08803d42-2003-4cfd-a98f-f82e78d2482d",
   "metadata": {},
   "outputs": [
    {
     "name": "stdout",
     "output_type": "stream",
     "text": [
      "172.56510311662703\n"
     ]
    }
   ],
   "source": [
    "Standard_Deviation = df['Production_Target (tons)'].std()\n",
    "print(Standard_Deviation )"
   ]
  },
  {
   "cell_type": "code",
   "execution_count": 122,
   "id": "baa359d2-370f-4cc2-b767-84d7eb57ad34",
   "metadata": {},
   "outputs": [
    {
     "name": "stdout",
     "output_type": "stream",
     "text": [
      "29778.71481365212\n"
     ]
    }
   ],
   "source": [
    "variance = df['Production_Target (tons)'].var()\n",
    "print(variance)"
   ]
  },
  {
   "cell_type": "code",
   "execution_count": 123,
   "id": "dc01f58d-c02a-4d24-8648-1df29ab6112d",
   "metadata": {},
   "outputs": [
    {
     "name": "stdout",
     "output_type": "stream",
     "text": [
      "Range of Production_Target (tons): 1966.89\n"
     ]
    }
   ],
   "source": [
    "Range = df['Production_Target (tons)'].max() - df['Production_Target (tons)'].min()\n",
    "print(\"Range of Production_Target (tons):\", Range)"
   ]
  },
  {
   "cell_type": "code",
   "execution_count": null,
   "id": "1ea54c00-0e44-4309-bbf8-351f43615e59",
   "metadata": {},
   "outputs": [],
   "source": []
  },
  {
   "cell_type": "markdown",
   "id": "a35f5247-2233-4a7f-87f4-2621cfe34a21",
   "metadata": {},
   "source": [
    "Third Moment Business Decision (Skewness)"
   ]
  },
  {
   "cell_type": "code",
   "execution_count": 125,
   "id": "3a5fb78f-9ce3-450f-a96b-baba872a487a",
   "metadata": {},
   "outputs": [
    {
     "name": "stdout",
     "output_type": "stream",
     "text": [
      "7.083744786111734\n"
     ]
    }
   ],
   "source": [
    "skewness = df['Production_Target (tons)'].skew()\n",
    "print(skewness)"
   ]
  },
  {
   "cell_type": "code",
   "execution_count": null,
   "id": "f2ffd4da-3ad4-4777-934c-865c433ff7cf",
   "metadata": {},
   "outputs": [],
   "source": []
  },
  {
   "cell_type": "markdown",
   "id": "39eee81e-95f3-4ba7-87c0-ddf9c5d231f6",
   "metadata": {},
   "source": [
    "Fourth Moment Business Decision (Kurtosis)"
   ]
  },
  {
   "cell_type": "code",
   "execution_count": 127,
   "id": "d4ab5a12-aa72-414c-85bf-b58c4564d806",
   "metadata": {},
   "outputs": [
    {
     "name": "stdout",
     "output_type": "stream",
     "text": [
      "56.35692331534958\n"
     ]
    }
   ],
   "source": [
    "kurtosis = df['Production_Target (tons)'].kurtosis()\n",
    "print(kurtosis)"
   ]
  },
  {
   "cell_type": "code",
   "execution_count": null,
   "id": "932e1539-f32b-4e43-a3dd-7c03dc3bb871",
   "metadata": {},
   "outputs": [],
   "source": []
  },
  {
   "cell_type": "markdown",
   "id": "cd086a0a-a878-4c0b-955d-a6e1a5869f77",
   "metadata": {},
   "source": [
    "# Defects_Percentage (%)"
   ]
  },
  {
   "cell_type": "markdown",
   "id": "f7aa1d01-559b-4fd3-9877-203d9d56f110",
   "metadata": {},
   "source": [
    "First Moment Business Decision"
   ]
  },
  {
   "cell_type": "code",
   "execution_count": 130,
   "id": "d6ff38de-e1b1-46b0-99bf-1972dc50dda5",
   "metadata": {},
   "outputs": [
    {
     "name": "stdout",
     "output_type": "stream",
     "text": [
      "5.547957894736842\n"
     ]
    }
   ],
   "source": [
    "Mean = df['Defects_Percentage (%)'].mean()\n",
    "print(Mean)"
   ]
  },
  {
   "cell_type": "code",
   "execution_count": 131,
   "id": "319c0b0a-c090-4ddd-9451-8c9a9fca2f38",
   "metadata": {},
   "outputs": [
    {
     "name": "stdout",
     "output_type": "stream",
     "text": [
      "4.84\n"
     ]
    }
   ],
   "source": [
    "Median = df['Defects_Percentage (%)'].median()\n",
    "print(Median)"
   ]
  },
  {
   "cell_type": "code",
   "execution_count": 132,
   "id": "0b1220cd-41f5-4ddc-b173-9148da5b6eb6",
   "metadata": {},
   "outputs": [
    {
     "name": "stdout",
     "output_type": "stream",
     "text": [
      "0    2.31\n",
      "1    3.11\n",
      "Name: Defects_Percentage (%), dtype: float64\n"
     ]
    }
   ],
   "source": [
    "Mode = df['Defects_Percentage (%)'].mode()\n",
    "print(Mode)"
   ]
  },
  {
   "cell_type": "code",
   "execution_count": null,
   "id": "06372c29-8120-4292-883e-dbdb8c7e9af0",
   "metadata": {},
   "outputs": [],
   "source": []
  },
  {
   "cell_type": "markdown",
   "id": "3b5eba21-af28-4c30-8acd-11529b8254f3",
   "metadata": {},
   "source": [
    "Second Moment Business Decision (Measures of Dispersion)"
   ]
  },
  {
   "cell_type": "code",
   "execution_count": 134,
   "id": "b1a86dac-5d65-476e-b7f0-ada9462e18e8",
   "metadata": {},
   "outputs": [
    {
     "name": "stdout",
     "output_type": "stream",
     "text": [
      "6.6909126708650195\n"
     ]
    }
   ],
   "source": [
    "Standard_Deviation = df['Defects_Percentage (%)'].std()\n",
    "print(Standard_Deviation )"
   ]
  },
  {
   "cell_type": "code",
   "execution_count": 135,
   "id": "b53bca12-b4a5-4da2-bcc9-f206c6303908",
   "metadata": {},
   "outputs": [
    {
     "name": "stdout",
     "output_type": "stream",
     "text": [
      "44.768312369142066\n"
     ]
    }
   ],
   "source": [
    "variance = df['Defects_Percentage (%)'].var()\n",
    "print(variance)"
   ]
  },
  {
   "cell_type": "code",
   "execution_count": 136,
   "id": "a5854a70-d2ed-48f6-b093-8a72e4f4a3a0",
   "metadata": {},
   "outputs": [
    {
     "name": "stdout",
     "output_type": "stream",
     "text": [
      "Range of Defects_Percentage (%): 89.88000000000001\n"
     ]
    }
   ],
   "source": [
    "Range = df['Defects_Percentage (%)'].max() - df['Defects_Percentage (%)'].min()\n",
    "print(\"Range of Defects_Percentage (%):\", Range)"
   ]
  },
  {
   "cell_type": "code",
   "execution_count": null,
   "id": "42f888c0-023e-45ee-8d68-69a5063989ad",
   "metadata": {},
   "outputs": [],
   "source": []
  },
  {
   "cell_type": "markdown",
   "id": "ee0b46c2-082a-4694-89e1-53cfdcf8fc79",
   "metadata": {},
   "source": [
    "Third Moment Business Decision (Skewness)"
   ]
  },
  {
   "cell_type": "code",
   "execution_count": 138,
   "id": "54865b57-8101-4649-8eb9-d08c5bd3c484",
   "metadata": {},
   "outputs": [
    {
     "name": "stdout",
     "output_type": "stream",
     "text": [
      "7.766881284985993\n"
     ]
    }
   ],
   "source": [
    "skewness = df['Defects_Percentage (%)'].skew()\n",
    "print(skewness)"
   ]
  },
  {
   "cell_type": "code",
   "execution_count": null,
   "id": "fda3e10c-2e15-4898-b67c-568467e807a5",
   "metadata": {},
   "outputs": [],
   "source": []
  },
  {
   "cell_type": "markdown",
   "id": "581d8806-ea8c-4ff0-a7d5-b1b4a7678425",
   "metadata": {},
   "source": [
    "Fourth Moment Business Decision (Kurtosis)"
   ]
  },
  {
   "cell_type": "code",
   "execution_count": 140,
   "id": "f6aea253-5e78-4cf8-8949-2b47692fc674",
   "metadata": {},
   "outputs": [
    {
     "name": "stdout",
     "output_type": "stream",
     "text": [
      "78.08157767053531\n"
     ]
    }
   ],
   "source": [
    "kurtosis = df['Defects_Percentage (%)'].kurtosis()\n",
    "print(kurtosis)"
   ]
  },
  {
   "cell_type": "code",
   "execution_count": null,
   "id": "5d49a167-e489-4c60-9f68-ed8aa8ad2190",
   "metadata": {},
   "outputs": [],
   "source": []
  },
  {
   "cell_type": "markdown",
   "id": "ed84c5e0-08ee-4d8f-b5d4-fbf2f7678e42",
   "metadata": {},
   "source": [
    "# Melting_Time (hrs)"
   ]
  },
  {
   "cell_type": "markdown",
   "id": "011e49ad-fe32-4916-9cc7-835d816c1afa",
   "metadata": {},
   "source": [
    "First Moment Business Decision"
   ]
  },
  {
   "cell_type": "code",
   "execution_count": 143,
   "id": "080ed889-d811-4ed4-8f0b-5c07cd92eafb",
   "metadata": {},
   "outputs": [
    {
     "name": "stdout",
     "output_type": "stream",
     "text": [
      "19.562842105263154\n"
     ]
    }
   ],
   "source": [
    "Mean = df['Melting_Time (hrs)'].mean()\n",
    "print(Mean)"
   ]
  },
  {
   "cell_type": "code",
   "execution_count": 144,
   "id": "3cb71015-2059-44ad-a271-394b3df38f6e",
   "metadata": {},
   "outputs": [
    {
     "name": "stdout",
     "output_type": "stream",
     "text": [
      "16.35\n"
     ]
    }
   ],
   "source": [
    "Median = df['Melting_Time (hrs)'].median()\n",
    "print(Median)"
   ]
  },
  {
   "cell_type": "code",
   "execution_count": 145,
   "id": "7d931f88-08ef-4c8c-911a-416e0a01cbb1",
   "metadata": {},
   "outputs": [
    {
     "name": "stdout",
     "output_type": "stream",
     "text": [
      "0    13.5\n",
      "Name: Melting_Time (hrs), dtype: float64\n"
     ]
    }
   ],
   "source": [
    "Mode = df['Melting_Time (hrs)'].mode()\n",
    "print(Mode)"
   ]
  },
  {
   "cell_type": "code",
   "execution_count": null,
   "id": "1200abe0-366e-4b64-ad1a-9a1d4a78b679",
   "metadata": {},
   "outputs": [],
   "source": []
  },
  {
   "cell_type": "markdown",
   "id": "52b3fdba-220e-4959-8235-b62aa9187002",
   "metadata": {},
   "source": [
    "Second Moment Business Decision (Measures of Dispersion)"
   ]
  },
  {
   "cell_type": "code",
   "execution_count": 147,
   "id": "6fa83339-7070-4920-880b-6e83b09b0711",
   "metadata": {},
   "outputs": [
    {
     "name": "stdout",
     "output_type": "stream",
     "text": [
      "25.221473746837173\n"
     ]
    }
   ],
   "source": [
    "Standard_Deviation = df['Melting_Time (hrs)'].std()\n",
    "print(Standard_Deviation )"
   ]
  },
  {
   "cell_type": "code",
   "execution_count": 148,
   "id": "d11d42ce-45b9-489c-b0d5-5cb492798d5a",
   "metadata": {},
   "outputs": [
    {
     "name": "stdout",
     "output_type": "stream",
     "text": [
      "636.1227379623967\n"
     ]
    }
   ],
   "source": [
    "variance = df['Melting_Time (hrs)'].var()\n",
    "print(variance)"
   ]
  },
  {
   "cell_type": "code",
   "execution_count": 149,
   "id": "7e97e2ba-35ae-46dc-9f4d-8fb3f6e15068",
   "metadata": {},
   "outputs": [
    {
     "name": "stdout",
     "output_type": "stream",
     "text": [
      "Range of Melting_Time (hrs): 232.0\n"
     ]
    }
   ],
   "source": [
    "Range = df['Melting_Time (hrs)'].max() - df['Melting_Time (hrs)'].min()\n",
    "print(\"Range of Melting_Time (hrs):\", Range)"
   ]
  },
  {
   "cell_type": "code",
   "execution_count": null,
   "id": "22065a1b-4234-41d5-8784-53845fc9a582",
   "metadata": {},
   "outputs": [],
   "source": []
  },
  {
   "cell_type": "markdown",
   "id": "4ece4df9-65a6-4ac4-96e9-8cdf0d2d508e",
   "metadata": {},
   "source": [
    "Third Moment Business Decision (Skewness)"
   ]
  },
  {
   "cell_type": "code",
   "execution_count": 151,
   "id": "6a94cfeb-a267-4edd-a349-610c2b8e5491",
   "metadata": {},
   "outputs": [
    {
     "name": "stdout",
     "output_type": "stream",
     "text": [
      "7.038695318681397\n"
     ]
    }
   ],
   "source": [
    "skewness = df['Melting_Time (hrs)'].skew()\n",
    "print(skewness)"
   ]
  },
  {
   "cell_type": "code",
   "execution_count": null,
   "id": "5edc2009-a59e-44a2-a06e-06ec0c3b8d96",
   "metadata": {},
   "outputs": [],
   "source": []
  },
  {
   "cell_type": "markdown",
   "id": "e65477c1-22b8-442a-9df9-c67575c66ca9",
   "metadata": {},
   "source": [
    "Fourth Moment Business Decision (Kurtosis)"
   ]
  },
  {
   "cell_type": "code",
   "execution_count": 153,
   "id": "9b7e86b5-e81a-494e-989a-9689be0661bb",
   "metadata": {},
   "outputs": [
    {
     "name": "stdout",
     "output_type": "stream",
     "text": [
      "50.89927484063241\n"
     ]
    }
   ],
   "source": [
    "kurtosis = df['Melting_Time (hrs)'].kurtosis()\n",
    "print(kurtosis)"
   ]
  },
  {
   "cell_type": "code",
   "execution_count": null,
   "id": "d648e7e4-6ace-4b09-8be1-6a4451f089d3",
   "metadata": {},
   "outputs": [],
   "source": []
  },
  {
   "cell_type": "markdown",
   "id": "8e02d535-0aa2-4a4b-8622-770fe533a199",
   "metadata": {},
   "source": [
    "# Cooling_Energy (kWh)"
   ]
  },
  {
   "cell_type": "markdown",
   "id": "83a01b99-2975-44a6-ace0-cc9582e30552",
   "metadata": {},
   "source": [
    "First Moment Business Decision"
   ]
  },
  {
   "cell_type": "code",
   "execution_count": 156,
   "id": "0251f483-b0fa-4687-9f74-cff41e2c0e35",
   "metadata": {},
   "outputs": [
    {
     "name": "stdout",
     "output_type": "stream",
     "text": [
      "647.9044105263157\n"
     ]
    }
   ],
   "source": [
    "Mean = df['Cooling_Energy (kWh)'].mean()\n",
    "print(Mean)"
   ]
  },
  {
   "cell_type": "code",
   "execution_count": 157,
   "id": "c91e832b-24ff-4952-a8e3-89680a852ce8",
   "metadata": {},
   "outputs": [
    {
     "name": "stdout",
     "output_type": "stream",
     "text": [
      "564.095\n"
     ]
    }
   ],
   "source": [
    "Median = df['Cooling_Energy (kWh)'].median()\n",
    "print(Median)"
   ]
  },
  {
   "cell_type": "code",
   "execution_count": 158,
   "id": "8e8d6228-2888-4437-b92d-eb3bdc2999e0",
   "metadata": {},
   "outputs": [
    {
     "name": "stdout",
     "output_type": "stream",
     "text": [
      "0    134.48\n",
      "1    456.19\n",
      "2    795.64\n",
      "3    906.36\n",
      "Name: Cooling_Energy (kWh), dtype: float64\n"
     ]
    }
   ],
   "source": [
    "Mode = df['Cooling_Energy (kWh)'].mode()\n",
    "print(Mode)"
   ]
  },
  {
   "cell_type": "code",
   "execution_count": null,
   "id": "017988dd-b55e-4352-80c7-f8f3c26609e7",
   "metadata": {},
   "outputs": [],
   "source": []
  },
  {
   "cell_type": "markdown",
   "id": "01dc0d60-1ea6-47ba-ac81-7b3b4040ef8e",
   "metadata": {},
   "source": [
    "Second Moment Business Decision (Measures of Dispersion)"
   ]
  },
  {
   "cell_type": "code",
   "execution_count": 160,
   "id": "92dbc2e6-100d-4446-b5b5-5fa022d1d9da",
   "metadata": {},
   "outputs": [
    {
     "name": "stdout",
     "output_type": "stream",
     "text": [
      "806.4149324525331\n"
     ]
    }
   ],
   "source": [
    "Standard_Deviation = df['Cooling_Energy (kWh)'].std()\n",
    "print(Standard_Deviation )"
   ]
  },
  {
   "cell_type": "code",
   "execution_count": 161,
   "id": "f82256f1-ca24-4661-b606-ab8001682652",
   "metadata": {},
   "outputs": [
    {
     "name": "stdout",
     "output_type": "stream",
     "text": [
      "650305.0432824235\n"
     ]
    }
   ],
   "source": [
    "variance = df['Cooling_Energy (kWh)'].var()\n",
    "print(variance)"
   ]
  },
  {
   "cell_type": "code",
   "execution_count": 162,
   "id": "df31fe0f-e759-49f5-baf9-36bfd94db849",
   "metadata": {},
   "outputs": [
    {
     "name": "stdout",
     "output_type": "stream",
     "text": [
      "Range of Cooling_Energy (kWh): 9195.16\n"
     ]
    }
   ],
   "source": [
    "Range = df['Cooling_Energy (kWh)'].max() - df['Cooling_Energy (kWh)'].min()\n",
    "print(\"Range of Cooling_Energy (kWh):\", Range)"
   ]
  },
  {
   "cell_type": "code",
   "execution_count": null,
   "id": "6cdbb3bd-bead-49a2-a977-2e8d830d978f",
   "metadata": {},
   "outputs": [],
   "source": []
  },
  {
   "cell_type": "markdown",
   "id": "66376cc3-3c8d-4a4f-be77-cd70708c05c2",
   "metadata": {},
   "source": [
    "Third Moment Business Decision (Skewness)"
   ]
  },
  {
   "cell_type": "code",
   "execution_count": 164,
   "id": "a0d6a9ba-500b-4504-bd73-a4c13851b6a3",
   "metadata": {},
   "outputs": [
    {
     "name": "stdout",
     "output_type": "stream",
     "text": [
      "7.746249988752409\n"
     ]
    }
   ],
   "source": [
    "skewness = df['Cooling_Energy (kWh)'].skew()\n",
    "print(skewness)"
   ]
  },
  {
   "cell_type": "code",
   "execution_count": null,
   "id": "d4edccdc-0c1e-4597-bfca-bbfa8d54dde5",
   "metadata": {},
   "outputs": [],
   "source": []
  },
  {
   "cell_type": "markdown",
   "id": "d33970f2-48b3-4412-aaa7-a40a1c9e72e8",
   "metadata": {},
   "source": [
    "Fourth Moment Business Decision (Kurtosis)"
   ]
  },
  {
   "cell_type": "code",
   "execution_count": 166,
   "id": "50db5269-0080-4ebe-8725-d7372f5ba179",
   "metadata": {},
   "outputs": [
    {
     "name": "stdout",
     "output_type": "stream",
     "text": [
      "69.97114268579091\n"
     ]
    }
   ],
   "source": [
    "kurtosis = df['Cooling_Energy (kWh)'].kurtosis()\n",
    "print(kurtosis)"
   ]
  },
  {
   "cell_type": "code",
   "execution_count": null,
   "id": "38c6fa15-1de6-4009-82af-7667c700074d",
   "metadata": {},
   "outputs": [],
   "source": []
  }
 ],
 "metadata": {
  "kernelspec": {
   "display_name": "Python 3 (ipykernel)",
   "language": "python",
   "name": "python3"
  },
  "language_info": {
   "codemirror_mode": {
    "name": "ipython",
    "version": 3
   },
   "file_extension": ".py",
   "mimetype": "text/x-python",
   "name": "python",
   "nbconvert_exporter": "python",
   "pygments_lexer": "ipython3",
   "version": "3.12.4"
  }
 },
 "nbformat": 4,
 "nbformat_minor": 5
}
