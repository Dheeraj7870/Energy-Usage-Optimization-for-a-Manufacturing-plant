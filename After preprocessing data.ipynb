{
 "cells": [
  {
   "cell_type": "code",
   "execution_count": 1,
   "id": "eb68358a-e515-494b-9a09-3caa6c8a58dd",
   "metadata": {},
   "outputs": [],
   "source": [
    "import pandas as pd\n",
    "import numpy as np\n",
    "import matplotlib.pyplot as plt\n",
    "import seaborn as sns"
   ]
  },
  {
   "cell_type": "code",
   "execution_count": 2,
   "id": "ea88f557-7f8b-4c6b-b9ab-b609f638f7d1",
   "metadata": {},
   "outputs": [],
   "source": [
    "df = pd.read_csv(r\"D:\\Project 360DiGITMG\\Datasets\\Modified_Glass_Manufacturing_Energy_Optimization.csv\", delimiter = ',',)"
   ]
  },
  {
   "cell_type": "code",
   "execution_count": 3,
   "id": "9e9f1939-1e7a-4f03-a5b3-e795c87508ec",
   "metadata": {},
   "outputs": [
    {
     "data": {
      "text/html": [
       "<div>\n",
       "<style scoped>\n",
       "    .dataframe tbody tr th:only-of-type {\n",
       "        vertical-align: middle;\n",
       "    }\n",
       "\n",
       "    .dataframe tbody tr th {\n",
       "        vertical-align: top;\n",
       "    }\n",
       "\n",
       "    .dataframe thead th {\n",
       "        text-align: right;\n",
       "    }\n",
       "</style>\n",
       "<table border=\"1\" class=\"dataframe\">\n",
       "  <thead>\n",
       "    <tr style=\"text-align: right;\">\n",
       "      <th></th>\n",
       "      <th>Date</th>\n",
       "      <th>Shift</th>\n",
       "      <th>Furnace_ID</th>\n",
       "      <th>Furnace_Type</th>\n",
       "      <th>Batch_Type</th>\n",
       "      <th>Production_Output (tons)</th>\n",
       "      <th>Energy_Consumption (kWh)</th>\n",
       "      <th>Furnace_Temperature (°C)</th>\n",
       "      <th>Annealing_Time (hrs)</th>\n",
       "      <th>Downtime (hrs)</th>\n",
       "      <th>Ambient_Temperature (°C)</th>\n",
       "      <th>Recycled_Content (%)</th>\n",
       "      <th>Energy_Rating</th>\n",
       "      <th>Maintenance_Flag</th>\n",
       "      <th>Fuel_Type</th>\n",
       "      <th>Glass_Thickness (mm)</th>\n",
       "      <th>Production_Target (tons)</th>\n",
       "      <th>Defects_Percentage (%)</th>\n",
       "      <th>Melting_Time (hrs)</th>\n",
       "      <th>Cooling_Energy (kWh)</th>\n",
       "    </tr>\n",
       "  </thead>\n",
       "  <tbody>\n",
       "    <tr>\n",
       "      <th>0</th>\n",
       "      <td>01-01-2023 0.00</td>\n",
       "      <td>Morning</td>\n",
       "      <td>Furnace_1</td>\n",
       "      <td>Electric</td>\n",
       "      <td>Borosilicate</td>\n",
       "      <td>107.35</td>\n",
       "      <td>3288.96</td>\n",
       "      <td>1468.9</td>\n",
       "      <td>30.80</td>\n",
       "      <td>4.19</td>\n",
       "      <td>16.7</td>\n",
       "      <td>56.0</td>\n",
       "      <td>B</td>\n",
       "      <td>No</td>\n",
       "      <td>Natural Gas</td>\n",
       "      <td>9.79</td>\n",
       "      <td>57.77</td>\n",
       "      <td>5.55</td>\n",
       "      <td>21.9</td>\n",
       "      <td>258.78</td>\n",
       "    </tr>\n",
       "    <tr>\n",
       "      <th>1</th>\n",
       "      <td>01-01-2023 1.00</td>\n",
       "      <td>Afternoon</td>\n",
       "      <td>Furnace_6</td>\n",
       "      <td>Hybrid</td>\n",
       "      <td>Soda-lime</td>\n",
       "      <td>43.51</td>\n",
       "      <td>4867.96</td>\n",
       "      <td>1445.2</td>\n",
       "      <td>3.68</td>\n",
       "      <td>4.74</td>\n",
       "      <td>19.4</td>\n",
       "      <td>NaN</td>\n",
       "      <td>A</td>\n",
       "      <td>Yes</td>\n",
       "      <td>Electricity</td>\n",
       "      <td>3.45</td>\n",
       "      <td>126.89</td>\n",
       "      <td>0.48</td>\n",
       "      <td>14.0</td>\n",
       "      <td>707.82</td>\n",
       "    </tr>\n",
       "    <tr>\n",
       "      <th>2</th>\n",
       "      <td>01-01-2023 2.00</td>\n",
       "      <td>Night</td>\n",
       "      <td>Furnace_9</td>\n",
       "      <td>Gas</td>\n",
       "      <td>Lead</td>\n",
       "      <td>37.79</td>\n",
       "      <td>3347.15</td>\n",
       "      <td>1486.8</td>\n",
       "      <td>2.48</td>\n",
       "      <td>2.88</td>\n",
       "      <td>20.6</td>\n",
       "      <td>61.0</td>\n",
       "      <td>B</td>\n",
       "      <td>No</td>\n",
       "      <td>Electricity</td>\n",
       "      <td>8.35</td>\n",
       "      <td>173.87</td>\n",
       "      <td>2.54</td>\n",
       "      <td>11.9</td>\n",
       "      <td>743.58</td>\n",
       "    </tr>\n",
       "    <tr>\n",
       "      <th>3</th>\n",
       "      <td>01-01-2023 3.00</td>\n",
       "      <td>Afternoon</td>\n",
       "      <td>Furnace_9</td>\n",
       "      <td>Gas</td>\n",
       "      <td>Soda-lime</td>\n",
       "      <td>77.12</td>\n",
       "      <td>2829.63</td>\n",
       "      <td>1626.8</td>\n",
       "      <td>1.90</td>\n",
       "      <td>2.41</td>\n",
       "      <td>22.6</td>\n",
       "      <td>51.0</td>\n",
       "      <td>A</td>\n",
       "      <td>No</td>\n",
       "      <td>Natural Gas</td>\n",
       "      <td>10.00</td>\n",
       "      <td>108.02</td>\n",
       "      <td>5.96</td>\n",
       "      <td>11.1</td>\n",
       "      <td>421.00</td>\n",
       "    </tr>\n",
       "    <tr>\n",
       "      <th>4</th>\n",
       "      <td>01-01-2023 4.00</td>\n",
       "      <td>Morning</td>\n",
       "      <td>Furnace_6</td>\n",
       "      <td>Electric</td>\n",
       "      <td>Soda-lime</td>\n",
       "      <td>169.49</td>\n",
       "      <td>3935.36</td>\n",
       "      <td>1593.9</td>\n",
       "      <td>3.81</td>\n",
       "      <td>43.40</td>\n",
       "      <td>31.4</td>\n",
       "      <td>NaN</td>\n",
       "      <td>B</td>\n",
       "      <td>Yes</td>\n",
       "      <td>Natural Gas</td>\n",
       "      <td>8.60</td>\n",
       "      <td>77.60</td>\n",
       "      <td>NaN</td>\n",
       "      <td>12.2</td>\n",
       "      <td>275.03</td>\n",
       "    </tr>\n",
       "  </tbody>\n",
       "</table>\n",
       "</div>"
      ],
      "text/plain": [
       "              Date      Shift Furnace_ID Furnace_Type    Batch_Type  \\\n",
       "0  01-01-2023 0.00    Morning  Furnace_1     Electric  Borosilicate   \n",
       "1  01-01-2023 1.00  Afternoon  Furnace_6       Hybrid     Soda-lime   \n",
       "2  01-01-2023 2.00      Night  Furnace_9          Gas          Lead   \n",
       "3  01-01-2023 3.00  Afternoon  Furnace_9          Gas     Soda-lime   \n",
       "4  01-01-2023 4.00    Morning  Furnace_6     Electric     Soda-lime   \n",
       "\n",
       "   Production_Output (tons)  Energy_Consumption (kWh)  \\\n",
       "0                    107.35                   3288.96   \n",
       "1                     43.51                   4867.96   \n",
       "2                     37.79                   3347.15   \n",
       "3                     77.12                   2829.63   \n",
       "4                    169.49                   3935.36   \n",
       "\n",
       "   Furnace_Temperature (°C)  Annealing_Time (hrs)  Downtime (hrs)  \\\n",
       "0                    1468.9                 30.80            4.19   \n",
       "1                    1445.2                  3.68            4.74   \n",
       "2                    1486.8                  2.48            2.88   \n",
       "3                    1626.8                  1.90            2.41   \n",
       "4                    1593.9                  3.81           43.40   \n",
       "\n",
       "   Ambient_Temperature (°C)  Recycled_Content (%) Energy_Rating  \\\n",
       "0                      16.7                  56.0             B   \n",
       "1                      19.4                   NaN             A   \n",
       "2                      20.6                  61.0             B   \n",
       "3                      22.6                  51.0             A   \n",
       "4                      31.4                   NaN             B   \n",
       "\n",
       "  Maintenance_Flag    Fuel_Type  Glass_Thickness (mm)  \\\n",
       "0               No  Natural Gas                  9.79   \n",
       "1              Yes  Electricity                  3.45   \n",
       "2               No  Electricity                  8.35   \n",
       "3               No  Natural Gas                 10.00   \n",
       "4              Yes  Natural Gas                  8.60   \n",
       "\n",
       "   Production_Target (tons)  Defects_Percentage (%)  Melting_Time (hrs)  \\\n",
       "0                     57.77                    5.55                21.9   \n",
       "1                    126.89                    0.48                14.0   \n",
       "2                    173.87                    2.54                11.9   \n",
       "3                    108.02                    5.96                11.1   \n",
       "4                     77.60                     NaN                12.2   \n",
       "\n",
       "   Cooling_Energy (kWh)  \n",
       "0                258.78  \n",
       "1                707.82  \n",
       "2                743.58  \n",
       "3                421.00  \n",
       "4                275.03  "
      ]
     },
     "execution_count": 3,
     "metadata": {},
     "output_type": "execute_result"
    }
   ],
   "source": [
    "df.head()"
   ]
  },
  {
   "cell_type": "code",
   "execution_count": 4,
   "id": "8bb739a6-837b-401c-b161-4529e03e6f02",
   "metadata": {},
   "outputs": [
    {
     "name": "stdout",
     "output_type": "stream",
     "text": [
      "Date                         object\n",
      "Shift                        object\n",
      "Furnace_ID                   object\n",
      "Furnace_Type                 object\n",
      "Batch_Type                   object\n",
      "Production_Output (tons)    float64\n",
      "Energy_Consumption (kWh)    float64\n",
      "Furnace_Temperature (°C)    float64\n",
      "Annealing_Time (hrs)        float64\n",
      "Downtime (hrs)              float64\n",
      "Ambient_Temperature (°C)    float64\n",
      "Recycled_Content (%)        float64\n",
      "Energy_Rating                object\n",
      "Maintenance_Flag             object\n",
      "Fuel_Type                    object\n",
      "Glass_Thickness (mm)        float64\n",
      "Production_Target (tons)    float64\n",
      "Defects_Percentage (%)      float64\n",
      "Melting_Time (hrs)          float64\n",
      "Cooling_Energy (kWh)        float64\n",
      "dtype: object\n"
     ]
    }
   ],
   "source": [
    "print(df.dtypes)"
   ]
  },
  {
   "cell_type": "markdown",
   "id": "067b9ea7-86bd-4b4b-995b-83766bb53957",
   "metadata": {},
   "source": [
    "# Data preprocessing"
   ]
  },
  {
   "cell_type": "markdown",
   "id": "584fdcdb-8655-4bca-9f49-65d49579fc44",
   "metadata": {},
   "source": [
    "duplicate "
   ]
  },
  {
   "cell_type": "code",
   "execution_count": 7,
   "id": "9b5f38b9-fb44-4a53-98b9-2c22a83635c6",
   "metadata": {},
   "outputs": [
    {
     "data": {
      "text/plain": [
       "0"
      ]
     },
     "execution_count": 7,
     "metadata": {},
     "output_type": "execute_result"
    }
   ],
   "source": [
    "df.duplicated().sum()"
   ]
  },
  {
   "cell_type": "code",
   "execution_count": null,
   "id": "3ccd0a35-fbd7-4973-a834-c93a961eedc6",
   "metadata": {},
   "outputs": [],
   "source": []
  },
  {
   "cell_type": "markdown",
   "id": "c6a6eab2-9ce1-4c6d-9a45-30d608b16f98",
   "metadata": {},
   "source": [
    "missing value"
   ]
  },
  {
   "cell_type": "code",
   "execution_count": 9,
   "id": "b1b86c39-2a42-4800-9c17-df889eb43d76",
   "metadata": {},
   "outputs": [
    {
     "data": {
      "text/plain": [
       "Date                         0\n",
       "Shift                        0\n",
       "Furnace_ID                   0\n",
       "Furnace_Type                 0\n",
       "Batch_Type                   0\n",
       "Production_Output (tons)    50\n",
       "Energy_Consumption (kWh)    50\n",
       "Furnace_Temperature (°C)    50\n",
       "Annealing_Time (hrs)        50\n",
       "Downtime (hrs)              50\n",
       "Ambient_Temperature (°C)    50\n",
       "Recycled_Content (%)        50\n",
       "Energy_Rating                0\n",
       "Maintenance_Flag             0\n",
       "Fuel_Type                    0\n",
       "Glass_Thickness (mm)        50\n",
       "Production_Target (tons)    50\n",
       "Defects_Percentage (%)      50\n",
       "Melting_Time (hrs)          50\n",
       "Cooling_Energy (kWh)        50\n",
       "dtype: int64"
      ]
     },
     "execution_count": 9,
     "metadata": {},
     "output_type": "execute_result"
    }
   ],
   "source": [
    "df.isnull().sum()"
   ]
  },
  {
   "cell_type": "code",
   "execution_count": null,
   "id": "9d2ee327-32a7-4dd0-8fc0-916b90ac428a",
   "metadata": {},
   "outputs": [],
   "source": []
  },
  {
   "cell_type": "code",
   "execution_count": 10,
   "id": "9f142f94-2c1c-4dd1-9c95-84e71be567ba",
   "metadata": {},
   "outputs": [],
   "source": [
    "# Select the relevant columns and fill missing values with the median\n",
    "columns_to_fill = [\n",
    "    'Production_Output (tons)', 'Energy_Consumption (kWh)', 'Furnace_Temperature (°C)', \n",
    "    'Annealing_Time (hrs)', 'Downtime (hrs)', 'Ambient_Temperature (°C)', \n",
    "    'Recycled_Content (%)', 'Glass_Thickness (mm)', 'Production_Target (tons)', \n",
    "    'Defects_Percentage (%)', 'Melting_Time (hrs)', 'Cooling_Energy (kWh)'\n",
    "]\n",
    "\n",
    "# Fill missing values with the median of each respective column\n",
    "df[columns_to_fill] = df[columns_to_fill].fillna(df[columns_to_fill].median())"
   ]
  },
  {
   "cell_type": "code",
   "execution_count": null,
   "id": "5886f830-a20e-439d-a8f9-1857fe078580",
   "metadata": {},
   "outputs": [],
   "source": []
  },
  {
   "cell_type": "code",
   "execution_count": null,
   "id": "c236d513-fbb5-4915-ad1b-16f9e3154880",
   "metadata": {},
   "outputs": [],
   "source": []
  },
  {
   "cell_type": "code",
   "execution_count": 11,
   "id": "d76fbe0c-3d42-4088-a015-fbf7b497f71c",
   "metadata": {},
   "outputs": [
    {
     "data": {
      "text/plain": [
       "Date                        0\n",
       "Shift                       0\n",
       "Furnace_ID                  0\n",
       "Furnace_Type                0\n",
       "Batch_Type                  0\n",
       "Production_Output (tons)    0\n",
       "Energy_Consumption (kWh)    0\n",
       "Furnace_Temperature (°C)    0\n",
       "Annealing_Time (hrs)        0\n",
       "Downtime (hrs)              0\n",
       "Ambient_Temperature (°C)    0\n",
       "Recycled_Content (%)        0\n",
       "Energy_Rating               0\n",
       "Maintenance_Flag            0\n",
       "Fuel_Type                   0\n",
       "Glass_Thickness (mm)        0\n",
       "Production_Target (tons)    0\n",
       "Defects_Percentage (%)      0\n",
       "Melting_Time (hrs)          0\n",
       "Cooling_Energy (kWh)        0\n",
       "dtype: int64"
      ]
     },
     "execution_count": 11,
     "metadata": {},
     "output_type": "execute_result"
    }
   ],
   "source": [
    "df.isnull().sum()"
   ]
  },
  {
   "cell_type": "code",
   "execution_count": null,
   "id": "3d4d7f6a-074e-4c83-9e60-b480b4910387",
   "metadata": {},
   "outputs": [],
   "source": []
  },
  {
   "cell_type": "markdown",
   "id": "a893e908-f4a5-4221-ab97-a93665f0f284",
   "metadata": {},
   "source": [
    "Outliers Treatments"
   ]
  },
  {
   "cell_type": "code",
   "execution_count": 13,
   "id": "bb70ae14-fc6a-40b5-9cd5-ac9348582c4c",
   "metadata": {},
   "outputs": [
    {
     "data": {
      "image/png": "[encoded data removed]",
      "text/plain": [
       "<Figure size 2000x4000 with 20 Axes>"
      ]
     },
     "metadata": {},
     "output_type": "display_data"
    }
   ],
   "source": [
    "df.plot(kind=\"box\", sharey=False, sharex=False, subplots=True, figsize=(20,40), layout=[10,2],vert=0)\n",
    "plt.subplots_adjust(wspace=0.75)"
   ]
  },
  {
   "cell_type": "code",
   "execution_count": null,
   "id": "07076401-46d0-462b-a541-2e4da0c5567f",
   "metadata": {},
   "outputs": [],
   "source": []
  },
  {
   "cell_type": "code",
   "execution_count": null,
   "id": "a7759c11-b1e6-419f-85c6-e58a315c337c",
   "metadata": {},
   "outputs": [],
   "source": []
  },
  {
   "cell_type": "code",
   "execution_count": 14,
   "id": "3ccef02c-f7ac-476f-a94a-8b5d4d62a90c",
   "metadata": {},
   "outputs": [],
   "source": [
    "from feature_engine.outliers import Winsorizer\n",
    "\n"
   ]
  },
  {
   "cell_type": "code",
   "execution_count": 15,
   "id": "cbb65477-85ef-4d51-a518-443b7705b52b",
   "metadata": {},
   "outputs": [],
   "source": [
    "win_df = Winsorizer(capping_method = 'iqr',\n",
    "                   fold = 1.5,\n",
    "                   tail = 'both',\n",
    "                   variables = ['Production_Output (tons)'])"
   ]
  },
  {
   "cell_type": "code",
   "execution_count": 16,
   "id": "9b67f315-7c38-47e8-aef1-cf2fcdc56b94",
   "metadata": {},
   "outputs": [],
   "source": [
    "df = win_df.fit_transform(df)"
   ]
  },
  {
   "cell_type": "code",
   "execution_count": 17,
   "id": "2603e941-59ca-4625-bff5-606e23a79d9c",
   "metadata": {},
   "outputs": [
    {
     "data": {
      "text/plain": [
       "<Axes: ylabel='Production_Output (tons)'>"
      ]
     },
     "execution_count": 17,
     "metadata": {},
     "output_type": "execute_result"
    },
    {
     "data": {
      "image/png": "[encoded data removed]",
      "text/plain": [
       "<Figure size 640x480 with 1 Axes>"
      ]
     },
     "metadata": {},
     "output_type": "display_data"
    }
   ],
   "source": [
    "sns.boxplot(df['Production_Output (tons)'])"
   ]
  },
  {
   "cell_type": "code",
   "execution_count": 18,
   "id": "1fae492a-3d58-4900-8069-fdb0f7c000e7",
   "metadata": {},
   "outputs": [],
   "source": [
    "win_df = Winsorizer(capping_method = 'iqr',\n",
    "                   fold = 1.5,\n",
    "                   tail = 'both',\n",
    "                   variables = ['Energy_Consumption (kWh)'])"
   ]
  },
  {
   "cell_type": "code",
   "execution_count": 19,
   "id": "d33f2dc5-1562-4ceb-8dca-85be8279ee2d",
   "metadata": {},
   "outputs": [],
   "source": [
    "df = win_df.fit_transform(df)"
   ]
  },
  {
   "cell_type": "code",
   "execution_count": 20,
   "id": "60032806-8810-4ccf-bc69-5f04b9ee73c6",
   "metadata": {},
   "outputs": [
    {
     "data": {
      "text/plain": [
       "<Axes: ylabel='Energy_Consumption (kWh)'>"
      ]
     },
     "execution_count": 20,
     "metadata": {},
     "output_type": "execute_result"
    },
    {
     "data": {
      "image/png": "[encoded data removed]",
      "text/plain": [
       "<Figure size 640x480 with 1 Axes>"
      ]
     },
     "metadata": {},
     "output_type": "display_data"
    }
   ],
   "source": [
    "sns.boxplot(df['Energy_Consumption (kWh)'])"
   ]
  },
  {
   "cell_type": "code",
   "execution_count": 21,
   "id": "f6a2c5b5-350f-4cc0-9cad-a4d5bdc9783d",
   "metadata": {},
   "outputs": [],
   "source": [
    "win_df = Winsorizer(capping_method = 'iqr',\n",
    "                   fold = 1.5,\n",
    "                   tail = 'both',\n",
    "                   variables = ['Furnace_Temperature (°C)'])"
   ]
  },
  {
   "cell_type": "code",
   "execution_count": 22,
   "id": "c5108e1a-0f12-46bb-b74f-9512ddeaa3d4",
   "metadata": {},
   "outputs": [],
   "source": [
    "df = win_df.fit_transform(df)"
   ]
  },
  {
   "cell_type": "code",
   "execution_count": 23,
   "id": "c41bc1e1-dfeb-47bd-9995-796facbfcd3f",
   "metadata": {},
   "outputs": [
    {
     "data": {
      "text/plain": [
       "<Axes: ylabel='Furnace_Temperature (°C)'>"
      ]
     },
     "execution_count": 23,
     "metadata": {},
     "output_type": "execute_result"
    },
    {
     "data": {
      "image/png": "[encoded data removed]",
      "text/plain": [
       "<Figure size 640x480 with 1 Axes>"
      ]
     },
     "metadata": {},
     "output_type": "display_data"
    }
   ],
   "source": [
    "sns.boxplot(df['Furnace_Temperature (°C)'])"
   ]
  },
  {
   "cell_type": "code",
   "execution_count": 24,
   "id": "5df5638f-fc13-4bc5-9a17-aecbb329eb91",
   "metadata": {},
   "outputs": [],
   "source": [
    "win_df = Winsorizer(capping_method = 'iqr',\n",
    "                   fold = 1.5,\n",
    "                   tail = 'both',\n",
    "                   variables = ['Annealing_Time (hrs)'])"
   ]
  },
  {
   "cell_type": "code",
   "execution_count": 25,
   "id": "f9405b83-f5a2-43ba-b011-c7eab7359990",
   "metadata": {},
   "outputs": [],
   "source": [
    "df = win_df.fit_transform(df)"
   ]
  },
  {
   "cell_type": "code",
   "execution_count": 26,
   "id": "8613b007-4b45-4df5-bc5e-8883aca70924",
   "metadata": {},
   "outputs": [
    {
     "data": {
      "text/plain": [
       "<Axes: ylabel='Annealing_Time (hrs)'>"
      ]
     },
     "execution_count": 26,
     "metadata": {},
     "output_type": "execute_result"
    },
    {
     "data": {
      "image/png": "[encoded data removed]",
      "text/plain": [
       "<Figure size 640x480 with 1 Axes>"
      ]
     },
     "metadata": {},
     "output_type": "display_data"
    }
   ],
   "source": [
    "sns.boxplot(df['Annealing_Time (hrs)'])"
   ]
  },
  {
   "cell_type": "code",
   "execution_count": 27,
   "id": "6d6c92e2-6d4d-4eca-9bfd-a3c5f2b81499",
   "metadata": {},
   "outputs": [],
   "source": [
    "win_df = Winsorizer(capping_method = 'iqr',\n",
    "                   fold = 1.5,\n",
    "                   tail = 'both',\n",
    "                   variables = ['Downtime (hrs)'])"
   ]
  },
  {
   "cell_type": "code",
   "execution_count": 28,
   "id": "7c4085c3-4718-4ca5-b4fd-e708964430c1",
   "metadata": {},
   "outputs": [],
   "source": [
    "df = win_df.fit_transform(df)"
   ]
  },
  {
   "cell_type": "code",
   "execution_count": 29,
   "id": "f2a8d80d-1ca8-4e61-8bb0-fd9fc557b848",
   "metadata": {},
   "outputs": [
    {
     "data": {
      "text/plain": [
       "<Axes: ylabel='Downtime (hrs)'>"
      ]
     },
     "execution_count": 29,
     "metadata": {},
     "output_type": "execute_result"
    },
    {
     "data": {
      "image/png": "[encoded data removed]",
      "text/plain": [
       "<Figure size 640x480 with 1 Axes>"
      ]
     },
     "metadata": {},
     "output_type": "display_data"
    }
   ],
   "source": [
    "sns.boxplot(df['Downtime (hrs)'])"
   ]
  },
  {
   "cell_type": "code",
   "execution_count": 30,
   "id": "d79ab2e3-a036-405d-80ac-613f5a95176e",
   "metadata": {},
   "outputs": [],
   "source": [
    "win_df = Winsorizer(capping_method = 'iqr',\n",
    "                   fold = 1.5,\n",
    "                   tail = 'both',\n",
    "                   variables = ['Ambient_Temperature (°C)'])"
   ]
  },
  {
   "cell_type": "code",
   "execution_count": 31,
   "id": "52108b7e-22e6-40ed-884d-8ac8b6ea6519",
   "metadata": {},
   "outputs": [],
   "source": [
    "df = win_df.fit_transform(df)"
   ]
  },
  {
   "cell_type": "code",
   "execution_count": 32,
   "id": "5b776d62-498b-494f-9073-4e835935bb70",
   "metadata": {},
   "outputs": [
    {
     "data": {
      "text/plain": [
       "<Axes: ylabel='Ambient_Temperature (°C)'>"
      ]
     },
     "execution_count": 32,
     "metadata": {},
     "output_type": "execute_result"
    },
    {
     "data": {
      "image/png": "[encoded data removed]",
      "text/plain": [
       "<Figure size 640x480 with 1 Axes>"
      ]
     },
     "metadata": {},
     "output_type": "display_data"
    }
   ],
   "source": [
    "sns.boxplot(df['Ambient_Temperature (°C)'])"
   ]
  },
  {
   "cell_type": "code",
   "execution_count": 33,
   "id": "53027c46-f9a4-458f-964c-a5a4d16d3a93",
   "metadata": {},
   "outputs": [],
   "source": [
    "win_df = Winsorizer(capping_method = 'iqr',\n",
    "                   fold = 1.5,\n",
    "                   tail = 'both',\n",
    "                   variables = ['Recycled_Content (%)'])"
   ]
  },
  {
   "cell_type": "code",
   "execution_count": 34,
   "id": "4664a781-052f-4907-a066-e689541188ed",
   "metadata": {},
   "outputs": [],
   "source": [
    "df = win_df.fit_transform(df)"
   ]
  },
  {
   "cell_type": "code",
   "execution_count": 35,
   "id": "8133147d-309e-4462-a02d-5d88fbca889b",
   "metadata": {},
   "outputs": [
    {
     "data": {
      "text/plain": [
       "<Axes: ylabel='Recycled_Content (%)'>"
      ]
     },
     "execution_count": 35,
     "metadata": {},
     "output_type": "execute_result"
    },
    {
     "data": {
      "image/png": "[encoded data removed]",
      "text/plain": [
       "<Figure size 640x480 with 1 Axes>"
      ]
     },
     "metadata": {},
     "output_type": "display_data"
    }
   ],
   "source": [
    "sns.boxplot(df['Recycled_Content (%)'])"
   ]
  },
  {
   "cell_type": "code",
   "execution_count": 36,
   "id": "348ba1ea-5abb-41f0-bdf2-980607aed967",
   "metadata": {},
   "outputs": [],
   "source": [
    "win_df = Winsorizer(capping_method = 'iqr',\n",
    "                   fold = 1.5,\n",
    "                   tail = 'both',\n",
    "                   variables = ['Glass_Thickness (mm)'])"
   ]
  },
  {
   "cell_type": "code",
   "execution_count": 37,
   "id": "5e57ea0f-29cf-4c95-ad36-14956f6f3c9e",
   "metadata": {},
   "outputs": [],
   "source": [
    "df = win_df.fit_transform(df)"
   ]
  },
  {
   "cell_type": "code",
   "execution_count": 38,
   "id": "b462beb6-2ad2-4544-9e61-bffbc952c299",
   "metadata": {},
   "outputs": [
    {
     "data": {
      "text/plain": [
       "<Axes: ylabel='Glass_Thickness (mm)'>"
      ]
     },
     "execution_count": 38,
     "metadata": {},
     "output_type": "execute_result"
    },
    {
     "data": {
      "image/png": "[encoded data removed]",
      "text/plain": [
       "<Figure size 640x480 with 1 Axes>"
      ]
     },
     "metadata": {},
     "output_type": "display_data"
    }
   ],
   "source": [
    "sns.boxplot(df['Glass_Thickness (mm)'])"
   ]
  },
  {
   "cell_type": "code",
   "execution_count": 39,
   "id": "4ae67a07-83a3-4edf-9807-261b53fb81c7",
   "metadata": {},
   "outputs": [],
   "source": [
    "win_df = Winsorizer(capping_method = 'iqr',\n",
    "                   fold = 1.5,\n",
    "                   tail = 'both',\n",
    "                   variables = ['Production_Target (tons)'])"
   ]
  },
  {
   "cell_type": "code",
   "execution_count": 40,
   "id": "c3d49410-2e4b-4ca2-ace9-6912d81b7928",
   "metadata": {},
   "outputs": [],
   "source": [
    "df = win_df.fit_transform(df)"
   ]
  },
  {
   "cell_type": "code",
   "execution_count": 41,
   "id": "fc290452-db87-4031-b189-68a3664384a8",
   "metadata": {},
   "outputs": [
    {
     "data": {
      "text/plain": [
       "<Axes: ylabel='Production_Target (tons)'>"
      ]
     },
     "execution_count": 41,
     "metadata": {},
     "output_type": "execute_result"
    },
    {
     "data": {
      "image/png": "[encoded data removed]",
      "text/plain": [
       "<Figure size 640x480 with 1 Axes>"
      ]
     },
     "metadata": {},
     "output_type": "display_data"
    }
   ],
   "source": [
    "sns.boxplot(df['Production_Target (tons)'])"
   ]
  },
  {
   "cell_type": "code",
   "execution_count": 42,
   "id": "72ecff85-495d-41e8-b6a4-56a7c20571b9",
   "metadata": {},
   "outputs": [],
   "source": [
    "win_df = Winsorizer(capping_method = 'iqr',\n",
    "                   fold = 1.5,\n",
    "                   tail = 'both',\n",
    "                   variables = ['Defects_Percentage (%)'])"
   ]
  },
  {
   "cell_type": "code",
   "execution_count": 43,
   "id": "b653a12e-cce1-4241-af35-bb17a877f229",
   "metadata": {},
   "outputs": [],
   "source": [
    "df = win_df.fit_transform(df)"
   ]
  },
  {
   "cell_type": "code",
   "execution_count": 44,
   "id": "835ea423-f6fb-4dd0-9b1d-52aae28e7834",
   "metadata": {},
   "outputs": [
    {
     "data": {
      "text/plain": [
       "<Axes: ylabel='Defects_Percentage (%)'>"
      ]
     },
     "execution_count": 44,
     "metadata": {},
     "output_type": "execute_result"
    },
    {
     "data": {
      "image/png": "[encoded data removed]",
      "text/plain": [
       "<Figure size 640x480 with 1 Axes>"
      ]
     },
     "metadata": {},
     "output_type": "display_data"
    }
   ],
   "source": [
    "sns.boxplot(df['Defects_Percentage (%)'])"
   ]
  },
  {
   "cell_type": "code",
   "execution_count": 45,
   "id": "72b28068-d504-450a-a467-6a8ce73f14dc",
   "metadata": {},
   "outputs": [],
   "source": [
    "win_df = Winsorizer(capping_method = 'iqr',\n",
    "                   fold = 1.5,\n",
    "                   tail = 'both',\n",
    "                   variables = ['Melting_Time (hrs)'])"
   ]
  },
  {
   "cell_type": "code",
   "execution_count": 46,
   "id": "89a17d11-de71-4295-b2c3-9521c640f9fe",
   "metadata": {},
   "outputs": [],
   "source": [
    "df = win_df.fit_transform(df)"
   ]
  },
  {
   "cell_type": "code",
   "execution_count": 47,
   "id": "7a1e880c-f397-4ca7-8291-cfa69628a220",
   "metadata": {},
   "outputs": [
    {
     "data": {
      "text/plain": [
       "<Axes: ylabel='Melting_Time (hrs)'>"
      ]
     },
     "execution_count": 47,
     "metadata": {},
     "output_type": "execute_result"
    },
    {
     "data": {
      "image/png": "[encoded data removed]",
      "text/plain": [
       "<Figure size 640x480 with 1 Axes>"
      ]
     },
     "metadata": {},
     "output_type": "display_data"
    }
   ],
   "source": [
    "sns.boxplot(df['Melting_Time (hrs)'])"
   ]
  },
  {
   "cell_type": "code",
   "execution_count": 48,
   "id": "c81df4ca-227b-4f2c-808c-383121a3c11e",
   "metadata": {},
   "outputs": [],
   "source": [
    "win_df = Winsorizer(capping_method = 'iqr',\n",
    "                   fold = 1.5,\n",
    "                   tail = 'both',\n",
    "                   variables = ['Cooling_Energy (kWh)'])"
   ]
  },
  {
   "cell_type": "code",
   "execution_count": 49,
   "id": "1e949585-5bb9-4733-bcfa-a9d1350eb66c",
   "metadata": {},
   "outputs": [],
   "source": [
    "df = win_df.fit_transform(df)"
   ]
  },
  {
   "cell_type": "code",
   "execution_count": 50,
   "id": "8cb6d31e-e1af-4fb1-ac78-82b2845f9158",
   "metadata": {},
   "outputs": [
    {
     "data": {
      "text/plain": [
       "<Axes: ylabel='Cooling_Energy (kWh)'>"
      ]
     },
     "execution_count": 50,
     "metadata": {},
     "output_type": "execute_result"
    },
    {
     "data": {
      "image/png": "[encoded data removed]",
      "text/plain": [
       "<Figure size 640x480 with 1 Axes>"
      ]
     },
     "metadata": {},
     "output_type": "display_data"
    }
   ],
   "source": [
    "sns.boxplot(df['Cooling_Energy (kWh)'])"
   ]
  },
  {
   "cell_type": "code",
   "execution_count": 51,
   "id": "9b7ee3fa-9b0b-4050-b209-960a39ef62bc",
   "metadata": {},
   "outputs": [
    {
     "data": {
      "image/png": "[encoded data removed]",
      "text/plain": [
       "<Figure size 2000x4000 with 20 Axes>"
      ]
     },
     "metadata": {},
     "output_type": "display_data"
    }
   ],
   "source": [
    "df.plot(kind=\"box\", sharey=False, sharex=False, subplots=True, figsize=(20,40), layout=[10,2],vert=0)\n",
    "plt.subplots_adjust(wspace=0.75)"
   ]
  },
  {
   "cell_type": "markdown",
   "id": "30ae23de-ca39-4a44-afec-cf74fd1c58e1",
   "metadata": {},
   "source": [
    "Normalization"
   ]
  },
  {
   "cell_type": "code",
   "execution_count": 53,
   "id": "0efd2864-0b32-46ae-9ba9-dd7d85f92502",
   "metadata": {},
   "outputs": [
    {
     "name": "stdout",
     "output_type": "stream",
     "text": [
      "                 Date      Shift  Furnace_ID Furnace_Type    Batch_Type  \\\n",
      "0     01-01-2023 0.00    Morning   Furnace_1     Electric  Borosilicate   \n",
      "1     01-01-2023 1.00  Afternoon   Furnace_6       Hybrid     Soda-lime   \n",
      "2     01-01-2023 2.00      Night   Furnace_9          Gas          Lead   \n",
      "3     01-01-2023 3.00  Afternoon   Furnace_9          Gas     Soda-lime   \n",
      "4     01-01-2023 4.00    Morning   Furnace_6     Electric     Soda-lime   \n",
      "..                ...        ...         ...          ...           ...   \n",
      "995  11-02-2023 11.00  Afternoon   Furnace_1     Electric  Borosilicate   \n",
      "996  11-02-2023 12.00      Night  Furnace_10          Gas          Lead   \n",
      "997  11-02-2023 13.00      Night   Furnace_7     Electric  Borosilicate   \n",
      "998  11-02-2023 14.00    Morning   Furnace_2          Gas     Soda-lime   \n",
      "999  11-02-2023 15.00    Morning   Furnace_7          Gas          Lead   \n",
      "\n",
      "     Production_Output (tons)  Energy_Consumption (kWh)  \\\n",
      "0                    0.324687                   3288.96   \n",
      "1                    0.086516                   4867.96   \n",
      "2                    0.065176                   3347.15   \n",
      "3                    0.211907                   2829.63   \n",
      "4                    0.556516                   3935.36   \n",
      "..                        ...                       ...   \n",
      "995                  0.297154                    952.61   \n",
      "996                  0.015147                   4561.59   \n",
      "997                  0.557598                   2291.86   \n",
      "998                  0.421500                   4101.09   \n",
      "999                  0.111139                   2495.32   \n",
      "\n",
      "     Furnace_Temperature (°C)  Annealing_Time (hrs)  Downtime (hrs)  \\\n",
      "0                      1468.9                5.8725           4.190   \n",
      "1                      1445.2                3.6800           4.740   \n",
      "2                      1486.8                2.4800           2.880   \n",
      "3                      1626.8                1.9000           2.410   \n",
      "4                      1593.9                3.8100           7.435   \n",
      "..                        ...                   ...             ...   \n",
      "995                    1540.3                2.0200           0.170   \n",
      "996                    1413.5                2.2700           0.330   \n",
      "997                    1531.4                2.5600           1.590   \n",
      "998                    1555.7                3.7000           4.080   \n",
      "999                    1567.3                0.9200           2.850   \n",
      "\n",
      "     Ambient_Temperature (°C)  Recycled_Content (%) Energy_Rating  \\\n",
      "0                        16.7                  56.0             B   \n",
      "1                        19.4                  39.0             A   \n",
      "2                        20.6                  61.0             B   \n",
      "3                        22.6                  51.0             A   \n",
      "4                        31.4                  39.0             B   \n",
      "..                        ...                   ...           ...   \n",
      "995                      32.2                  39.0             C   \n",
      "996                      38.2                  22.0             C   \n",
      "997                      39.4                  39.0             B   \n",
      "998                      35.2                  31.0             C   \n",
      "999                      31.4                  30.0             C   \n",
      "\n",
      "    Maintenance_Flag    Fuel_Type  Glass_Thickness (mm)  \\\n",
      "0                 No  Natural Gas                  9.79   \n",
      "1                Yes  Electricity                  3.45   \n",
      "2                 No  Electricity                  8.35   \n",
      "3                 No  Natural Gas                 10.00   \n",
      "4                Yes  Natural Gas                  8.60   \n",
      "..               ...          ...                   ...   \n",
      "995              Yes  Electricity                 11.73   \n",
      "996               No  Electricity                 12.89   \n",
      "997              Yes  Natural Gas                 11.50   \n",
      "998              Yes  Natural Gas                  3.95   \n",
      "999               No  Electricity                  6.43   \n",
      "\n",
      "     Production_Target (tons)  Defects_Percentage (%)  Melting_Time (hrs)  \\\n",
      "0                       57.77                    5.55               21.90   \n",
      "1                      126.89                    0.48               14.00   \n",
      "2                      173.87                    2.54               11.90   \n",
      "3                      108.02                    5.96               11.10   \n",
      "4                       77.60                    4.84               12.20   \n",
      "..                        ...                     ...                 ...   \n",
      "995                    197.89                    9.10               11.90   \n",
      "996                    174.79                    2.02               16.35   \n",
      "997                     31.21                    6.18               18.10   \n",
      "998                    173.51                    5.18               12.50   \n",
      "999                     44.21                    1.70               15.40   \n",
      "\n",
      "     Cooling_Energy (kWh)  \n",
      "0               258.78000  \n",
      "1               707.82000  \n",
      "2               743.58000  \n",
      "3               421.00000  \n",
      "4               275.03000  \n",
      "..                    ...  \n",
      "995             916.04000  \n",
      "996             614.99000  \n",
      "997             926.40000  \n",
      "998             686.49000  \n",
      "999            1427.68125  \n",
      "\n",
      "[1000 rows x 20 columns]\n"
     ]
    }
   ],
   "source": [
    "from sklearn.preprocessing import MinMaxScaler\n",
    "\n",
    "scaler = MinMaxScaler()\n",
    "df['Production_Output (tons)'] = scaler.fit_transform(df[['Production_Output (tons)']])\n",
    "print(df)"
   ]
  },
  {
   "cell_type": "code",
   "execution_count": 54,
   "id": "2cdd5694-ef1c-45bf-abae-f6f2310ccb95",
   "metadata": {},
   "outputs": [
    {
     "name": "stdout",
     "output_type": "stream",
     "text": [
      "                 Date      Shift  Furnace_ID Furnace_Type    Batch_Type  \\\n",
      "0     01-01-2023 0.00    Morning   Furnace_1     Electric  Borosilicate   \n",
      "1     01-01-2023 1.00  Afternoon   Furnace_6       Hybrid     Soda-lime   \n",
      "2     01-01-2023 2.00      Night   Furnace_9          Gas          Lead   \n",
      "3     01-01-2023 3.00  Afternoon   Furnace_9          Gas     Soda-lime   \n",
      "4     01-01-2023 4.00    Morning   Furnace_6     Electric     Soda-lime   \n",
      "..                ...        ...         ...          ...           ...   \n",
      "995  11-02-2023 11.00  Afternoon   Furnace_1     Electric  Borosilicate   \n",
      "996  11-02-2023 12.00      Night  Furnace_10          Gas          Lead   \n",
      "997  11-02-2023 13.00      Night   Furnace_7     Electric  Borosilicate   \n",
      "998  11-02-2023 14.00    Morning   Furnace_2          Gas     Soda-lime   \n",
      "999  11-02-2023 15.00    Morning   Furnace_7          Gas          Lead   \n",
      "\n",
      "     Production_Output (tons)  Energy_Consumption (kWh)  \\\n",
      "0                    0.324687                  0.410732   \n",
      "1                    0.086516                  0.644191   \n",
      "2                    0.065176                  0.419335   \n",
      "3                    0.211907                  0.342819   \n",
      "4                    0.556516                  0.506304   \n",
      "..                        ...                       ...   \n",
      "995                  0.297154                  0.065297   \n",
      "996                  0.015147                  0.598893   \n",
      "997                  0.557598                  0.263308   \n",
      "998                  0.421500                  0.530807   \n",
      "999                  0.111139                  0.293391   \n",
      "\n",
      "     Furnace_Temperature (°C)  Annealing_Time (hrs)  Downtime (hrs)  \\\n",
      "0                      1468.9                5.8725           4.190   \n",
      "1                      1445.2                3.6800           4.740   \n",
      "2                      1486.8                2.4800           2.880   \n",
      "3                      1626.8                1.9000           2.410   \n",
      "4                      1593.9                3.8100           7.435   \n",
      "..                        ...                   ...             ...   \n",
      "995                    1540.3                2.0200           0.170   \n",
      "996                    1413.5                2.2700           0.330   \n",
      "997                    1531.4                2.5600           1.590   \n",
      "998                    1555.7                3.7000           4.080   \n",
      "999                    1567.3                0.9200           2.850   \n",
      "\n",
      "     Ambient_Temperature (°C)  Recycled_Content (%) Energy_Rating  \\\n",
      "0                        16.7                  56.0             B   \n",
      "1                        19.4                  39.0             A   \n",
      "2                        20.6                  61.0             B   \n",
      "3                        22.6                  51.0             A   \n",
      "4                        31.4                  39.0             B   \n",
      "..                        ...                   ...           ...   \n",
      "995                      32.2                  39.0             C   \n",
      "996                      38.2                  22.0             C   \n",
      "997                      39.4                  39.0             B   \n",
      "998                      35.2                  31.0             C   \n",
      "999                      31.4                  30.0             C   \n",
      "\n",
      "    Maintenance_Flag    Fuel_Type  Glass_Thickness (mm)  \\\n",
      "0                 No  Natural Gas                  9.79   \n",
      "1                Yes  Electricity                  3.45   \n",
      "2                 No  Electricity                  8.35   \n",
      "3                 No  Natural Gas                 10.00   \n",
      "4                Yes  Natural Gas                  8.60   \n",
      "..               ...          ...                   ...   \n",
      "995              Yes  Electricity                 11.73   \n",
      "996               No  Electricity                 12.89   \n",
      "997              Yes  Natural Gas                 11.50   \n",
      "998              Yes  Natural Gas                  3.95   \n",
      "999               No  Electricity                  6.43   \n",
      "\n",
      "     Production_Target (tons)  Defects_Percentage (%)  Melting_Time (hrs)  \\\n",
      "0                       57.77                    5.55               21.90   \n",
      "1                      126.89                    0.48               14.00   \n",
      "2                      173.87                    2.54               11.90   \n",
      "3                      108.02                    5.96               11.10   \n",
      "4                       77.60                    4.84               12.20   \n",
      "..                        ...                     ...                 ...   \n",
      "995                    197.89                    9.10               11.90   \n",
      "996                    174.79                    2.02               16.35   \n",
      "997                     31.21                    6.18               18.10   \n",
      "998                    173.51                    5.18               12.50   \n",
      "999                     44.21                    1.70               15.40   \n",
      "\n",
      "     Cooling_Energy (kWh)  \n",
      "0               258.78000  \n",
      "1               707.82000  \n",
      "2               743.58000  \n",
      "3               421.00000  \n",
      "4               275.03000  \n",
      "..                    ...  \n",
      "995             916.04000  \n",
      "996             614.99000  \n",
      "997             926.40000  \n",
      "998             686.49000  \n",
      "999            1427.68125  \n",
      "\n",
      "[1000 rows x 20 columns]\n"
     ]
    }
   ],
   "source": [
    "scaler = MinMaxScaler()\n",
    "df['Energy_Consumption (kWh)'] = scaler.fit_transform(df[['Energy_Consumption (kWh)']])\n",
    "print(df)"
   ]
  },
  {
   "cell_type": "code",
   "execution_count": 55,
   "id": "752fb9b9-376a-4038-8ea8-1faf35025d54",
   "metadata": {},
   "outputs": [
    {
     "name": "stdout",
     "output_type": "stream",
     "text": [
      "                 Date      Shift  Furnace_ID Furnace_Type    Batch_Type  \\\n",
      "0     01-01-2023 0.00    Morning   Furnace_1     Electric  Borosilicate   \n",
      "1     01-01-2023 1.00  Afternoon   Furnace_6       Hybrid     Soda-lime   \n",
      "2     01-01-2023 2.00      Night   Furnace_9          Gas          Lead   \n",
      "3     01-01-2023 3.00  Afternoon   Furnace_9          Gas     Soda-lime   \n",
      "4     01-01-2023 4.00    Morning   Furnace_6     Electric     Soda-lime   \n",
      "..                ...        ...         ...          ...           ...   \n",
      "995  11-02-2023 11.00  Afternoon   Furnace_1     Electric  Borosilicate   \n",
      "996  11-02-2023 12.00      Night  Furnace_10          Gas          Lead   \n",
      "997  11-02-2023 13.00      Night   Furnace_7     Electric  Borosilicate   \n",
      "998  11-02-2023 14.00    Morning   Furnace_2          Gas     Soda-lime   \n",
      "999  11-02-2023 15.00    Morning   Furnace_7          Gas          Lead   \n",
      "\n",
      "     Production_Output (tons)  Energy_Consumption (kWh)  \\\n",
      "0                    0.324687                  0.410732   \n",
      "1                    0.086516                  0.644191   \n",
      "2                    0.065176                  0.419335   \n",
      "3                    0.211907                  0.342819   \n",
      "4                    0.556516                  0.506304   \n",
      "..                        ...                       ...   \n",
      "995                  0.297154                  0.065297   \n",
      "996                  0.015147                  0.598893   \n",
      "997                  0.557598                  0.263308   \n",
      "998                  0.421500                  0.530807   \n",
      "999                  0.111139                  0.293391   \n",
      "\n",
      "     Furnace_Temperature (°C)  Annealing_Time (hrs)  Downtime (hrs)  \\\n",
      "0                    0.152271              1.000000        0.563551   \n",
      "1                    0.099817              0.591142        0.637525   \n",
      "2                    0.191888              0.367366        0.387357   \n",
      "3                    0.501743              0.259207        0.324143   \n",
      "4                    0.428927              0.615385        1.000000   \n",
      "..                        ...                   ...             ...   \n",
      "995                  0.310297              0.281585        0.022865   \n",
      "996                  0.029658              0.328205        0.044385   \n",
      "997                  0.290599              0.382284        0.213853   \n",
      "998                  0.344381              0.594872        0.548756   \n",
      "999                  0.370055              0.076457        0.383322   \n",
      "\n",
      "     Ambient_Temperature (°C)  Recycled_Content (%) Energy_Rating  \\\n",
      "0                    0.042328              0.466667             B   \n",
      "1                    0.113757              0.325000             A   \n",
      "2                    0.145503              0.508333             B   \n",
      "3                    0.198413              0.425000             A   \n",
      "4                    0.431217              0.325000             B   \n",
      "..                        ...                   ...           ...   \n",
      "995                  0.452381              0.325000             C   \n",
      "996                  0.611111              0.183333             C   \n",
      "997                  0.642857              0.325000             B   \n",
      "998                  0.531746              0.258333             C   \n",
      "999                  0.431217              0.250000             C   \n",
      "\n",
      "    Maintenance_Flag    Fuel_Type  Glass_Thickness (mm)  \\\n",
      "0                 No  Natural Gas              0.419662   \n",
      "1                Yes  Electricity              0.077675   \n",
      "2                 No  Electricity              0.341986   \n",
      "3                 No  Natural Gas              0.430989   \n",
      "4                Yes  Natural Gas              0.355472   \n",
      "..               ...          ...                   ...   \n",
      "995              Yes  Electricity              0.524307   \n",
      "996               No  Electricity              0.586879   \n",
      "997              Yes  Natural Gas              0.511901   \n",
      "998              Yes  Natural Gas              0.104646   \n",
      "999               No  Electricity              0.238420   \n",
      "\n",
      "     Production_Target (tons)  Defects_Percentage (%)  Melting_Time (hrs)  \\\n",
      "0                    0.111553                0.389334            0.592751   \n",
      "1                    0.389311                0.032386            0.255864   \n",
      "2                    0.578099                0.177418            0.166311   \n",
      "3                    0.313482                0.418199            0.132196   \n",
      "4                    0.191240                0.339347            0.179104   \n",
      "..                        ...                     ...                 ...   \n",
      "995                  0.674623                0.639268            0.166311   \n",
      "996                  0.581796                0.140808            0.356077   \n",
      "997                  0.004822                0.433688            0.430704   \n",
      "998                  0.576653                0.363284            0.191898   \n",
      "999                  0.057062                0.118279            0.315565   \n",
      "\n",
      "     Cooling_Energy (kWh)  \n",
      "0                0.118902  \n",
      "1                0.457381  \n",
      "2                0.484336  \n",
      "3                0.241181  \n",
      "4                0.131151  \n",
      "..                    ...  \n",
      "995              0.614333  \n",
      "996              0.387407  \n",
      "997              0.622143  \n",
      "998              0.441302  \n",
      "999              1.000000  \n",
      "\n",
      "[1000 rows x 20 columns]\n"
     ]
    }
   ],
   "source": [
    "scaler = MinMaxScaler()\n",
    "columns_to_scale = ['Furnace_Temperature (°C)','Annealing_Time (hrs)','Downtime (hrs)','Ambient_Temperature (°C)','Recycled_Content (%)','Glass_Thickness (mm)','Production_Target (tons)','Defects_Percentage (%)','Melting_Time (hrs)','Cooling_Energy (kWh)']\n",
    "df[columns_to_scale] = scaler.fit_transform(df[columns_to_scale])\n",
    "print(df)"
   ]
  },
  {
   "cell_type": "code",
   "execution_count": 56,
   "id": "446bc590-1576-4f30-9a45-dca352ca7a8e",
   "metadata": {},
   "outputs": [
    {
     "name": "stdout",
     "output_type": "stream",
     "text": [
      "                 Date      Shift  Furnace_ID Furnace_Type    Batch_Type  \\\n",
      "0     01-01-2023 0.00    Morning   Furnace_1     Electric  Borosilicate   \n",
      "1     01-01-2023 1.00  Afternoon   Furnace_6       Hybrid     Soda-lime   \n",
      "2     01-01-2023 2.00      Night   Furnace_9          Gas          Lead   \n",
      "3     01-01-2023 3.00  Afternoon   Furnace_9          Gas     Soda-lime   \n",
      "4     01-01-2023 4.00    Morning   Furnace_6     Electric     Soda-lime   \n",
      "..                ...        ...         ...          ...           ...   \n",
      "995  11-02-2023 11.00  Afternoon   Furnace_1     Electric  Borosilicate   \n",
      "996  11-02-2023 12.00      Night  Furnace_10          Gas          Lead   \n",
      "997  11-02-2023 13.00      Night   Furnace_7     Electric  Borosilicate   \n",
      "998  11-02-2023 14.00    Morning   Furnace_2          Gas     Soda-lime   \n",
      "999  11-02-2023 15.00    Morning   Furnace_7          Gas          Lead   \n",
      "\n",
      "     Production_Output (tons)  Energy_Consumption (kWh)  \\\n",
      "0                    0.324687                  0.410732   \n",
      "1                    0.086516                  0.644191   \n",
      "2                    0.065176                  0.419335   \n",
      "3                    0.211907                  0.342819   \n",
      "4                    0.556516                  0.506304   \n",
      "..                        ...                       ...   \n",
      "995                  0.297154                  0.065297   \n",
      "996                  0.015147                  0.598893   \n",
      "997                  0.557598                  0.263308   \n",
      "998                  0.421500                  0.530807   \n",
      "999                  0.111139                  0.293391   \n",
      "\n",
      "     Furnace_Temperature (°C)  Annealing_Time (hrs)  Downtime (hrs)  ...  \\\n",
      "0                    0.152271              1.000000        0.563551  ...   \n",
      "1                    0.099817              0.591142        0.637525  ...   \n",
      "2                    0.191888              0.367366        0.387357  ...   \n",
      "3                    0.501743              0.259207        0.324143  ...   \n",
      "4                    0.428927              0.615385        1.000000  ...   \n",
      "..                        ...                   ...             ...  ...   \n",
      "995                  0.310297              0.281585        0.022865  ...   \n",
      "996                  0.029658              0.328205        0.044385  ...   \n",
      "997                  0.290599              0.382284        0.213853  ...   \n",
      "998                  0.344381              0.594872        0.548756  ...   \n",
      "999                  0.370055              0.076457        0.383322  ...   \n",
      "\n",
      "     Recycled_Content (%)  Energy_Rating Maintenance_Flag    Fuel_Type  \\\n",
      "0                0.466667              B               No  Natural Gas   \n",
      "1                0.325000              A              Yes  Electricity   \n",
      "2                0.508333              B               No  Electricity   \n",
      "3                0.425000              A               No  Natural Gas   \n",
      "4                0.325000              B              Yes  Natural Gas   \n",
      "..                    ...            ...              ...          ...   \n",
      "995              0.325000              C              Yes  Electricity   \n",
      "996              0.183333              C               No  Electricity   \n",
      "997              0.325000              B              Yes  Natural Gas   \n",
      "998              0.258333              C              Yes  Natural Gas   \n",
      "999              0.250000              C               No  Electricity   \n",
      "\n",
      "    Glass_Thickness (mm)  Production_Target (tons)  Defects_Percentage (%)  \\\n",
      "0               0.419662                  0.111553                0.389334   \n",
      "1               0.077675                  0.389311                0.032386   \n",
      "2               0.341986                  0.578099                0.177418   \n",
      "3               0.430989                  0.313482                0.418199   \n",
      "4               0.355472                  0.191240                0.339347   \n",
      "..                   ...                       ...                     ...   \n",
      "995             0.524307                  0.674623                0.639268   \n",
      "996             0.586879                  0.581796                0.140808   \n",
      "997             0.511901                  0.004822                0.433688   \n",
      "998             0.104646                  0.576653                0.363284   \n",
      "999             0.238420                  0.057062                0.118279   \n",
      "\n",
      "     Melting_Time (hrs)  Cooling_Energy (kWh)  Production_Output (tons)_bins  \n",
      "0              0.592751              0.118902                            Low  \n",
      "1              0.255864              0.457381                            Low  \n",
      "2              0.166311              0.484336                            Low  \n",
      "3              0.132196              0.241181                            Low  \n",
      "4              0.179104              0.131151                         Medium  \n",
      "..                  ...                   ...                            ...  \n",
      "995            0.166311              0.614333                            Low  \n",
      "996            0.356077              0.387407                            Low  \n",
      "997            0.430704              0.622143                         Medium  \n",
      "998            0.191898              0.441302                         Medium  \n",
      "999            0.315565              1.000000                            Low  \n",
      "\n",
      "[1000 rows x 21 columns]\n"
     ]
    }
   ],
   "source": [
    "df['Production_Output (tons)_bins'] = pd.cut(df['Production_Output (tons)'], bins=3, labels=['Low', 'Medium', 'High'])\n",
    "print(df)"
   ]
  },
  {
   "cell_type": "code",
   "execution_count": 57,
   "id": "0929fe2e-55d8-4ade-82b6-61b70714f5b4",
   "metadata": {},
   "outputs": [
    {
     "data": {
      "image/png": "[encoded data removed]",
      "text/plain": [
       "<Figure size 1000x800 with 12 Axes>"
      ]
     },
     "metadata": {},
     "output_type": "display_data"
    }
   ],
   "source": [
    "\n",
    "df.hist(bins=30, figsize=(10, 8),grid=False)\n",
    "plt.tight_layout()\n",
    "plt.grid(False)\n",
    "plt.show()"
   ]
  },
  {
   "cell_type": "markdown",
   "id": "028e9035-3850-4145-899f-e259525d18d2",
   "metadata": {},
   "source": [
    "# Production_Output (tons)"
   ]
  },
  {
   "cell_type": "markdown",
   "id": "3c3ffdd4-f3ba-4a12-b648-15dc68b8b021",
   "metadata": {},
   "source": [
    " 1st business moment (Mean/Median/Mode)"
   ]
  },
  {
   "cell_type": "markdown",
   "id": "2cd2806c-895b-4f1c-9a5e-fa7cb25974b8",
   "metadata": {},
   "source": [
    "Mean"
   ]
  },
  {
   "cell_type": "code",
   "execution_count": 61,
   "id": "c9ab3f8a-7636-46ee-9716-da0dd5fb501a",
   "metadata": {},
   "outputs": [
    {
     "name": "stdout",
     "output_type": "stream",
     "text": [
      "0.3444159041942975\n"
     ]
    }
   ],
   "source": [
    "Mean = df['Production_Output (tons)'].mean()\n",
    "print(Mean)"
   ]
  },
  {
   "cell_type": "markdown",
   "id": "09effe70-e2d8-43f7-af6e-41f9fb8e700a",
   "metadata": {},
   "source": [
    "Median"
   ]
  },
  {
   "cell_type": "code",
   "execution_count": 63,
   "id": "d47826ac-2a28-4b9b-a250-bedd632c8106",
   "metadata": {},
   "outputs": [
    {
     "name": "stdout",
     "output_type": "stream",
     "text": [
      "0.3461577921411716\n"
     ]
    }
   ],
   "source": [
    "Median = df['Production_Output (tons)'].median()\n",
    "print(Median)"
   ]
  },
  {
   "cell_type": "code",
   "execution_count": 64,
   "id": "386c4bb2-8749-4354-b7f5-c30fd288ea5c",
   "metadata": {},
   "outputs": [
    {
     "name": "stdout",
     "output_type": "stream",
     "text": [
      "0    0.346158\n",
      "Name: Production_Output (tons), dtype: float64\n"
     ]
    }
   ],
   "source": [
    "Mode = df['Production_Output (tons)'].mode()\n",
    "print(Mode)"
   ]
  },
  {
   "cell_type": "code",
   "execution_count": null,
   "id": "f1ac7480-60a0-471a-8793-e2dee9a04eec",
   "metadata": {},
   "outputs": [],
   "source": []
  },
  {
   "cell_type": "markdown",
   "id": "77bf4264-37e0-49ca-ab0b-a29774886ab4",
   "metadata": {},
   "source": [
    " Second Moment Business Decision / Measures of Dispersion"
   ]
  },
  {
   "cell_type": "code",
   "execution_count": 66,
   "id": "839f0680-6d7d-48b9-9e7b-60559458480d",
   "metadata": {},
   "outputs": [
    {
     "name": "stdout",
     "output_type": "stream",
     "text": [
      "Standard Deviation of Production Output: 0.21197795137208644\n"
     ]
    }
   ],
   "source": [
    "Standard_Deviation = df['Production_Output (tons)'].std()\n",
    "print(\"Standard Deviation of Production Output:\", Standard_Deviation)"
   ]
  },
  {
   "cell_type": "code",
   "execution_count": 67,
   "id": "695dc54f-d4a1-448c-9300-534fcabd0832",
   "metadata": {},
   "outputs": [
    {
     "name": "stdout",
     "output_type": "stream",
     "text": [
      "Variance of Performance Rating: 0.04493465186790665\n"
     ]
    }
   ],
   "source": [
    "variance = df['Production_Output (tons)'].var()\n",
    "print(\"Variance of Performance Rating:\", variance)"
   ]
  },
  {
   "cell_type": "code",
   "execution_count": 68,
   "id": "66662b61-bf31-412e-8aa5-7f68705917bc",
   "metadata": {},
   "outputs": [
    {
     "name": "stdout",
     "output_type": "stream",
     "text": [
      "Range of Years of Experience: 1.0\n"
     ]
    }
   ],
   "source": [
    "range = df['Production_Output (tons)'].max() - df['Production_Output (tons)'].min()\n",
    "print(\"Range of Years of Experience:\", range)"
   ]
  },
  {
   "cell_type": "code",
   "execution_count": null,
   "id": "81d1238d-28ab-49ae-af03-4c75d2cda7d7",
   "metadata": {},
   "outputs": [],
   "source": []
  },
  {
   "cell_type": "markdown",
   "id": "95316b52-fc22-4e45-b7c7-c2f07c9446d8",
   "metadata": {},
   "source": [
    " Third Moment Business Decision / Skewness"
   ]
  },
  {
   "cell_type": "code",
   "execution_count": 70,
   "id": "2dd71185-d457-4193-94e0-334e84f47a2c",
   "metadata": {},
   "outputs": [
    {
     "name": "stdout",
     "output_type": "stream",
     "text": [
      "0.4491534705841074\n"
     ]
    }
   ],
   "source": [
    "skewness = df['Production_Output (tons)'].skew()\n",
    "print(skewness)"
   ]
  },
  {
   "cell_type": "code",
   "execution_count": null,
   "id": "0a5cae86-c80f-4fbe-bdcf-14e257318fa8",
   "metadata": {},
   "outputs": [],
   "source": []
  },
  {
   "cell_type": "markdown",
   "id": "22df86e9-d67a-49fe-adfc-e65446a7992f",
   "metadata": {},
   "source": [
    " Fourth Moment Business Decision / Kurtosis"
   ]
  },
  {
   "cell_type": "code",
   "execution_count": 72,
   "id": "4b6ccf38-f2a2-4b32-9133-fadadb448621",
   "metadata": {},
   "outputs": [
    {
     "name": "stdout",
     "output_type": "stream",
     "text": [
      "0.07512064125169848\n"
     ]
    }
   ],
   "source": [
    "kurtosis = df['Production_Output (tons)'].kurtosis()\n",
    "print(kurtosis)"
   ]
  },
  {
   "cell_type": "code",
   "execution_count": null,
   "id": "b1901ac6-9c09-496d-9185-a1fc3397ff3b",
   "metadata": {},
   "outputs": [],
   "source": []
  },
  {
   "cell_type": "markdown",
   "id": "469eb867-8a61-45ec-9b9c-89a151d47f9c",
   "metadata": {},
   "source": [
    "# Energy_Consumption (kWh) "
   ]
  },
  {
   "cell_type": "markdown",
   "id": "d876292d-3be9-4027-b349-d9cf274a1269",
   "metadata": {},
   "source": [
    "First Moment Business Decision / Measures of Central Tendency"
   ]
  },
  {
   "cell_type": "code",
   "execution_count": 75,
   "id": "494ea4c9-4511-489e-83a4-cbf4fa5fe19b",
   "metadata": {},
   "outputs": [
    {
     "name": "stdout",
     "output_type": "stream",
     "text": [
      "0.3515810256839596\n"
     ]
    }
   ],
   "source": [
    "Mean = df['Energy_Consumption (kWh)'].mean()\n",
    "print(Mean)"
   ]
  },
  {
   "cell_type": "code",
   "execution_count": 76,
   "id": "98a4deec-1c70-451e-9550-2049eed98de8",
   "metadata": {},
   "outputs": [
    {
     "name": "stdout",
     "output_type": "stream",
     "text": [
      "0.3552799590597265\n"
     ]
    }
   ],
   "source": [
    "Median = df['Energy_Consumption (kWh)'].median()\n",
    "print(Median)"
   ]
  },
  {
   "cell_type": "code",
   "execution_count": 77,
   "id": "e522d6ea-0c38-42d4-a139-c8aa138629da",
   "metadata": {},
   "outputs": [
    {
     "name": "stdout",
     "output_type": "stream",
     "text": [
      "0    0.35528\n",
      "Name: Energy_Consumption (kWh), dtype: float64\n"
     ]
    }
   ],
   "source": [
    "Mode = df['Energy_Consumption (kWh)'].mode()\n",
    "print(Mode)"
   ]
  },
  {
   "cell_type": "code",
   "execution_count": null,
   "id": "6b638981-e1f5-432c-a1f8-7fb1405cf0b7",
   "metadata": {},
   "outputs": [],
   "source": []
  },
  {
   "cell_type": "markdown",
   "id": "803dc612-b6d6-4cad-913c-21171e96c397",
   "metadata": {},
   "source": [
    "Second Moment Business Decision / Measures of Dispersion"
   ]
  },
  {
   "cell_type": "code",
   "execution_count": 79,
   "id": "7ba533d4-2ccd-4eb4-8e5c-192d166b78c2",
   "metadata": {},
   "outputs": [
    {
     "name": "stdout",
     "output_type": "stream",
     "text": [
      "Standard Deviation of Energy_Consumption (kWh): 0.20490269135161115\n"
     ]
    }
   ],
   "source": [
    "Standard_Deviation = df['Energy_Consumption (kWh)'].std()\n",
    "print(\"Standard Deviation of Energy_Consumption (kWh):\", Standard_Deviation)"
   ]
  },
  {
   "cell_type": "code",
   "execution_count": 80,
   "id": "c9b4fe20-9067-4396-9db7-9456593f3f7f",
   "metadata": {},
   "outputs": [
    {
     "name": "stdout",
     "output_type": "stream",
     "text": [
      "Variance of Energy_Consumption (kWh): 0.04198511292313363\n"
     ]
    }
   ],
   "source": [
    "variance = df['Energy_Consumption (kWh)'].var()\n",
    "print(\"Variance of Energy_Consumption (kWh):\", variance)"
   ]
  },
  {
   "cell_type": "code",
   "execution_count": 81,
   "id": "bd34452e-a319-45c8-84e3-2d6f18a1e478",
   "metadata": {},
   "outputs": [
    {
     "name": "stdout",
     "output_type": "stream",
     "text": [
      "Range of Years of Experience: 0.9999999999999999\n"
     ]
    }
   ],
   "source": [
    "range = df['Energy_Consumption (kWh)'].max() - df['Energy_Consumption (kWh)'].min()\n",
    "print(\"Range of Years of Experience:\", range)"
   ]
  },
  {
   "cell_type": "code",
   "execution_count": null,
   "id": "c4f917bb-1efd-4f73-9722-758c22d12950",
   "metadata": {},
   "outputs": [],
   "source": []
  },
  {
   "cell_type": "markdown",
   "id": "61deb038-22ac-43b0-b5e9-e6d26a34c7d4",
   "metadata": {},
   "source": [
    "Third Moment Business Decision / Skewness"
   ]
  },
  {
   "cell_type": "code",
   "execution_count": 83,
   "id": "ef234bf1-6459-4414-a9ae-27041c54b633",
   "metadata": {},
   "outputs": [
    {
     "name": "stdout",
     "output_type": "stream",
     "text": [
      "0.3387701055445194\n"
     ]
    }
   ],
   "source": [
    "skewness = df['Energy_Consumption (kWh)'].skew()\n",
    "print(skewness)"
   ]
  },
  {
   "cell_type": "code",
   "execution_count": null,
   "id": "72e44bca-ea01-48a8-9187-24c1d4ec22eb",
   "metadata": {},
   "outputs": [],
   "source": []
  },
  {
   "cell_type": "markdown",
   "id": "a217af10-7b1e-4b6c-9697-a93d56cb0353",
   "metadata": {},
   "source": [
    "Fourth Moment Business Decision / Kurtosis"
   ]
  },
  {
   "cell_type": "code",
   "execution_count": 85,
   "id": "d4d8a5fe-cc04-4952-939c-d41df92fd978",
   "metadata": {},
   "outputs": [
    {
     "name": "stdout",
     "output_type": "stream",
     "text": [
      "0.1427698850109067\n"
     ]
    }
   ],
   "source": [
    "kurtosis = df['Energy_Consumption (kWh)'].kurtosis()\n",
    "print(kurtosis)"
   ]
  },
  {
   "cell_type": "code",
   "execution_count": null,
   "id": "40c346a1-bb6c-4f9d-a61a-270b88ed04c4",
   "metadata": {},
   "outputs": [],
   "source": []
  },
  {
   "cell_type": "markdown",
   "id": "1c1eff1f-e0ec-4ded-8d4f-58552625cba3",
   "metadata": {},
   "source": [
    "# Furnace_Temperature (°C)"
   ]
  },
  {
   "cell_type": "markdown",
   "id": "f9ccdb54-dc77-4fbd-825c-1af6c19f83da",
   "metadata": {},
   "source": [
    "First Moment Business Decision / Measures of Central Tendency"
   ]
  },
  {
   "cell_type": "code",
   "execution_count": 88,
   "id": "729fe5bc-b2d6-472c-ba3a-748ea0c71789",
   "metadata": {},
   "outputs": [
    {
     "name": "stdout",
     "output_type": "stream",
     "text": [
      "0.34373662369280156\n"
     ]
    }
   ],
   "source": [
    "Mean = df['Furnace_Temperature (°C)'].mean()\n",
    "print(Mean)"
   ]
  },
  {
   "cell_type": "code",
   "execution_count": 89,
   "id": "231db93f-578a-4ad6-9533-3ac78185845f",
   "metadata": {},
   "outputs": [
    {
     "name": "stdout",
     "output_type": "stream",
     "text": [
      "0.33752005754440306\n"
     ]
    }
   ],
   "source": [
    "Median = df['Furnace_Temperature (°C)'].median()\n",
    "print(Median)"
   ]
  },
  {
   "cell_type": "code",
   "execution_count": 90,
   "id": "d35ecf71-bebe-41cb-b3cb-a495ad53a5bb",
   "metadata": {},
   "outputs": [
    {
     "name": "stdout",
     "output_type": "stream",
     "text": [
      "0    0.33752\n",
      "Name: Furnace_Temperature (°C), dtype: float64\n"
     ]
    }
   ],
   "source": [
    "Mode = df['Furnace_Temperature (°C)'].mode()\n",
    "print(Mode)"
   ]
  },
  {
   "cell_type": "code",
   "execution_count": null,
   "id": "204c99a5-61eb-48ca-a5f7-82c6737b59cc",
   "metadata": {},
   "outputs": [],
   "source": []
  },
  {
   "cell_type": "markdown",
   "id": "dfa1c986-f12d-4f59-aa82-d6da8c314cb3",
   "metadata": {},
   "source": [
    "Second Moment Business Decision / Measures of Dispersion"
   ]
  },
  {
   "cell_type": "code",
   "execution_count": 92,
   "id": "6658a443-a9f2-4d33-9ab1-d6a6d64680ed",
   "metadata": {},
   "outputs": [
    {
     "name": "stdout",
     "output_type": "stream",
     "text": [
      "Standard Deviation of Furnace_Temperature (°C): 0.2085065327551374\n"
     ]
    }
   ],
   "source": [
    "Standard_Deviation = df['Furnace_Temperature (°C)'].std()\n",
    "print(\"Standard Deviation of Furnace_Temperature (°C):\", Standard_Deviation)"
   ]
  },
  {
   "cell_type": "code",
   "execution_count": 93,
   "id": "1b406d25-ddae-4334-911f-37fa7ebb53e5",
   "metadata": {},
   "outputs": [
    {
     "name": "stdout",
     "output_type": "stream",
     "text": [
      "Variance of Furnace_Temperature (°C): 0.043474974201569185\n"
     ]
    }
   ],
   "source": [
    "variance = df['Furnace_Temperature (°C)'].var()\n",
    "print(\"Variance of Furnace_Temperature (°C):\", variance)"
   ]
  },
  {
   "cell_type": "code",
   "execution_count": 94,
   "id": "e94f9b80-abbc-4ffb-97f0-30487ecfa37c",
   "metadata": {},
   "outputs": [
    {
     "name": "stdout",
     "output_type": "stream",
     "text": [
      "Range of Years of Experience: 1.0\n"
     ]
    }
   ],
   "source": [
    "range = df['Furnace_Temperature (°C)'].max() - df['Furnace_Temperature (°C)'].min()\n",
    "print(\"Range of Years of Experience:\", range)"
   ]
  },
  {
   "cell_type": "code",
   "execution_count": null,
   "id": "0a048f49-2191-4025-8bb7-db8afe2ffb0d",
   "metadata": {},
   "outputs": [],
   "source": []
  },
  {
   "cell_type": "markdown",
   "id": "2c55a47e-e272-4d19-8691-c2259a8bc0c5",
   "metadata": {},
   "source": [
    "Third Moment Business Decision / Skewness"
   ]
  },
  {
   "cell_type": "code",
   "execution_count": 96,
   "id": "9d3fc20d-a4e6-4dd4-a010-21f20d56c1f2",
   "metadata": {},
   "outputs": [
    {
     "name": "stdout",
     "output_type": "stream",
     "text": [
      "0.48188664564919265\n"
     ]
    }
   ],
   "source": [
    "skewness = df['Furnace_Temperature (°C)'].skew()\n",
    "print(skewness)"
   ]
  },
  {
   "cell_type": "code",
   "execution_count": null,
   "id": "78518b9d-cdcd-42d9-9888-ee40b1d8b1c1",
   "metadata": {},
   "outputs": [],
   "source": []
  },
  {
   "cell_type": "markdown",
   "id": "6b32a524-7617-4e32-aea7-1242429c841b",
   "metadata": {},
   "source": [
    "Fourth Moment Business Decision / Kurtosis"
   ]
  },
  {
   "cell_type": "code",
   "execution_count": 98,
   "id": "8e19d87a-23bf-4f79-95a1-a27a0508598c",
   "metadata": {},
   "outputs": [
    {
     "name": "stdout",
     "output_type": "stream",
     "text": [
      "0.2112858279552592\n"
     ]
    }
   ],
   "source": [
    "kurtosis = df['Furnace_Temperature (°C)'].kurtosis()\n",
    "print(kurtosis)"
   ]
  },
  {
   "cell_type": "code",
   "execution_count": null,
   "id": "1c7cd6e0-d30a-4b42-aded-a62ac2319c86",
   "metadata": {},
   "outputs": [],
   "source": []
  },
  {
   "cell_type": "markdown",
   "id": "2c83b01b-647d-443a-9637-8de0a5cedc70",
   "metadata": {},
   "source": [
    "# Annealing_Time (hrs)"
   ]
  },
  {
   "cell_type": "markdown",
   "id": "d04bcf4b-a374-49bb-a948-00f9473420d0",
   "metadata": {},
   "source": [
    "First Moment Business Decision / Measures of Central Tendency"
   ]
  },
  {
   "cell_type": "code",
   "execution_count": 101,
   "id": "18c71f52-0d76-4625-bc0b-56e36cddd540",
   "metadata": {},
   "outputs": [
    {
     "name": "stdout",
     "output_type": "stream",
     "text": [
      "0.3479319347319347\n"
     ]
    }
   ],
   "source": [
    "Mean = df['Annealing_Time (hrs)'].mean()\n",
    "print(Mean)"
   ]
  },
  {
   "cell_type": "code",
   "execution_count": 102,
   "id": "93852b23-a726-45bd-a07b-4d81efd69570",
   "metadata": {},
   "outputs": [
    {
     "name": "stdout",
     "output_type": "stream",
     "text": [
      "0.33939393939393936\n"
     ]
    }
   ],
   "source": [
    "Median = df['Annealing_Time (hrs)'].median()\n",
    "print(Median)"
   ]
  },
  {
   "cell_type": "code",
   "execution_count": 103,
   "id": "2c9a8413-f759-487f-9b00-737dff89d574",
   "metadata": {},
   "outputs": [
    {
     "name": "stdout",
     "output_type": "stream",
     "text": [
      "0    0.339394\n",
      "Name: Annealing_Time (hrs), dtype: float64\n"
     ]
    }
   ],
   "source": [
    "Mode = df['Annealing_Time (hrs)'].mode()\n",
    "print(Mode)"
   ]
  },
  {
   "cell_type": "code",
   "execution_count": null,
   "id": "a4d6806b-b970-4e5e-8cb0-61399778040a",
   "metadata": {},
   "outputs": [],
   "source": []
  },
  {
   "cell_type": "markdown",
   "id": "dd4b9104-9b89-450e-a2d9-1815c7afedda",
   "metadata": {},
   "source": [
    "Second Moment Business Decision / Measures of Dispersion"
   ]
  },
  {
   "cell_type": "code",
   "execution_count": 105,
   "id": "d718445f-68f8-4ab1-a939-861ff960162e",
   "metadata": {},
   "outputs": [
    {
     "name": "stdout",
     "output_type": "stream",
     "text": [
      "Standard Deviation of Annealing_Time (hrs)): 0.2029600355825872\n"
     ]
    }
   ],
   "source": [
    "Standard_Deviation = df['Annealing_Time (hrs)'].std()\n",
    "print(\"Standard Deviation of Annealing_Time (hrs)):\", Standard_Deviation)"
   ]
  },
  {
   "cell_type": "code",
   "execution_count": 207,
   "id": "cf0167e9-484e-4922-8689-6fb368af207d",
   "metadata": {},
   "outputs": [
    {
     "name": "stdout",
     "output_type": "stream",
     "text": [
      "Variance of Annealing_Time (hrs): 0.04119277604368506\n"
     ]
    }
   ],
   "source": [
    "variance = df['Annealing_Time (hrs)'].var()\n",
    "print(\"Variance of Annealing_Time (hrs):\", variance)"
   ]
  },
  {
   "cell_type": "code",
   "execution_count": 209,
   "id": "549837d4-7ed5-427e-bee5-443ee87187bc",
   "metadata": {},
   "outputs": [
    {
     "name": "stdout",
     "output_type": "stream",
     "text": [
      "Range of Years of Experience: 1.0\n"
     ]
    }
   ],
   "source": [
    "range = df['Annealing_Time (hrs)'].max() - df['Annealing_Time (hrs)'].min()\n",
    "print(\"Range of Years of Experience:\", range)"
   ]
  },
  {
   "cell_type": "code",
   "execution_count": null,
   "id": "586e7d52-db10-4838-a2ec-bff7d301a0f2",
   "metadata": {},
   "outputs": [],
   "source": []
  },
  {
   "cell_type": "markdown",
   "id": "b12398c0-fad1-42d0-a74f-f5f88eaf9496",
   "metadata": {},
   "source": [
    "Third Moment Business Decision / Skewness"
   ]
  },
  {
   "cell_type": "code",
   "execution_count": 213,
   "id": "e48b6a1e-1e05-46b8-84bd-45fa26381ffa",
   "metadata": {},
   "outputs": [
    {
     "name": "stdout",
     "output_type": "stream",
     "text": [
      "0.469617941520251\n"
     ]
    }
   ],
   "source": [
    "skewness = df['Annealing_Time (hrs)'].skew()\n",
    "print(skewness)"
   ]
  },
  {
   "cell_type": "code",
   "execution_count": null,
   "id": "924fc4c9-c9d2-43f9-bb91-a682f03e139e",
   "metadata": {},
   "outputs": [],
   "source": []
  },
  {
   "cell_type": "markdown",
   "id": "1e44580a-ebfb-4ac1-8664-36a41ea1b86f",
   "metadata": {},
   "source": [
    "Fourth Moment Business Decision / Kurtosis"
   ]
  },
  {
   "cell_type": "code",
   "execution_count": 217,
   "id": "a3bd783f-9d4e-4c44-bbb0-1212fdfc532b",
   "metadata": {},
   "outputs": [
    {
     "name": "stdout",
     "output_type": "stream",
     "text": [
      "0.2379052490776612\n"
     ]
    }
   ],
   "source": [
    "kurtosis = df['Annealing_Time (hrs)'].kurtosis()\n",
    "print(kurtosis)"
   ]
  },
  {
   "cell_type": "code",
   "execution_count": null,
   "id": "dc26ad8f-6649-4e66-8bab-caa1a4dfca28",
   "metadata": {},
   "outputs": [],
   "source": []
  },
  {
   "cell_type": "markdown",
   "id": "80f82f4c-a908-413e-8098-053264123759",
   "metadata": {},
   "source": [
    "# Downtime (hrs)"
   ]
  },
  {
   "cell_type": "markdown",
   "id": "ffad7145-a62a-40c5-8718-7750991d930d",
   "metadata": {},
   "source": [
    "First Moment Business Decision / Measures of Central Tendency"
   ]
  },
  {
   "cell_type": "code",
   "execution_count": 222,
   "id": "e682d3ce-667f-46e8-adb9-94b70b01a13a",
   "metadata": {},
   "outputs": [
    {
     "name": "stdout",
     "output_type": "stream",
     "text": [
      "0.3497646267652993\n"
     ]
    }
   ],
   "source": [
    "Mean = df['Downtime (hrs)'].mean()\n",
    "print(Mean)"
   ]
  },
  {
   "cell_type": "code",
   "execution_count": 224,
   "id": "34a91756-d050-423a-a53d-3677bf203b80",
   "metadata": {},
   "outputs": [
    {
     "name": "stdout",
     "output_type": "stream",
     "text": [
      "0.351714862138534\n"
     ]
    }
   ],
   "source": [
    "Median = df['Downtime (hrs)'].median()\n",
    "print(Median)"
   ]
  },
  {
   "cell_type": "code",
   "execution_count": 226,
   "id": "fce4b8ca-6936-4cc4-b611-1a6d99fe5f33",
   "metadata": {},
   "outputs": [
    {
     "name": "stdout",
     "output_type": "stream",
     "text": [
      "0    0.351715\n",
      "Name: Downtime (hrs), dtype: float64\n"
     ]
    }
   ],
   "source": [
    "Mode = df['Downtime (hrs)'].mode()\n",
    "print(Mode)"
   ]
  },
  {
   "cell_type": "code",
   "execution_count": null,
   "id": "f754ec1d-b567-4b6f-9da4-4b43fba46c7b",
   "metadata": {},
   "outputs": [],
   "source": []
  },
  {
   "cell_type": "markdown",
   "id": "00be88ba-e490-4c01-9ef4-40b678594695",
   "metadata": {},
   "source": [
    "Second Moment Business Decision / Measures of Dispersion"
   ]
  },
  {
   "cell_type": "code",
   "execution_count": 230,
   "id": "f9ee45c2-544e-4d3e-99af-39cd508a3a99",
   "metadata": {},
   "outputs": [
    {
     "name": "stdout",
     "output_type": "stream",
     "text": [
      "Standard Deviation of Downtime (hrs)): 0.20693523366522715\n"
     ]
    }
   ],
   "source": [
    "Standard_Deviation = df['Downtime (hrs)'].std()\n",
    "print(\"Standard Deviation of Downtime (hrs)):\", Standard_Deviation)"
   ]
  },
  {
   "cell_type": "code",
   "execution_count": 232,
   "id": "223fa74d-9fef-43f9-9b5e-f6ec3162f0da",
   "metadata": {},
   "outputs": [
    {
     "name": "stdout",
     "output_type": "stream",
     "text": [
      "Variance of Downtime (hrs): 0.04282219093208216\n"
     ]
    }
   ],
   "source": [
    "variance = df['Downtime (hrs)'].var()\n",
    "print(\"Variance of Downtime (hrs):\", variance)"
   ]
  },
  {
   "cell_type": "code",
   "execution_count": 234,
   "id": "a365dd1a-d2e6-4f1a-a941-ce5f8d420d51",
   "metadata": {},
   "outputs": [
    {
     "name": "stdout",
     "output_type": "stream",
     "text": [
      "Range of Years of Experience: 0.9999999999999999\n"
     ]
    }
   ],
   "source": [
    "range = df['Downtime (hrs)'].max() - df['Downtime (hrs)'].min()\n",
    "print(\"Range of Years of Experience:\", range)"
   ]
  },
  {
   "cell_type": "code",
   "execution_count": null,
   "id": "8a3b4c97-2f48-4632-8a5c-7985f678a73a",
   "metadata": {},
   "outputs": [],
   "source": []
  },
  {
   "cell_type": "markdown",
   "id": "0040add1-7d41-4737-a630-74ad2d6097c7",
   "metadata": {},
   "source": [
    "Third Moment Business Decision / Skewness"
   ]
  },
  {
   "cell_type": "code",
   "execution_count": 238,
   "id": "000e4d29-c42a-47e9-ae1e-7fbc1c14e498",
   "metadata": {},
   "outputs": [
    {
     "name": "stdout",
     "output_type": "stream",
     "text": [
      "0.26404294722006805\n"
     ]
    }
   ],
   "source": [
    "skewness = df['Downtime (hrs)'].skew()\n",
    "print(skewness)"
   ]
  },
  {
   "cell_type": "code",
   "execution_count": null,
   "id": "6c048735-7b9b-434a-a19e-2c0816102d0a",
   "metadata": {},
   "outputs": [],
   "source": []
  },
  {
   "cell_type": "markdown",
   "id": "d604f911-a49a-47ef-ad3e-8902d1d2dd04",
   "metadata": {},
   "source": [
    "Fourth Moment Business Decision / Kurtosis"
   ]
  },
  {
   "cell_type": "code",
   "execution_count": 242,
   "id": "bd551080-b77b-4289-b513-35aa738c5d89",
   "metadata": {},
   "outputs": [
    {
     "name": "stdout",
     "output_type": "stream",
     "text": [
      "-0.19498543605829832\n"
     ]
    }
   ],
   "source": [
    "kurtosis = df['Downtime (hrs)'].kurtosis()\n",
    "print(kurtosis)"
   ]
  },
  {
   "cell_type": "code",
   "execution_count": null,
   "id": "f063af7b-5db8-42e1-a22e-b90c643b9f83",
   "metadata": {},
   "outputs": [],
   "source": []
  },
  {
   "cell_type": "markdown",
   "id": "a2de76cb-2923-49d6-9c28-2dde7a383f93",
   "metadata": {},
   "source": [
    "# Ambient_Temperature (Â°C)"
   ]
  },
  {
   "cell_type": "markdown",
   "id": "af32c8f1-5c77-4034-9f4c-e25acd77bda6",
   "metadata": {},
   "source": [
    "First Moment Business Decision / Measures of Central Tendency"
   ]
  },
  {
   "cell_type": "code",
   "execution_count": 249,
   "id": "e5e08db6-8b53-4b4f-82a5-5e2f0bb9afff",
   "metadata": {},
   "outputs": [
    {
     "name": "stdout",
     "output_type": "stream",
     "text": [
      "0.33900529100529103\n"
     ]
    }
   ],
   "source": [
    "Mean = df['Ambient_Temperature (°C)'].mean()\n",
    "print(Mean)"
   ]
  },
  {
   "cell_type": "code",
   "execution_count": 251,
   "id": "3d625ce3-49d3-4ddc-858e-a11618949eac",
   "metadata": {},
   "outputs": [
    {
     "name": "stdout",
     "output_type": "stream",
     "text": [
      "0.328042328042328\n"
     ]
    }
   ],
   "source": [
    "Median = df['Ambient_Temperature (°C)'].median()\n",
    "print(Median)"
   ]
  },
  {
   "cell_type": "code",
   "execution_count": 253,
   "id": "7e868dfb-6b11-4ae0-9bc9-5419971fac32",
   "metadata": {},
   "outputs": [
    {
     "name": "stdout",
     "output_type": "stream",
     "text": [
      "0    0.328042\n",
      "Name: Ambient_Temperature (°C), dtype: float64\n"
     ]
    }
   ],
   "source": [
    "Mode = df['Ambient_Temperature (°C)'].mode()\n",
    "print(Mode)"
   ]
  },
  {
   "cell_type": "code",
   "execution_count": null,
   "id": "286b3e8d-04c7-4209-8d8c-9d9911ac0800",
   "metadata": {},
   "outputs": [],
   "source": []
  },
  {
   "cell_type": "markdown",
   "id": "b02d5eb6-dbe5-45d1-b54f-bdd3b1215138",
   "metadata": {},
   "source": [
    "Second Moment Business Decision / Measures of Dispersion"
   ]
  },
  {
   "cell_type": "code",
   "execution_count": 257,
   "id": "da08ac5e-0978-47c4-a4bd-0c0fdaeb5084",
   "metadata": {},
   "outputs": [
    {
     "name": "stdout",
     "output_type": "stream",
     "text": [
      "Standard Deviation of Ambient_Temperature (°C)): 0.21076170582514953\n"
     ]
    }
   ],
   "source": [
    "Standard_Deviation = df['Ambient_Temperature (°C)'].std()\n",
    "print(\"Standard Deviation of Ambient_Temperature (°C)):\", Standard_Deviation)"
   ]
  },
  {
   "cell_type": "code",
   "execution_count": 259,
   "id": "66fa80b7-31e0-4b7d-bff9-a9ec7f77f57a",
   "metadata": {},
   "outputs": [
    {
     "name": "stdout",
     "output_type": "stream",
     "text": [
      "Variance of Downtime (hrs): 0.04442049664232687\n"
     ]
    }
   ],
   "source": [
    "variance = df['Ambient_Temperature (°C)'].var()\n",
    "print(\"Variance of Downtime (hrs):\", variance)"
   ]
  },
  {
   "cell_type": "code",
   "execution_count": 261,
   "id": "1a4bcbcc-75af-4813-8d09-4cc2366f977f",
   "metadata": {},
   "outputs": [
    {
     "name": "stdout",
     "output_type": "stream",
     "text": [
      "Range of Years of Experience: 1.0\n"
     ]
    }
   ],
   "source": [
    "range = df['Ambient_Temperature (°C)'].max() - df['Downtime (hrs)'].min()\n",
    "print(\"Range of Years of Experience:\", range)"
   ]
  },
  {
   "cell_type": "code",
   "execution_count": null,
   "id": "305d7db4-c957-43ac-8201-b289b1bf2235",
   "metadata": {},
   "outputs": [],
   "source": []
  },
  {
   "cell_type": "markdown",
   "id": "ee067e27-a8c6-4dc7-b1fe-fcc8737b763c",
   "metadata": {},
   "source": [
    "Third Moment Business Decision / Skewness"
   ]
  },
  {
   "cell_type": "code",
   "execution_count": 265,
   "id": "35072311-c6dc-41c4-a586-b5bce2ca3733",
   "metadata": {},
   "outputs": [
    {
     "name": "stdout",
     "output_type": "stream",
     "text": [
      "0.5113722433730514\n"
     ]
    }
   ],
   "source": [
    "skewness = df['Ambient_Temperature (°C)'].skew()\n",
    "print(skewness)"
   ]
  },
  {
   "cell_type": "code",
   "execution_count": null,
   "id": "fd139d4f-c9a3-41a8-93fb-5581d787f99d",
   "metadata": {},
   "outputs": [],
   "source": []
  },
  {
   "cell_type": "markdown",
   "id": "8717bb62-3683-4620-9423-a689dc4b2ed9",
   "metadata": {},
   "source": [
    "Fourth Moment Business Decision / Kurtosis"
   ]
  },
  {
   "cell_type": "code",
   "execution_count": 269,
   "id": "023ca0e7-430f-4f47-b95c-aa17ba087e68",
   "metadata": {},
   "outputs": [
    {
     "name": "stdout",
     "output_type": "stream",
     "text": [
      "0.15636641818504682\n"
     ]
    }
   ],
   "source": [
    "kurtosis = df['Ambient_Temperature (°C)'].kurtosis()\n",
    "print(kurtosis)"
   ]
  },
  {
   "cell_type": "code",
   "execution_count": null,
   "id": "8f4bcb48-35a9-4d64-a324-07ee672d9eaa",
   "metadata": {},
   "outputs": [],
   "source": []
  },
  {
   "cell_type": "markdown",
   "id": "710dd073-c3d7-483f-ab87-63680fbc9094",
   "metadata": {},
   "source": [
    "# Recycled_Content (%)"
   ]
  },
  {
   "cell_type": "markdown",
   "id": "cb63efc7-229a-4705-8ac1-a85d6160b1e5",
   "metadata": {},
   "source": [
    "First Moment Business Decision / Measures of Central Tendency"
   ]
  },
  {
   "cell_type": "code",
   "execution_count": 274,
   "id": "16f2256c-04ad-468f-879a-9988b7c8d439",
   "metadata": {},
   "outputs": [
    {
     "name": "stdout",
     "output_type": "stream",
     "text": [
      "0.34045000000000003\n"
     ]
    }
   ],
   "source": [
    "Mean = df['Recycled_Content (%)'].mean()\n",
    "print(Mean)"
   ]
  },
  {
   "cell_type": "code",
   "execution_count": 276,
   "id": "b4c7de1e-fec9-4fdc-ae93-cbe09b567380",
   "metadata": {},
   "outputs": [
    {
     "name": "stdout",
     "output_type": "stream",
     "text": [
      "0.325\n"
     ]
    }
   ],
   "source": [
    "Median = df['Recycled_Content (%)'].median()\n",
    "print(Median)"
   ]
  },
  {
   "cell_type": "code",
   "execution_count": 278,
   "id": "ab79a30d-2426-4847-bbcd-6193cb5f17df",
   "metadata": {},
   "outputs": [
    {
     "name": "stdout",
     "output_type": "stream",
     "text": [
      "0    0.325\n",
      "Name: Recycled_Content (%), dtype: float64\n"
     ]
    }
   ],
   "source": [
    "Mode = df['Recycled_Content (%)'].mode()\n",
    "print(Mode)"
   ]
  },
  {
   "cell_type": "code",
   "execution_count": null,
   "id": "eca03087-a8e6-471f-9551-ffa70a24942e",
   "metadata": {},
   "outputs": [],
   "source": []
  },
  {
   "cell_type": "markdown",
   "id": "b49b66bd-ce26-409c-b266-46718b9ed228",
   "metadata": {},
   "source": [
    "Second Moment Business Decision / Measures of Dispersion"
   ]
  },
  {
   "cell_type": "code",
   "execution_count": 282,
   "id": "26964596-6e52-4296-b83d-5b1be1bb5cfc",
   "metadata": {},
   "outputs": [
    {
     "name": "stdout",
     "output_type": "stream",
     "text": [
      "Standard Deviation of Recycled_Content (%)): 0.20929137143211032\n"
     ]
    }
   ],
   "source": [
    "Standard_Deviation = df['Recycled_Content (%)'].std()\n",
    "print(\"Standard Deviation of Recycled_Content (%)):\", Standard_Deviation)"
   ]
  },
  {
   "cell_type": "code",
   "execution_count": 284,
   "id": "442d8e25-f41a-4dc4-80ec-d713737d01d3",
   "metadata": {},
   "outputs": [
    {
     "name": "stdout",
     "output_type": "stream",
     "text": [
      "Variance of Recycled_Content (%): 0.04380287815593357\n"
     ]
    }
   ],
   "source": [
    "variance = df['Recycled_Content (%)'].var()\n",
    "print(\"Variance of Recycled_Content (%):\", variance)"
   ]
  },
  {
   "cell_type": "code",
   "execution_count": 286,
   "id": "4b8b2d55-8646-4a6c-ae90-d4371b2b4921",
   "metadata": {},
   "outputs": [
    {
     "name": "stdout",
     "output_type": "stream",
     "text": [
      "Range of Years of Experience: 1.0\n"
     ]
    }
   ],
   "source": [
    "range = df['Recycled_Content (%)'].max() - df['Recycled_Content (%)'].min()\n",
    "print(\"Range of Years of Experience:\", range)"
   ]
  },
  {
   "cell_type": "code",
   "execution_count": null,
   "id": "02c8ff3d-fa4a-4346-9f93-fcdc9a64e747",
   "metadata": {},
   "outputs": [],
   "source": []
  },
  {
   "cell_type": "markdown",
   "id": "36536afa-0484-46d8-83f7-0e89629e493d",
   "metadata": {},
   "source": [
    "Third Moment Business Decision / Skewness"
   ]
  },
  {
   "cell_type": "code",
   "execution_count": 290,
   "id": "df984506-6823-40eb-bcfc-6142bd25ace1",
   "metadata": {},
   "outputs": [
    {
     "name": "stdout",
     "output_type": "stream",
     "text": [
      "0.4004404819637177\n"
     ]
    }
   ],
   "source": [
    "skewness = df['Recycled_Content (%)'].skew()\n",
    "print(skewness)"
   ]
  },
  {
   "cell_type": "code",
   "execution_count": null,
   "id": "0e5c9023-16d7-41ff-9d69-a11c059ec847",
   "metadata": {},
   "outputs": [],
   "source": []
  },
  {
   "cell_type": "markdown",
   "id": "8dc318b8-407f-47c8-9edc-48c5d8dbd8ec",
   "metadata": {},
   "source": [
    "Fourth Moment Business Decision / Kurtosis"
   ]
  },
  {
   "cell_type": "code",
   "execution_count": 294,
   "id": "06571cf7-0084-41de-a8e9-3443f16b267a",
   "metadata": {},
   "outputs": [
    {
     "name": "stdout",
     "output_type": "stream",
     "text": [
      "-0.10790573871144549\n"
     ]
    }
   ],
   "source": [
    "kurtosis = df['Recycled_Content (%)'].kurtosis()\n",
    "print(kurtosis)"
   ]
  },
  {
   "cell_type": "code",
   "execution_count": null,
   "id": "e82079ef-47c4-4d17-836b-efb72e75c990",
   "metadata": {},
   "outputs": [],
   "source": []
  },
  {
   "cell_type": "markdown",
   "id": "5b670ca9-f006-4f62-9e9d-8413d9258fd8",
   "metadata": {},
   "source": [
    "# Glass_Thickness (mm)"
   ]
  },
  {
   "cell_type": "markdown",
   "id": "5774771f-4571-47c7-a3f0-cf9adede0a21",
   "metadata": {},
   "source": [
    "First Moment Business Decision / Measures of Central Tendency"
   ]
  },
  {
   "cell_type": "code",
   "execution_count": 299,
   "id": "8fb27370-51cc-4014-9281-69765aba0bc3",
   "metadata": {},
   "outputs": [
    {
     "name": "stdout",
     "output_type": "stream",
     "text": [
      "0.368329377654912\n"
     ]
    }
   ],
   "source": [
    "Mean = df['Glass_Thickness (mm)'].mean()\n",
    "print(Mean)"
   ]
  },
  {
   "cell_type": "code",
   "execution_count": 301,
   "id": "0dd3dc48-011e-4c57-9c74-11bcace72c97",
   "metadata": {},
   "outputs": [
    {
     "name": "stdout",
     "output_type": "stream",
     "text": [
      "0.3603263434697593\n"
     ]
    }
   ],
   "source": [
    "Median = df['Glass_Thickness (mm)'].median()\n",
    "print(Median)"
   ]
  },
  {
   "cell_type": "code",
   "execution_count": 303,
   "id": "d1be5487-91e9-420a-b1c1-fb753fd11880",
   "metadata": {},
   "outputs": [
    {
     "name": "stdout",
     "output_type": "stream",
     "text": [
      "0    0.360326\n",
      "Name: Glass_Thickness (mm), dtype: float64\n"
     ]
    }
   ],
   "source": [
    "Mode = df['Glass_Thickness (mm)'].mode()\n",
    "print(Mode)"
   ]
  },
  {
   "cell_type": "code",
   "execution_count": null,
   "id": "79eb434c-3e02-4ebc-8e11-8a4ac36a0798",
   "metadata": {},
   "outputs": [],
   "source": []
  },
  {
   "cell_type": "markdown",
   "id": "b718d164-6d6d-4fc3-be63-3c28c2a1aeb3",
   "metadata": {},
   "source": [
    "Second Moment Business Decision / Measures of Dispersion"
   ]
  },
  {
   "cell_type": "code",
   "execution_count": 307,
   "id": "b1d289b8-84b4-438d-8806-ca7c238839b4",
   "metadata": {},
   "outputs": [
    {
     "name": "stdout",
     "output_type": "stream",
     "text": [
      "Standard Deviation of Glass_Thickness (mm)): 0.21076739469970104\n"
     ]
    }
   ],
   "source": [
    "Standard_Deviation = df['Glass_Thickness (mm)'].std()\n",
    "print(\"Standard Deviation of Glass_Thickness (mm)):\", Standard_Deviation)"
   ]
  },
  {
   "cell_type": "code",
   "execution_count": 309,
   "id": "efa8e9ee-f905-4ba8-ae9b-5fb34eb16736",
   "metadata": {},
   "outputs": [
    {
     "name": "stdout",
     "output_type": "stream",
     "text": [
      "Variance of Glass_Thickness (mm): 0.04442289466849957\n"
     ]
    }
   ],
   "source": [
    "variance = df['Glass_Thickness (mm)'].var()\n",
    "print(\"Variance of Glass_Thickness (mm):\", variance)"
   ]
  },
  {
   "cell_type": "code",
   "execution_count": 311,
   "id": "025fc3b8-3617-4d08-a0cb-aab8d6b98f15",
   "metadata": {},
   "outputs": [
    {
     "name": "stdout",
     "output_type": "stream",
     "text": [
      "Range of Years of Experience: 0.9999999999999999\n"
     ]
    }
   ],
   "source": [
    "range = df['Glass_Thickness (mm)'].max() - df['Glass_Thickness (mm)'].min()\n",
    "print(\"Range of Years of Experience:\", range)"
   ]
  },
  {
   "cell_type": "code",
   "execution_count": null,
   "id": "404f02ab-c26e-4e83-9098-37e3c71338c4",
   "metadata": {},
   "outputs": [],
   "source": []
  },
  {
   "cell_type": "markdown",
   "id": "ff225e0a-4da2-4407-9388-4c3f298202ae",
   "metadata": {},
   "source": [
    "Third Moment Business Decision / Skewness"
   ]
  },
  {
   "cell_type": "code",
   "execution_count": 315,
   "id": "26034dfa-a770-461a-8893-7fa7df0bc9b2",
   "metadata": {},
   "outputs": [
    {
     "name": "stdout",
     "output_type": "stream",
     "text": [
      "0.34633579960065314\n"
     ]
    }
   ],
   "source": [
    "skewness = df['Glass_Thickness (mm)'].skew()\n",
    "print(skewness)"
   ]
  },
  {
   "cell_type": "code",
   "execution_count": null,
   "id": "bdeb50e7-9a98-41dc-961a-ba53cc512bf6",
   "metadata": {},
   "outputs": [],
   "source": []
  },
  {
   "cell_type": "markdown",
   "id": "4c7fc950-a251-4b0d-a42e-495d4e01f642",
   "metadata": {},
   "source": [
    "Fourth Moment Business Decision / Kurtosis"
   ]
  },
  {
   "cell_type": "code",
   "execution_count": 319,
   "id": "1c1cdcbe-e9fc-41af-838b-600967385b56",
   "metadata": {},
   "outputs": [
    {
     "name": "stdout",
     "output_type": "stream",
     "text": [
      "-0.06886494662377007\n"
     ]
    }
   ],
   "source": [
    "kurtosis = df['Glass_Thickness (mm)'].kurtosis()\n",
    "print(kurtosis)"
   ]
  },
  {
   "cell_type": "code",
   "execution_count": null,
   "id": "4f2ab179-a802-4259-a14c-c5c1003d89a2",
   "metadata": {},
   "outputs": [],
   "source": []
  },
  {
   "cell_type": "markdown",
   "id": "612abde3-e909-4bf8-9259-247236c19081",
   "metadata": {},
   "source": [
    "# Production_Target (tons)"
   ]
  },
  {
   "cell_type": "markdown",
   "id": "cfc885e4-91be-4e00-a509-341b9a76d86e",
   "metadata": {},
   "source": [
    "First Moment Business Decision / Measures of Central Tendency"
   ]
  },
  {
   "cell_type": "code",
   "execution_count": 324,
   "id": "50d44b31-28f7-40ef-9ce2-8fd4c878ea2f",
   "metadata": {},
   "outputs": [
    {
     "name": "stdout",
     "output_type": "stream",
     "text": [
      "0.3507981514968857\n"
     ]
    }
   ],
   "source": [
    "Mean = df['Production_Target (tons)'].mean()\n",
    "print(Mean)"
   ]
  },
  {
   "cell_type": "code",
   "execution_count": 326,
   "id": "19869629-4611-4d91-819d-e27e42a35017",
   "metadata": {},
   "outputs": [
    {
     "name": "stdout",
     "output_type": "stream",
     "text": [
      "0.34653405666063897\n"
     ]
    }
   ],
   "source": [
    "Median = df['Production_Target (tons)'].median()\n",
    "print(Median)"
   ]
  },
  {
   "cell_type": "code",
   "execution_count": 328,
   "id": "93e0cd10-8aac-4e88-b23c-243338c33b48",
   "metadata": {},
   "outputs": [
    {
     "name": "stdout",
     "output_type": "stream",
     "text": [
      "0    0.346534\n",
      "Name: Production_Target (tons), dtype: float64\n"
     ]
    }
   ],
   "source": [
    "Mode = df['Production_Target (tons)'].mode()\n",
    "print(Mode)"
   ]
  },
  {
   "cell_type": "code",
   "execution_count": null,
   "id": "e88f3db3-d5af-4c46-8e11-1d8e9ee4187c",
   "metadata": {},
   "outputs": [],
   "source": []
  },
  {
   "cell_type": "markdown",
   "id": "31a998fe-ccfc-448f-9501-cda54a8b40a1",
   "metadata": {},
   "source": [
    "Second Moment Business Decision / Measures of Dispersion"
   ]
  },
  {
   "cell_type": "code",
   "execution_count": 332,
   "id": "81a7e139-a37d-4f89-96a5-e0fd7b32002c",
   "metadata": {},
   "outputs": [
    {
     "name": "stdout",
     "output_type": "stream",
     "text": [
      "Standard Deviation of Production_Target (tons)): 0.2098716734579185\n"
     ]
    }
   ],
   "source": [
    "Standard_Deviation = df['Production_Target (tons)'].std()\n",
    "print(\"Standard Deviation of Production_Target (tons)):\", Standard_Deviation)"
   ]
  },
  {
   "cell_type": "code",
   "execution_count": 334,
   "id": "1f77de75-649a-4965-b370-760b2b73f529",
   "metadata": {},
   "outputs": [
    {
     "name": "stdout",
     "output_type": "stream",
     "text": [
      "Variance of Production_Target (tons): 0.044046119320027166\n"
     ]
    }
   ],
   "source": [
    "variance = df['Production_Target (tons)'].var()\n",
    "print(\"Variance of Production_Target (tons):\", variance)"
   ]
  },
  {
   "cell_type": "code",
   "execution_count": 336,
   "id": "56f9e457-c732-48fd-9f5b-9886f67cf059",
   "metadata": {},
   "outputs": [
    {
     "name": "stdout",
     "output_type": "stream",
     "text": [
      "Range of Years of Experience: 0.9999999999999999\n"
     ]
    }
   ],
   "source": [
    "range = df['Production_Target (tons)'].max() - df['Production_Target (tons)'].min()\n",
    "print(\"Range of Years of Experience:\", range)"
   ]
  },
  {
   "cell_type": "code",
   "execution_count": null,
   "id": "54de282c-94d0-49b7-9776-8293ef46364c",
   "metadata": {},
   "outputs": [],
   "source": []
  },
  {
   "cell_type": "markdown",
   "id": "fe2766fc-ae1c-42c4-a5a8-569f82d765c0",
   "metadata": {},
   "source": [
    "Third Moment Business Decision / Skewness"
   ]
  },
  {
   "cell_type": "code",
   "execution_count": 340,
   "id": "6855db36-34a8-4375-b1aa-ad27ddf0f89c",
   "metadata": {},
   "outputs": [
    {
     "name": "stdout",
     "output_type": "stream",
     "text": [
      "0.4543196334538906\n"
     ]
    }
   ],
   "source": [
    "skewness = df['Production_Target (tons)'].skew()\n",
    "print(skewness)"
   ]
  },
  {
   "cell_type": "code",
   "execution_count": null,
   "id": "5f8851a8-27f2-4eec-aa0e-481556e6aed7",
   "metadata": {},
   "outputs": [],
   "source": []
  },
  {
   "cell_type": "markdown",
   "id": "d4f4eb22-aa46-4985-b4c0-d4575973c49e",
   "metadata": {},
   "source": [
    "Fourth Moment Business Decision / Kurtosis"
   ]
  },
  {
   "cell_type": "code",
   "execution_count": 344,
   "id": "333d9bda-fc65-4c46-b692-cacd8e4c4d3f",
   "metadata": {},
   "outputs": [
    {
     "name": "stdout",
     "output_type": "stream",
     "text": [
      "0.10923929561481183\n"
     ]
    }
   ],
   "source": [
    "kurtosis = df['Production_Target (tons)'].kurtosis()\n",
    "print(kurtosis)"
   ]
  },
  {
   "cell_type": "code",
   "execution_count": null,
   "id": "9a2e3f86-c3b1-4259-b64c-73de64a82159",
   "metadata": {},
   "outputs": [],
   "source": []
  },
  {
   "cell_type": "markdown",
   "id": "ce1e67c1-3c9f-4e56-a566-d0111fd1e16b",
   "metadata": {},
   "source": [
    "# Defects_Percentage (%)"
   ]
  },
  {
   "cell_type": "markdown",
   "id": "d046f945-7e26-4716-ac2d-471afa1cc1c4",
   "metadata": {},
   "source": [
    "First Moment Business Decision / Measures of Central Tendency"
   ]
  },
  {
   "cell_type": "code",
   "execution_count": 349,
   "id": "31f8f2de-f8c9-46dc-a085-b78278ece49d",
   "metadata": {},
   "outputs": [
    {
     "name": "stdout",
     "output_type": "stream",
     "text": [
      "0.35158435272375255\n"
     ]
    }
   ],
   "source": [
    "Mean = df['Defects_Percentage (%)'].mean()\n",
    "print(Mean)"
   ]
  },
  {
   "cell_type": "code",
   "execution_count": 351,
   "id": "954878dd-c717-4a3c-8646-fe64e313266a",
   "metadata": {},
   "outputs": [
    {
     "name": "stdout",
     "output_type": "stream",
     "text": [
      "0.3393470034321922\n"
     ]
    }
   ],
   "source": [
    "Median = df['Defects_Percentage (%)'].median()\n",
    "print(Median)"
   ]
  },
  {
   "cell_type": "code",
   "execution_count": 353,
   "id": "1244b363-4cfa-4d5d-acd6-8f3f4d0ad222",
   "metadata": {},
   "outputs": [
    {
     "name": "stdout",
     "output_type": "stream",
     "text": [
      "0    0.339347\n",
      "Name: Defects_Percentage (%), dtype: float64\n"
     ]
    }
   ],
   "source": [
    "Mode = df['Defects_Percentage (%)'].mode()\n",
    "print(Mode)"
   ]
  },
  {
   "cell_type": "code",
   "execution_count": null,
   "id": "8f8f5ce7-30e9-4df0-9906-4dbc67974588",
   "metadata": {},
   "outputs": [],
   "source": []
  },
  {
   "cell_type": "markdown",
   "id": "15e7ced8-668b-4f29-9610-af2a7229af07",
   "metadata": {},
   "source": [
    "Second Moment Business Decision / Measures of Dispersion"
   ]
  },
  {
   "cell_type": "code",
   "execution_count": 357,
   "id": "9dcbb53a-cc6b-481a-849c-7d9b6d4ad666",
   "metadata": {},
   "outputs": [
    {
     "name": "stdout",
     "output_type": "stream",
     "text": [
      "Standard Deviation of Defects_Percentage (%)): 0.2072314661712247\n"
     ]
    }
   ],
   "source": [
    "Standard_Deviation = df['Defects_Percentage (%)'].std()\n",
    "print(\"Standard Deviation of Defects_Percentage (%)):\", Standard_Deviation)"
   ]
  },
  {
   "cell_type": "code",
   "execution_count": 359,
   "id": "40137c39-4ad2-4604-a8dc-2324f5769037",
   "metadata": {},
   "outputs": [
    {
     "name": "stdout",
     "output_type": "stream",
     "text": [
      "Variance of Defects_Percentage (%): 0.04294488057147545\n"
     ]
    }
   ],
   "source": [
    "variance = df['Defects_Percentage (%)'].var()\n",
    "print(\"Variance of Defects_Percentage (%):\", variance)"
   ]
  },
  {
   "cell_type": "code",
   "execution_count": 361,
   "id": "7d3a50bc-b395-493c-ac0b-1341753f9344",
   "metadata": {},
   "outputs": [
    {
     "name": "stdout",
     "output_type": "stream",
     "text": [
      "Range of Years of Experience: 1.0\n"
     ]
    }
   ],
   "source": [
    "range = df['Defects_Percentage (%)'].max() - df['Defects_Percentage (%)'].min()\n",
    "print(\"Range of Years of Experience:\", range)"
   ]
  },
  {
   "cell_type": "code",
   "execution_count": null,
   "id": "7b88308f-7267-43a6-9dc5-5238f05cb700",
   "metadata": {},
   "outputs": [],
   "source": []
  },
  {
   "cell_type": "markdown",
   "id": "2de6b7f2-ec39-4ec3-a62a-12ab70922cd9",
   "metadata": {},
   "source": [
    "Third Moment Business Decision / Skewness"
   ]
  },
  {
   "cell_type": "code",
   "execution_count": 365,
   "id": "8b0ce0e5-efe8-4579-b84e-9cb3c81236ef",
   "metadata": {},
   "outputs": [
    {
     "name": "stdout",
     "output_type": "stream",
     "text": [
      "0.4002271818069172\n"
     ]
    }
   ],
   "source": [
    "skewness = df['Defects_Percentage (%)'].skew()\n",
    "print(skewness)"
   ]
  },
  {
   "cell_type": "code",
   "execution_count": null,
   "id": "e1908112-f0d9-45d6-bcad-94e959f77317",
   "metadata": {},
   "outputs": [],
   "source": []
  },
  {
   "cell_type": "markdown",
   "id": "1567b4f3-050d-4401-a711-bee6809fd7c0",
   "metadata": {},
   "source": [
    "Fourth Moment Business Decision / Kurtosis"
   ]
  },
  {
   "cell_type": "code",
   "execution_count": 371,
   "id": "d206cc28-2da1-43fa-b32c-a356b3e7f188",
   "metadata": {},
   "outputs": [
    {
     "name": "stdout",
     "output_type": "stream",
     "text": [
      "-0.14480158752085526\n"
     ]
    }
   ],
   "source": [
    "kurtosis = df['Defects_Percentage (%)'].kurtosis()\n",
    "print(kurtosis)"
   ]
  },
  {
   "cell_type": "code",
   "execution_count": null,
   "id": "4cc5b783-2d7b-4e0c-a753-5e5419531c8b",
   "metadata": {},
   "outputs": [],
   "source": []
  },
  {
   "cell_type": "markdown",
   "id": "76b8512e-8ddf-4d15-93f0-92d80eb524c3",
   "metadata": {},
   "source": [
    "# Melting_Time (hrs)\n"
   ]
  },
  {
   "cell_type": "markdown",
   "id": "59329992-15f6-4f31-9b4b-20725982eaba",
   "metadata": {},
   "source": [
    "First Moment Business Decision / Measures of Central Tendency"
   ]
  },
  {
   "cell_type": "code",
   "execution_count": 376,
   "id": "217f3c07-29e4-4b21-80dd-07bc121717f8",
   "metadata": {},
   "outputs": [
    {
     "name": "stdout",
     "output_type": "stream",
     "text": [
      "0.35994669509594884\n"
     ]
    }
   ],
   "source": [
    "Mean = df['Melting_Time (hrs)'].mean()\n",
    "print(Mean)"
   ]
  },
  {
   "cell_type": "code",
   "execution_count": 378,
   "id": "a3f8e80d-48da-49b1-89f9-cc51b0bf46eb",
   "metadata": {},
   "outputs": [
    {
     "name": "stdout",
     "output_type": "stream",
     "text": [
      "0.3560767590618337\n"
     ]
    }
   ],
   "source": [
    "Median = df['Melting_Time (hrs)'].median()\n",
    "print(Median)"
   ]
  },
  {
   "cell_type": "code",
   "execution_count": 380,
   "id": "d9c24e32-3306-4e4a-93b2-17a1d64d6fa8",
   "metadata": {},
   "outputs": [
    {
     "name": "stdout",
     "output_type": "stream",
     "text": [
      "0    0.356077\n",
      "Name: Melting_Time (hrs), dtype: float64\n"
     ]
    }
   ],
   "source": [
    "Mode = df['Melting_Time (hrs)'].mode()\n",
    "print(Mode)"
   ]
  },
  {
   "cell_type": "code",
   "execution_count": null,
   "id": "b7011652-e160-463c-a822-6d4728baf8a5",
   "metadata": {},
   "outputs": [],
   "source": []
  },
  {
   "cell_type": "markdown",
   "id": "9909dc3a-130b-43c8-b80f-491328f47e6f",
   "metadata": {},
   "source": [
    "Second Moment Business Decision / Measures of Dispersion"
   ]
  },
  {
   "cell_type": "code",
   "execution_count": 384,
   "id": "95a5b17a-7968-47c8-b69c-a436a0377b8c",
   "metadata": {},
   "outputs": [
    {
     "name": "stdout",
     "output_type": "stream",
     "text": [
      "Standard Deviation of Melting_Time (hrs)): 0.2102485975466475\n"
     ]
    }
   ],
   "source": [
    "Standard_Deviation = df['Melting_Time (hrs)'].std()\n",
    "print(\"Standard Deviation of Melting_Time (hrs)):\", Standard_Deviation)"
   ]
  },
  {
   "cell_type": "code",
   "execution_count": 386,
   "id": "d1f77bef-b796-46d9-ae07-b687b443baf4",
   "metadata": {},
   "outputs": [
    {
     "name": "stdout",
     "output_type": "stream",
     "text": [
      "Variance of Melting_Time (hrs): 0.04420447277033215\n"
     ]
    }
   ],
   "source": [
    "variance = df['Melting_Time (hrs)'].var()\n",
    "print(\"Variance of Melting_Time (hrs):\", variance)"
   ]
  },
  {
   "cell_type": "code",
   "execution_count": 388,
   "id": "93e14bf7-d202-4291-91f6-35038f4e9b14",
   "metadata": {},
   "outputs": [
    {
     "name": "stdout",
     "output_type": "stream",
     "text": [
      "Range of Years of Experience: 1.0\n"
     ]
    }
   ],
   "source": [
    "range = df['Melting_Time (hrs)'].max() - df['Melting_Time (hrs)'].min()\n",
    "print(\"Range of Years of Experience:\", range)"
   ]
  },
  {
   "cell_type": "code",
   "execution_count": null,
   "id": "3c7a87f4-54f0-40a2-9828-fd4f428b6347",
   "metadata": {},
   "outputs": [],
   "source": []
  },
  {
   "cell_type": "markdown",
   "id": "d08aee53-d799-4730-9427-4cff994d7f69",
   "metadata": {},
   "source": [
    "Third Moment Business Decision / Skewness"
   ]
  },
  {
   "cell_type": "code",
   "execution_count": 392,
   "id": "6029db41-2c3d-4a94-b5ba-b8d1537251ca",
   "metadata": {},
   "outputs": [
    {
     "name": "stdout",
     "output_type": "stream",
     "text": [
      "0.36094634498185646\n"
     ]
    }
   ],
   "source": [
    "skewness = df['Melting_Time (hrs)'].skew()\n",
    "print(skewness)"
   ]
  },
  {
   "cell_type": "code",
   "execution_count": null,
   "id": "6b7cb890-be26-46ac-914d-ecf74e8f0fe9",
   "metadata": {},
   "outputs": [],
   "source": []
  },
  {
   "cell_type": "markdown",
   "id": "7b584a13-d38a-4bbb-930f-d7ff82516434",
   "metadata": {},
   "source": [
    "Fourth Moment Business Decision / Kurtosis"
   ]
  },
  {
   "cell_type": "code",
   "execution_count": 396,
   "id": "abd4ab8b-d6f3-4af4-b28a-83a802eabb4d",
   "metadata": {},
   "outputs": [
    {
     "name": "stdout",
     "output_type": "stream",
     "text": [
      "-0.019154625955555282\n"
     ]
    }
   ],
   "source": [
    "kurtosis = df['Melting_Time (hrs)'].kurtosis()\n",
    "print(kurtosis)"
   ]
  },
  {
   "cell_type": "code",
   "execution_count": null,
   "id": "69a4495d-4b8a-4fcd-953f-257ca7715cf2",
   "metadata": {},
   "outputs": [],
   "source": []
  },
  {
   "cell_type": "markdown",
   "id": "f8c92eb3-d712-4867-870d-448184ccbdeb",
   "metadata": {},
   "source": [
    "# Cooling_Energy (kWh)"
   ]
  },
  {
   "cell_type": "markdown",
   "id": "06c7c3f9-50b2-4bb2-8660-6eb99db2457e",
   "metadata": {},
   "source": [
    "First Moment Business Decision / Measures of Central Tendency"
   ]
  },
  {
   "cell_type": "code",
   "execution_count": 401,
   "id": "d16a8ebf-fbed-4b85-9030-f8508e4e08e3",
   "metadata": {},
   "outputs": [
    {
     "name": "stdout",
     "output_type": "stream",
     "text": [
      "0.3541997525706365\n"
     ]
    }
   ],
   "source": [
    "Mean = df['Cooling_Energy (kWh)'].mean()\n",
    "print(Mean)"
   ]
  },
  {
   "cell_type": "code",
   "execution_count": 403,
   "id": "21429763-09de-434a-84a6-b1675ae16344",
   "metadata": {},
   "outputs": [
    {
     "name": "stdout",
     "output_type": "stream",
     "text": [
      "0.3490431192306134\n"
     ]
    }
   ],
   "source": [
    "Median = df['Cooling_Energy (kWh)'].median()\n",
    "print(Median)"
   ]
  },
  {
   "cell_type": "code",
   "execution_count": 405,
   "id": "448cb87c-bece-492d-b2fd-7ce731d74453",
   "metadata": {},
   "outputs": [
    {
     "name": "stdout",
     "output_type": "stream",
     "text": [
      "0    0.349043\n",
      "Name: Cooling_Energy (kWh), dtype: float64\n"
     ]
    }
   ],
   "source": [
    "Mode = df['Cooling_Energy (kWh)'].mode()\n",
    "print(Mode)"
   ]
  },
  {
   "cell_type": "code",
   "execution_count": null,
   "id": "1e45c634-9215-4795-9240-75eb3a5e331b",
   "metadata": {},
   "outputs": [],
   "source": []
  },
  {
   "cell_type": "markdown",
   "id": "5831fec7-8d63-49bf-bdc6-18a95940ba3a",
   "metadata": {},
   "source": [
    "Second Moment Business Decision / Measures of Dispersion"
   ]
  },
  {
   "cell_type": "code",
   "execution_count": 409,
   "id": "ceaa1c28-6185-447a-b9ec-fb8bb262cbf6",
   "metadata": {},
   "outputs": [
    {
     "name": "stdout",
     "output_type": "stream",
     "text": [
      "Standard Deviation of Cooling_Energy (kWh)): 0.21010650434138933\n"
     ]
    }
   ],
   "source": [
    "Standard_Deviation = df['Cooling_Energy (kWh)'].std()\n",
    "print(\"Standard Deviation of Cooling_Energy (kWh)):\", Standard_Deviation)"
   ]
  },
  {
   "cell_type": "code",
   "execution_count": 411,
   "id": "17cc0140-9c1a-40fd-9c79-cd3f7b20c405",
   "metadata": {},
   "outputs": [
    {
     "name": "stdout",
     "output_type": "stream",
     "text": [
      "Variance of Cooling_Energy (kWh): 0.044144743166558253\n"
     ]
    }
   ],
   "source": [
    "variance = df['Cooling_Energy (kWh)'].var()\n",
    "print(\"Variance of Cooling_Energy (kWh):\", variance)"
   ]
  },
  {
   "cell_type": "code",
   "execution_count": 413,
   "id": "a604e2b0-567c-48a7-ba51-12d68f71c72a",
   "metadata": {},
   "outputs": [
    {
     "name": "stdout",
     "output_type": "stream",
     "text": [
      "Range of Years of Experience: 0.9999999999999999\n"
     ]
    }
   ],
   "source": [
    "range = df['Cooling_Energy (kWh)'].max() - df['Cooling_Energy (kWh)'].min()\n",
    "print(\"Range of Years of Experience:\", range)"
   ]
  },
  {
   "cell_type": "code",
   "execution_count": null,
   "id": "0e70ad08-ddef-4455-be9f-0e24bf0e4f79",
   "metadata": {},
   "outputs": [],
   "source": []
  },
  {
   "cell_type": "markdown",
   "id": "9d13ad42-9075-4594-bd58-0a447bd07716",
   "metadata": {},
   "source": [
    "Third Moment Business Decision / Skewness"
   ]
  },
  {
   "cell_type": "code",
   "execution_count": 417,
   "id": "d59333af-ec2f-4146-8a19-2e6f7f72346e",
   "metadata": {},
   "outputs": [
    {
     "name": "stdout",
     "output_type": "stream",
     "text": [
      "0.40286337484550694\n"
     ]
    }
   ],
   "source": [
    "skewness = df['Cooling_Energy (kWh)'].skew()\n",
    "print(skewness)"
   ]
  },
  {
   "cell_type": "code",
   "execution_count": null,
   "id": "ae176fa6-5bca-438f-a08b-f773e84ae1b2",
   "metadata": {},
   "outputs": [],
   "source": []
  },
  {
   "cell_type": "markdown",
   "id": "1a00fd50-8b29-43c2-bc70-8152ad6b89a8",
   "metadata": {},
   "source": [
    "Fourth Moment Business Decision / Kurtosis"
   ]
  },
  {
   "cell_type": "code",
   "execution_count": 421,
   "id": "cee36cc2-242c-4fcf-bde4-6e20c489ff0a",
   "metadata": {},
   "outputs": [
    {
     "name": "stdout",
     "output_type": "stream",
     "text": [
      "0.04130552214472605\n"
     ]
    }
   ],
   "source": [
    "kurtosis = df['Cooling_Energy (kWh)'].kurtosis()\n",
    "print(kurtosis)"
   ]
  },
  {
   "cell_type": "code",
   "execution_count": null,
   "id": "d7a91fc0-bca8-4dd4-aabc-3cbb1c82f788",
   "metadata": {},
   "outputs": [],
   "source": []
  }
 ],
 "metadata": {
  "kernelspec": {
   "display_name": "Python 3 (ipykernel)",
   "language": "python",
   "name": "python3"
  },
  "language_info": {
   "codemirror_mode": {
    "name": "ipython",
    "version": 3
   },
   "file_extension": ".py",
   "mimetype": "text/x-python",
   "name": "python",
   "nbconvert_exporter": "python",
   "pygments_lexer": "ipython3",
   "version": "3.12.4"
  }
 },
 "nbformat": 4,
 "nbformat_minor": 5
}
